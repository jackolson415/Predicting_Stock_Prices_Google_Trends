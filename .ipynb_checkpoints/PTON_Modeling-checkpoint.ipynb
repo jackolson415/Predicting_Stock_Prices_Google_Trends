{
 "cells": [
  {
   "cell_type": "markdown",
   "metadata": {},
   "source": [
    "# Modeling to Predict Changes in Peloton Stock (PTON)"
   ]
  },
  {
   "cell_type": "markdown",
   "metadata": {},
   "source": [
    "PTON was first stock to make me interested in using Google Trends to predict stock price changes. Search interest for 'PTON' was at an all-time high in September 2020, and in the months following the value of the stock doubled in value. This is why I am going to model for PTON first. My hypothesis is that using Google Trends will improve my model's ability to accurately predict the rise of Peloton in 2020."
   ]
  },
  {
   "cell_type": "code",
   "execution_count": 1,
   "metadata": {},
   "outputs": [],
   "source": [
    "#Imports\n",
    "from alpha_vantage.timeseries import TimeSeries\n",
    "import requests\n",
    "import pandas as pd\n",
    "import pandas as pd                        \n",
    "from pytrends.request import TrendReq\n",
    "from IPython.display import Image\n",
    "import matplotlib.pyplot as plt\n",
    "from statsmodels.tsa.seasonal import seasonal_decompose\n",
    "from statsmodels.graphics.tsaplots import plot_pacf\n",
    "from statsmodels.tsa.arima_model import ARIMA\n",
    "\n",
    "import pandas as pd\n",
    "import numpy as np\n",
    "import matplotlib.pyplot as plt\n",
    "\n",
    "plt.style.use('fivethirtyeight')\n",
    "%matplotlib inline\n",
    "\n",
    "from datetime import datetime\n",
    "from sklearn.model_selection import train_test_split\n",
    "\n",
    "import statsmodels.api as sm\n",
    "\n",
    "# We are required to do this in order to avoid \"FutureWarning\" issues.\n",
    "from pandas.plotting import register_matplotlib_converters\n",
    "register_matplotlib_converters()"
   ]
  },
  {
   "cell_type": "code",
   "execution_count": 2,
   "metadata": {},
   "outputs": [],
   "source": [
    "#see API_setup.ipynb for how I created these functions\n",
    "def spdr_adj_close():\n",
    "    url = f'https://www.alphavantage.co/query?function=TIME_SERIES_DAILY_ADJUSTED&symbol=spy&apikey=49KFJCFS3P6CEU4F&outputsize=full'\n",
    "    r = requests.get(url)\n",
    "    data = r.json()\n",
    "    df = pd.DataFrame(data['Time Series (Daily)']).T\n",
    "    df['date'] = df.index\n",
    "    df.index = pd.to_datetime(df['date'])\n",
    "    df = df[df['date'] > '2018-01-01']\n",
    "    df = df[df['date'] < '2021-06-02']\n",
    "    df.drop(columns = 'date', inplace = True)\n",
    "    df.sort_index(inplace=True)\n",
    "    return df['5. adjusted close']\n",
    "\n",
    "def create_ticker_df (ticker):\n",
    "    '''Returns a DataFrame of stock and Google Trends data for the given ticker. The output will be daily data 1/2/18-6/1/21'''\n",
    "    #collect stock data using Alpha Vantage API\n",
    "    url = f'https://www.alphavantage.co/query?function=TIME_SERIES_DAILY_ADJUSTED&symbol={ticker}&apikey=49KFJCFS3P6CEU4F&outputsize=full'\n",
    "    r = requests.get(url)\n",
    "    data = r.json()\n",
    "    df = pd.DataFrame(data['Time Series (Daily)']).T\n",
    "    \n",
    "    #filter to include 2018.01.02 - 2021.06.01\n",
    "    df['date'] = df.index\n",
    "    df.index = pd.to_datetime(df['date'])\n",
    "    df = df[df['date'] > '2018-01-01']\n",
    "    df = df[df['date'] < '2021-06-02']\n",
    "    df.drop(columns = 'date', inplace = True)\n",
    "    df.sort_index(inplace=True)\n",
    "    \n",
    "    #add lag columns\n",
    "    days_to_lag = [1,2,3,7,30,90,365]\n",
    "    for day in days_to_lag:\n",
    "        df[f'lag_{day}'] = df['5. adjusted close'].shift(day)\n",
    "    \n",
    "    #fix dtypes and column names\n",
    "    df['spdr_adj_close'] = spdr_adj_close()\n",
    "   \n",
    "    \n",
    "    for col in df.columns:\n",
    "        df[col] = pd.to_numeric(df[col])\n",
    "    df['daily_returns'] = df['5. adjusted close'] - df['lag_1']\n",
    "    df['daily_pct_return'] = df['daily_returns']/df['5. adjusted close'].shift(1)\n",
    "    df['rolling_3d_adj_close'] = df['5. adjusted close'].rolling(3).mean()\n",
    "    df.rename(columns = {'1. open': 'open',\n",
    "                        '2. high': 'high',\n",
    "                        '3. low': 'low',\n",
    "                        '4. close': 'close',\n",
    "                        '5. adjusted close': 'adjusted_close',\n",
    "                        '6. volume': 'volume',\n",
    "                        '7. dividend amount': 'dividend amount',\n",
    "                        '8. split coefficient': 'splitcoef',\n",
    "                        'daily_returns' : 'daily_returns'}, inplace = True)\n",
    "        \n",
    "    #Collect Google Trends data using pytrends api\n",
    "    pytrend = TrendReq()\n",
    "    pytrend.build_payload(kw_list=[ticker])\n",
    "    google = pytrend.interest_over_time()\n",
    "    trends = google[ticker].resample('D', convention = 'start').pad()\n",
    "    trends = pd.DataFrame(trends)\n",
    "    trends.rename(columns = {ticker:'trend_score'}, inplace = True)\n",
    "    \n",
    "    #merge stock data with trends data\n",
    "    df = df.merge(trends, how = 'left', left_index = True, right_index = True)\n",
    "    \n",
    "    return df"
   ]
  },
  {
   "cell_type": "code",
   "execution_count": 160,
   "metadata": {},
   "outputs": [],
   "source": [
    "pton = create_ticker_df('PTON')"
   ]
  },
  {
   "cell_type": "code",
   "execution_count": 4,
   "metadata": {},
   "outputs": [
    {
     "data": {
      "text/html": [
       "<div>\n",
       "<style scoped>\n",
       "    .dataframe tbody tr th:only-of-type {\n",
       "        vertical-align: middle;\n",
       "    }\n",
       "\n",
       "    .dataframe tbody tr th {\n",
       "        vertical-align: top;\n",
       "    }\n",
       "\n",
       "    .dataframe thead th {\n",
       "        text-align: right;\n",
       "    }\n",
       "</style>\n",
       "<table border=\"1\" class=\"dataframe\">\n",
       "  <thead>\n",
       "    <tr style=\"text-align: right;\">\n",
       "      <th></th>\n",
       "      <th>open</th>\n",
       "      <th>high</th>\n",
       "      <th>low</th>\n",
       "      <th>close</th>\n",
       "      <th>adjusted_close</th>\n",
       "      <th>volume</th>\n",
       "      <th>dividend amount</th>\n",
       "      <th>splitcoef</th>\n",
       "      <th>lag_1</th>\n",
       "      <th>lag_2</th>\n",
       "      <th>lag_3</th>\n",
       "      <th>lag_7</th>\n",
       "      <th>lag_30</th>\n",
       "      <th>lag_90</th>\n",
       "      <th>lag_365</th>\n",
       "      <th>spdr_adj_close</th>\n",
       "      <th>daily_returns</th>\n",
       "      <th>daily_pct_return</th>\n",
       "      <th>rolling_3d_adj_close</th>\n",
       "      <th>trend_score</th>\n",
       "    </tr>\n",
       "    <tr>\n",
       "      <th>date</th>\n",
       "      <th></th>\n",
       "      <th></th>\n",
       "      <th></th>\n",
       "      <th></th>\n",
       "      <th></th>\n",
       "      <th></th>\n",
       "      <th></th>\n",
       "      <th></th>\n",
       "      <th></th>\n",
       "      <th></th>\n",
       "      <th></th>\n",
       "      <th></th>\n",
       "      <th></th>\n",
       "      <th></th>\n",
       "      <th></th>\n",
       "      <th></th>\n",
       "      <th></th>\n",
       "      <th></th>\n",
       "      <th></th>\n",
       "      <th></th>\n",
       "    </tr>\n",
       "  </thead>\n",
       "  <tbody>\n",
       "    <tr>\n",
       "      <th>2019-09-26</th>\n",
       "      <td>27.0000</td>\n",
       "      <td>27.980</td>\n",
       "      <td>24.75</td>\n",
       "      <td>25.76</td>\n",
       "      <td>25.76</td>\n",
       "      <td>47067673</td>\n",
       "      <td>0.0</td>\n",
       "      <td>1.0</td>\n",
       "      <td>NaN</td>\n",
       "      <td>NaN</td>\n",
       "      <td>NaN</td>\n",
       "      <td>NaN</td>\n",
       "      <td>NaN</td>\n",
       "      <td>NaN</td>\n",
       "      <td>NaN</td>\n",
       "      <td>288.129235</td>\n",
       "      <td>NaN</td>\n",
       "      <td>NaN</td>\n",
       "      <td>NaN</td>\n",
       "      <td>35</td>\n",
       "    </tr>\n",
       "    <tr>\n",
       "      <th>2019-09-27</th>\n",
       "      <td>26.1700</td>\n",
       "      <td>26.170</td>\n",
       "      <td>23.75</td>\n",
       "      <td>25.24</td>\n",
       "      <td>25.24</td>\n",
       "      <td>15975986</td>\n",
       "      <td>0.0</td>\n",
       "      <td>1.0</td>\n",
       "      <td>25.76</td>\n",
       "      <td>NaN</td>\n",
       "      <td>NaN</td>\n",
       "      <td>NaN</td>\n",
       "      <td>NaN</td>\n",
       "      <td>NaN</td>\n",
       "      <td>NaN</td>\n",
       "      <td>286.577023</td>\n",
       "      <td>-0.52</td>\n",
       "      <td>-0.020186</td>\n",
       "      <td>NaN</td>\n",
       "      <td>35</td>\n",
       "    </tr>\n",
       "    <tr>\n",
       "      <th>2019-09-30</th>\n",
       "      <td>25.2600</td>\n",
       "      <td>25.850</td>\n",
       "      <td>25.00</td>\n",
       "      <td>25.10</td>\n",
       "      <td>25.10</td>\n",
       "      <td>4482931</td>\n",
       "      <td>0.0</td>\n",
       "      <td>1.0</td>\n",
       "      <td>25.24</td>\n",
       "      <td>25.76</td>\n",
       "      <td>NaN</td>\n",
       "      <td>NaN</td>\n",
       "      <td>NaN</td>\n",
       "      <td>NaN</td>\n",
       "      <td>NaN</td>\n",
       "      <td>287.906104</td>\n",
       "      <td>-0.14</td>\n",
       "      <td>-0.005547</td>\n",
       "      <td>25.366667</td>\n",
       "      <td>21</td>\n",
       "    </tr>\n",
       "    <tr>\n",
       "      <th>2019-10-01</th>\n",
       "      <td>25.0000</td>\n",
       "      <td>25.170</td>\n",
       "      <td>22.51</td>\n",
       "      <td>22.51</td>\n",
       "      <td>22.51</td>\n",
       "      <td>8816118</td>\n",
       "      <td>0.0</td>\n",
       "      <td>1.0</td>\n",
       "      <td>25.10</td>\n",
       "      <td>25.24</td>\n",
       "      <td>25.76</td>\n",
       "      <td>NaN</td>\n",
       "      <td>NaN</td>\n",
       "      <td>NaN</td>\n",
       "      <td>NaN</td>\n",
       "      <td>284.481538</td>\n",
       "      <td>-2.59</td>\n",
       "      <td>-0.103187</td>\n",
       "      <td>24.283333</td>\n",
       "      <td>21</td>\n",
       "    </tr>\n",
       "    <tr>\n",
       "      <th>2019-10-02</th>\n",
       "      <td>22.2500</td>\n",
       "      <td>23.180</td>\n",
       "      <td>21.76</td>\n",
       "      <td>22.60</td>\n",
       "      <td>22.60</td>\n",
       "      <td>9454724</td>\n",
       "      <td>0.0</td>\n",
       "      <td>1.0</td>\n",
       "      <td>22.51</td>\n",
       "      <td>25.10</td>\n",
       "      <td>25.24</td>\n",
       "      <td>NaN</td>\n",
       "      <td>NaN</td>\n",
       "      <td>NaN</td>\n",
       "      <td>NaN</td>\n",
       "      <td>279.456254</td>\n",
       "      <td>0.09</td>\n",
       "      <td>0.003998</td>\n",
       "      <td>23.403333</td>\n",
       "      <td>21</td>\n",
       "    </tr>\n",
       "    <tr>\n",
       "      <th>...</th>\n",
       "      <td>...</td>\n",
       "      <td>...</td>\n",
       "      <td>...</td>\n",
       "      <td>...</td>\n",
       "      <td>...</td>\n",
       "      <td>...</td>\n",
       "      <td>...</td>\n",
       "      <td>...</td>\n",
       "      <td>...</td>\n",
       "      <td>...</td>\n",
       "      <td>...</td>\n",
       "      <td>...</td>\n",
       "      <td>...</td>\n",
       "      <td>...</td>\n",
       "      <td>...</td>\n",
       "      <td>...</td>\n",
       "      <td>...</td>\n",
       "      <td>...</td>\n",
       "      <td>...</td>\n",
       "      <td>...</td>\n",
       "    </tr>\n",
       "    <tr>\n",
       "      <th>2021-05-25</th>\n",
       "      <td>101.1600</td>\n",
       "      <td>102.720</td>\n",
       "      <td>98.68</td>\n",
       "      <td>99.44</td>\n",
       "      <td>99.44</td>\n",
       "      <td>9340217</td>\n",
       "      <td>0.0</td>\n",
       "      <td>1.0</td>\n",
       "      <td>101.16</td>\n",
       "      <td>100.90</td>\n",
       "      <td>100.46</td>\n",
       "      <td>96.58</td>\n",
       "      <td>122.36</td>\n",
       "      <td>165.25</td>\n",
       "      <td>32.03</td>\n",
       "      <td>416.857700</td>\n",
       "      <td>-1.72</td>\n",
       "      <td>-0.017003</td>\n",
       "      <td>100.500000</td>\n",
       "      <td>25</td>\n",
       "    </tr>\n",
       "    <tr>\n",
       "      <th>2021-05-26</th>\n",
       "      <td>99.9600</td>\n",
       "      <td>110.490</td>\n",
       "      <td>99.96</td>\n",
       "      <td>109.56</td>\n",
       "      <td>109.56</td>\n",
       "      <td>26620603</td>\n",
       "      <td>0.0</td>\n",
       "      <td>1.0</td>\n",
       "      <td>99.44</td>\n",
       "      <td>101.16</td>\n",
       "      <td>100.90</td>\n",
       "      <td>92.29</td>\n",
       "      <td>117.80</td>\n",
       "      <td>157.81</td>\n",
       "      <td>30.85</td>\n",
       "      <td>417.684956</td>\n",
       "      <td>10.12</td>\n",
       "      <td>0.101770</td>\n",
       "      <td>103.386667</td>\n",
       "      <td>25</td>\n",
       "    </tr>\n",
       "    <tr>\n",
       "      <th>2021-05-27</th>\n",
       "      <td>109.3200</td>\n",
       "      <td>112.899</td>\n",
       "      <td>106.95</td>\n",
       "      <td>112.60</td>\n",
       "      <td>112.60</td>\n",
       "      <td>13568262</td>\n",
       "      <td>0.0</td>\n",
       "      <td>1.0</td>\n",
       "      <td>109.56</td>\n",
       "      <td>99.44</td>\n",
       "      <td>101.16</td>\n",
       "      <td>95.19</td>\n",
       "      <td>119.90</td>\n",
       "      <td>150.14</td>\n",
       "      <td>31.53</td>\n",
       "      <td>417.904229</td>\n",
       "      <td>3.04</td>\n",
       "      <td>0.027747</td>\n",
       "      <td>107.200000</td>\n",
       "      <td>25</td>\n",
       "    </tr>\n",
       "    <tr>\n",
       "      <th>2021-05-28</th>\n",
       "      <td>112.4791</td>\n",
       "      <td>114.000</td>\n",
       "      <td>110.12</td>\n",
       "      <td>110.31</td>\n",
       "      <td>110.31</td>\n",
       "      <td>7663446</td>\n",
       "      <td>0.0</td>\n",
       "      <td>1.0</td>\n",
       "      <td>112.60</td>\n",
       "      <td>109.56</td>\n",
       "      <td>99.44</td>\n",
       "      <td>96.55</td>\n",
       "      <td>116.21</td>\n",
       "      <td>155.79</td>\n",
       "      <td>31.34</td>\n",
       "      <td>418.651751</td>\n",
       "      <td>-2.29</td>\n",
       "      <td>-0.020337</td>\n",
       "      <td>110.823333</td>\n",
       "      <td>25</td>\n",
       "    </tr>\n",
       "    <tr>\n",
       "      <th>2021-06-01</th>\n",
       "      <td>110.9000</td>\n",
       "      <td>112.990</td>\n",
       "      <td>108.56</td>\n",
       "      <td>108.89</td>\n",
       "      <td>108.89</td>\n",
       "      <td>7181209</td>\n",
       "      <td>0.0</td>\n",
       "      <td>1.0</td>\n",
       "      <td>110.31</td>\n",
       "      <td>112.60</td>\n",
       "      <td>109.56</td>\n",
       "      <td>100.46</td>\n",
       "      <td>107.75</td>\n",
       "      <td>158.13</td>\n",
       "      <td>32.93</td>\n",
       "      <td>418.282973</td>\n",
       "      <td>-1.42</td>\n",
       "      <td>-0.012873</td>\n",
       "      <td>110.600000</td>\n",
       "      <td>15</td>\n",
       "    </tr>\n",
       "  </tbody>\n",
       "</table>\n",
       "<p>423 rows × 20 columns</p>\n",
       "</div>"
      ],
      "text/plain": [
       "                open     high     low   close  adjusted_close    volume  \\\n",
       "date                                                                      \n",
       "2019-09-26   27.0000   27.980   24.75   25.76           25.76  47067673   \n",
       "2019-09-27   26.1700   26.170   23.75   25.24           25.24  15975986   \n",
       "2019-09-30   25.2600   25.850   25.00   25.10           25.10   4482931   \n",
       "2019-10-01   25.0000   25.170   22.51   22.51           22.51   8816118   \n",
       "2019-10-02   22.2500   23.180   21.76   22.60           22.60   9454724   \n",
       "...              ...      ...     ...     ...             ...       ...   \n",
       "2021-05-25  101.1600  102.720   98.68   99.44           99.44   9340217   \n",
       "2021-05-26   99.9600  110.490   99.96  109.56          109.56  26620603   \n",
       "2021-05-27  109.3200  112.899  106.95  112.60          112.60  13568262   \n",
       "2021-05-28  112.4791  114.000  110.12  110.31          110.31   7663446   \n",
       "2021-06-01  110.9000  112.990  108.56  108.89          108.89   7181209   \n",
       "\n",
       "            dividend amount  splitcoef   lag_1   lag_2   lag_3   lag_7  \\\n",
       "date                                                                     \n",
       "2019-09-26              0.0        1.0     NaN     NaN     NaN     NaN   \n",
       "2019-09-27              0.0        1.0   25.76     NaN     NaN     NaN   \n",
       "2019-09-30              0.0        1.0   25.24   25.76     NaN     NaN   \n",
       "2019-10-01              0.0        1.0   25.10   25.24   25.76     NaN   \n",
       "2019-10-02              0.0        1.0   22.51   25.10   25.24     NaN   \n",
       "...                     ...        ...     ...     ...     ...     ...   \n",
       "2021-05-25              0.0        1.0  101.16  100.90  100.46   96.58   \n",
       "2021-05-26              0.0        1.0   99.44  101.16  100.90   92.29   \n",
       "2021-05-27              0.0        1.0  109.56   99.44  101.16   95.19   \n",
       "2021-05-28              0.0        1.0  112.60  109.56   99.44   96.55   \n",
       "2021-06-01              0.0        1.0  110.31  112.60  109.56  100.46   \n",
       "\n",
       "            lag_30  lag_90  lag_365  spdr_adj_close  daily_returns  \\\n",
       "date                                                                 \n",
       "2019-09-26     NaN     NaN      NaN      288.129235            NaN   \n",
       "2019-09-27     NaN     NaN      NaN      286.577023          -0.52   \n",
       "2019-09-30     NaN     NaN      NaN      287.906104          -0.14   \n",
       "2019-10-01     NaN     NaN      NaN      284.481538          -2.59   \n",
       "2019-10-02     NaN     NaN      NaN      279.456254           0.09   \n",
       "...            ...     ...      ...             ...            ...   \n",
       "2021-05-25  122.36  165.25    32.03      416.857700          -1.72   \n",
       "2021-05-26  117.80  157.81    30.85      417.684956          10.12   \n",
       "2021-05-27  119.90  150.14    31.53      417.904229           3.04   \n",
       "2021-05-28  116.21  155.79    31.34      418.651751          -2.29   \n",
       "2021-06-01  107.75  158.13    32.93      418.282973          -1.42   \n",
       "\n",
       "            daily_pct_return  rolling_3d_adj_close  trend_score  \n",
       "date                                                             \n",
       "2019-09-26               NaN                   NaN           35  \n",
       "2019-09-27         -0.020186                   NaN           35  \n",
       "2019-09-30         -0.005547             25.366667           21  \n",
       "2019-10-01         -0.103187             24.283333           21  \n",
       "2019-10-02          0.003998             23.403333           21  \n",
       "...                      ...                   ...          ...  \n",
       "2021-05-25         -0.017003            100.500000           25  \n",
       "2021-05-26          0.101770            103.386667           25  \n",
       "2021-05-27          0.027747            107.200000           25  \n",
       "2021-05-28         -0.020337            110.823333           25  \n",
       "2021-06-01         -0.012873            110.600000           15  \n",
       "\n",
       "[423 rows x 20 columns]"
      ]
     },
     "execution_count": 4,
     "metadata": {},
     "output_type": "execute_result"
    }
   ],
   "source": [
    "pton"
   ]
  },
  {
   "cell_type": "markdown",
   "metadata": {},
   "source": [
    "# Baseline Model: ARIMA"
   ]
  },
  {
   "cell_type": "code",
   "execution_count": 5,
   "metadata": {},
   "outputs": [],
   "source": [
    "# Create train-test split.\n",
    "y_train = pton[pton.index < datetime(year = 2021, month = 3, day = 1)]\n",
    "y_test = pton[pton.index > datetime(year = 2021, month = 3, day = 1)]\n",
    "y_train = y_train['daily_pct_return']\n",
    "y_test = y_test['daily_pct_return'] \n",
    "y_train = pd.DataFrame(y_train)\n",
    "y_test = pd.DataFrame(y_test)\n",
    "y_train.dropna(inplace = True)\n",
    "y_test.dropna(inplace = True)"
   ]
  },
  {
   "cell_type": "code",
   "execution_count": 6,
   "metadata": {},
   "outputs": [],
   "source": [
    "from statsmodels.tsa.stattools import adfuller"
   ]
  },
  {
   "cell_type": "code",
   "execution_count": 7,
   "metadata": {},
   "outputs": [],
   "source": [
    "# Code written by Joseph Nelson.\n",
    "\n",
    "def interpret_dftest(dftest):\n",
    "    dfoutput = pd.Series(dftest[0:2], index=['Test Statistic','p-value'])\n",
    "    return dfoutput"
   ]
  },
  {
   "cell_type": "code",
   "execution_count": 8,
   "metadata": {},
   "outputs": [
    {
     "data": {
      "text/plain": [
       "Test Statistic   -1.861373e+01\n",
       "p-value           2.064081e-30\n",
       "dtype: float64"
      ]
     },
     "execution_count": 8,
     "metadata": {},
     "output_type": "execute_result"
    }
   ],
   "source": [
    "# Run ADF test on original (non-differenced!) data.\n",
    "interpret_dftest(adfuller(y_train))"
   ]
  },
  {
   "cell_type": "markdown",
   "metadata": {},
   "source": [
    "Since our p-value is approaching zero that means that our daily_pct_return data is stationary and we are permitted to use an ARIMA model. It makes sense that the daily_pct_return data is stationary considering it's already differenced. The adjusted_close data is not stationary, there has been a lot of movement in the stock price since it's IPO in 2019."
   ]
  },
  {
   "cell_type": "code",
   "execution_count": 10,
   "metadata": {},
   "outputs": [],
   "source": [
    "import warnings"
   ]
  },
  {
   "cell_type": "code",
   "execution_count": 13,
   "metadata": {},
   "outputs": [],
   "source": [
    "warnings.filterwarnings('ignore')"
   ]
  },
  {
   "cell_type": "code",
   "execution_count": 14,
   "metadata": {},
   "outputs": [
    {
     "name": "stdout",
     "output_type": "stream",
     "text": [
      "Attempting to fit ARIMA(0,1,0)\n",
      "The AIC for ARIMA(0,1,0) is: -934.0440909911908\n",
      "Attempting to fit ARIMA(0,1,1)\n",
      "The AIC for ARIMA(0,1,1) is: -1168.7877074340872\n",
      "Attempting to fit ARIMA(0,1,2)\n",
      "The AIC for ARIMA(0,1,2) is: -1166.8521823487522\n",
      "Attempting to fit ARIMA(0,1,3)\n",
      "The AIC for ARIMA(0,1,3) is: -1165.454779190161\n",
      "Attempting to fit ARIMA(0,1,4)\n",
      "The AIC for ARIMA(0,1,4) is: -1163.590455447542\n",
      "Attempting to fit ARIMA(1,1,0)\n",
      "The AIC for ARIMA(1,1,0) is: -1021.8127839383114\n",
      "Attempting to fit ARIMA(1,1,1)\n",
      "The AIC for ARIMA(1,1,1) is: -1166.8470012794514\n",
      "Attempting to fit ARIMA(1,1,2)\n",
      "The AIC for ARIMA(1,1,2) is: -1166.099094316111\n",
      "Attempting to fit ARIMA(1,1,3)\n",
      "The AIC for ARIMA(1,1,3) is: -1164.441965703711\n",
      "Attempting to fit ARIMA(1,1,4)\n",
      "The AIC for ARIMA(1,1,4) is: -1164.5767382357744\n",
      "Attempting to fit ARIMA(2,1,0)\n",
      "The AIC for ARIMA(2,1,0) is: -1063.693551571017\n",
      "Attempting to fit ARIMA(2,1,1)\n",
      "The AIC for ARIMA(2,1,1) is: -1165.4277454320309\n",
      "Attempting to fit ARIMA(2,1,2)\n",
      "The AIC for ARIMA(2,1,2) is: -1164.4024860798809\n",
      "Attempting to fit ARIMA(2,1,3)\n",
      "The AIC for ARIMA(2,1,3) is: -1178.2156697976993\n",
      "Attempting to fit ARIMA(2,1,4)\n",
      "The AIC for ARIMA(2,1,4) is: -1177.2828386650676\n",
      "Attempting to fit ARIMA(3,1,0)\n",
      "The AIC for ARIMA(3,1,0) is: -1081.8837449730586\n",
      "Attempting to fit ARIMA(3,1,1)\n",
      "The AIC for ARIMA(3,1,1) is: -1163.518148129639\n",
      "Attempting to fit ARIMA(3,1,2)\n",
      "The AIC for ARIMA(3,1,2) is: -1161.4242351284615\n",
      "Attempting to fit ARIMA(3,1,3)\n",
      "The AIC for ARIMA(3,1,3) is: -1177.4728475290694\n",
      "Attempting to fit ARIMA(3,1,4)\n",
      "The AIC for ARIMA(3,1,4) is: -1176.9427397301242\n",
      "Attempting to fit ARIMA(4,1,0)\n",
      "The AIC for ARIMA(4,1,0) is: -1092.1729058980068\n",
      "Attempting to fit ARIMA(4,1,1)\n",
      "The AIC for ARIMA(4,1,1) is: -1162.0949144488432\n",
      "Attempting to fit ARIMA(4,1,2)\n",
      "The AIC for ARIMA(4,1,2) is: -1162.3399890153678\n",
      "Attempting to fit ARIMA(4,1,3)\n",
      "The AIC for ARIMA(4,1,3) is: -1161.1339461797124\n",
      "Attempting to fit ARIMA(4,1,4)\n",
      "The AIC for ARIMA(4,1,4) is: -1159.4018805871751\n",
      "\n",
      "\n",
      "MODEL FINISHED!\n",
      "Our model that minimizes AIC on the training data is the ARIMA(2,1,3).\n",
      "This model has an AIC of -1178.2156697976993.\n"
     ]
    }
   ],
   "source": [
    "# Starting AIC, p, and q.\n",
    "best_aic = 99 * (10 ** 16)\n",
    "best_p = 0\n",
    "best_q = 0\n",
    "\n",
    "# Use nested for loop to iterate over values of p and q.\n",
    "for p in range(5):\n",
    "    for q in range(5):\n",
    "        \n",
    "        # Insert try and except statements.\n",
    "        try:\n",
    "            \n",
    "            # Fitting an ARIMA(p, 1, q) model.\n",
    "            print(f'Attempting to fit ARIMA({p},1,{q})')\n",
    "            \n",
    "            # Instantiate ARIMA model.\n",
    "            arima = ARIMA(endog = y_train.astype(float).dropna(), # endog = Y variable\n",
    "                          order = (p,1,q)) # values of p, d, q\n",
    "            \n",
    "            # Fit ARIMA model.\n",
    "            model = arima.fit()\n",
    "\n",
    "            # Print out AIC for ARIMA(p, 1, q) model.\n",
    "            print(f'The AIC for ARIMA({p},1,{q}) is: {model.aic}')\n",
    "\n",
    "            # Is my current model's AIC better than our best_aic?\n",
    "            if model.aic < best_aic:\n",
    "                \n",
    "                # If so, let's overwrite best_aic, best_p, and best_q.\n",
    "                best_aic = model.aic\n",
    "                best_p = p\n",
    "                best_q = q\n",
    "\n",
    "        except:\n",
    "            pass\n",
    "print()\n",
    "print()\n",
    "print('MODEL FINISHED!')\n",
    "print(f'Our model that minimizes AIC on the training data is the ARIMA({best_p},1,{best_q}).')\n",
    "print(f'This model has an AIC of {best_aic}.')"
   ]
  },
  {
   "cell_type": "code",
   "execution_count": 15,
   "metadata": {},
   "outputs": [],
   "source": [
    "import datetime as dt"
   ]
  },
  {
   "cell_type": "code",
   "execution_count": 16,
   "metadata": {},
   "outputs": [],
   "source": [
    "#y_test = y_test.asfreq('d')\n",
    "#y_test.dropna(inplace = True)"
   ]
  },
  {
   "cell_type": "code",
   "execution_count": 17,
   "metadata": {},
   "outputs": [
    {
     "data": {
      "image/png": "[encoded data removed]",
      "text/plain": [
       "<Figure size 720x432 with 1 Axes>"
      ]
     },
     "metadata": {
      "needs_background": "light"
     },
     "output_type": "display_data"
    }
   ],
   "source": [
    "# Instantiate best model.\n",
    "model = ARIMA(endog = y_train.astype(float).dropna(), # endog = Y variable\n",
    "              order = (2,1,3))\n",
    "\n",
    "# Fit ARIMA model.\n",
    "arima = model.fit()\n",
    "\n",
    "# Generate predictions based on test set.\n",
    "preds = model.predict(params = arima.params)\n",
    "preds= preds[292:]\n",
    "\n",
    "# Plot data.\n",
    "plt.figure(figsize=(10,6))\n",
    "\n",
    "# Plot training data.\n",
    "plt.plot(y_train.index, pd.DataFrame(y_train), color = 'blue')\n",
    "\n",
    "# Plot testing data.\n",
    "plt.plot(y_test.index, pd.DataFrame(y_test), color = 'orange')\n",
    "\n",
    "# Plot predicted test values.\n",
    "plt.plot(y_test.index, preds, color = 'green')\n",
    "\n",
    "plt.title(label = 'PTON Daily % Return with ARIMA(2, 1, 3) Predictions', fontsize=16)\n",
    "plt.show();"
   ]
  },
  {
   "cell_type": "code",
   "execution_count": 18,
   "metadata": {},
   "outputs": [],
   "source": [
    "start = 123.81\n",
    "def make_predicted_adj_close_df(start_adj_close, preds):\n",
    "    mylist = []\n",
    "    #mylist = [start_adj_close]\n",
    "    for day in preds:\n",
    "        try:\n",
    "            mylist.append(mylist[-1]*(1+day))\n",
    "        except:\n",
    "            mylist.append(start_adj_close)\n",
    "    return mylist"
   ]
  },
  {
   "cell_type": "code",
   "execution_count": 19,
   "metadata": {},
   "outputs": [],
   "source": [
    "predicted_adj_close = make_predicted_adj_close_df(start, preds)"
   ]
  },
  {
   "cell_type": "code",
   "execution_count": 20,
   "metadata": {},
   "outputs": [],
   "source": [
    "close_train = pton[pton.index < datetime(year = 2021, month = 3, day = 1)]\n",
    "close_test = pton[pton.index > datetime(year = 2021, month = 3, day = 1)]\n",
    "close_train = close_train['adjusted_close']\n",
    "close_test = close_test['adjusted_close'] \n",
    "close_train = pd.DataFrame(close_train)\n",
    "close_test = pd.DataFrame(close_test)"
   ]
  },
  {
   "cell_type": "code",
   "execution_count": 21,
   "metadata": {},
   "outputs": [
    {
     "data": {
      "image/png": "[encoded data removed]",
      "text/plain": [
       "<Figure size 720x432 with 1 Axes>"
      ]
     },
     "metadata": {
      "needs_background": "light"
     },
     "output_type": "display_data"
    }
   ],
   "source": [
    "plt.figure(figsize=(10,6))\n",
    "\n",
    "# Plot training data.\n",
    "plt.plot(close_train.index, pd.DataFrame(close_train), color = 'blue')\n",
    "\n",
    "# Plot testing data.\n",
    "plt.plot(close_test.index, pd.DataFrame(close_test), color = 'orange')\n",
    "\n",
    "# Plot predicted test values.\n",
    "plt.plot(close_test.index, predicted_adj_close, color = 'green')\n",
    "\n",
    "plt.title(label = 'PTON Adjusted Close with ARIMA(2, 1, 3) Predictions', fontsize=16)\n",
    "plt.show();"
   ]
  },
  {
   "cell_type": "markdown",
   "metadata": {},
   "source": [
    "The Blue and yellow lines above are the actual PTON adjusted close amounts. The green line is the ARIMA predictions. As we can see the green line is not close to what actually happened. For a baseline model, however, this is a fine start.\n",
    "\n",
    "\n",
    "The next step will be to see if we can improve upon this by incorporating Google Trends data.\n",
    "\n"
   ]
  },
  {
   "cell_type": "markdown",
   "metadata": {},
   "source": [
    "# ARIMA Model with Exogeneous Predictors"
   ]
  },
  {
   "cell_type": "code",
   "execution_count": 22,
   "metadata": {},
   "outputs": [],
   "source": [
    "gt_train = pton[pton.index < datetime(year = 2021, month = 3, day = 1)]\n",
    "gt_train['diff_trend_score']= gt_train['trend_score'].diff(1)\n",
    "\n",
    "gt_train = gt_train['diff_trend_score']\n",
    "\n",
    "endog = y_train.astype(float).dropna()\n",
    "exog = sm.add_constant(gt_train.astype(float).dropna())"
   ]
  },
  {
   "cell_type": "code",
   "execution_count": 23,
   "metadata": {},
   "outputs": [
    {
     "data": {
      "text/plain": [
       "(357, 1)"
      ]
     },
     "execution_count": 23,
     "metadata": {},
     "output_type": "execute_result"
    }
   ],
   "source": [
    "endog.shape"
   ]
  },
  {
   "cell_type": "code",
   "execution_count": 24,
   "metadata": {},
   "outputs": [
    {
     "data": {
      "text/plain": [
       "(357, 2)"
      ]
     },
     "execution_count": 24,
     "metadata": {},
     "output_type": "execute_result"
    }
   ],
   "source": [
    "exog.shape"
   ]
  },
  {
   "cell_type": "code",
   "execution_count": 55,
   "metadata": {},
   "outputs": [
    {
     "name": "stdout",
     "output_type": "stream",
     "text": [
      "                               SARIMAX Results                                \n",
      "==============================================================================\n",
      "Dep. Variable:       daily_pct_return   No. Observations:                  357\n",
      "Model:               SARIMAX(2, 1, 3)   Log Likelihood                 580.338\n",
      "Date:                Wed, 14 Jul 2021   AIC                          -1142.676\n",
      "Time:                        09:37:19   BIC                          -1107.801\n",
      "Sample:                             0   HQIC                         -1128.803\n",
      "                                - 357                                         \n",
      "Covariance Type:                  opg                                         \n",
      "====================================================================================\n",
      "                       coef    std err          z      P>|z|      [0.025      0.975]\n",
      "------------------------------------------------------------------------------------\n",
      "drift             -3.73e-06   5.59e-06     -0.667      0.505   -1.47e-05    7.23e-06\n",
      "const                     0   1.13e-08          0      1.000   -2.22e-08    2.22e-08\n",
      "diff_trend_score -4.718e-05      0.000     -0.118      0.906      -0.001       0.001\n",
      "ar.L1               -1.2467      1.676     -0.744      0.457      -4.532       2.039\n",
      "ar.L2               -0.5192      1.222     -0.425      0.671      -2.913       1.875\n",
      "ma.L1                0.3718      1.677      0.222      0.825      -2.915       3.658\n",
      "ma.L2               -0.6130      1.098     -0.559      0.576      -2.764       1.538\n",
      "ma.L3               -0.4928      1.094     -0.450      0.653      -2.638       1.652\n",
      "sigma2               0.0023      0.000     14.084      0.000       0.002       0.003\n",
      "===================================================================================\n",
      "Ljung-Box (L1) (Q):                   1.35   Jarque-Bera (JB):                17.31\n",
      "Prob(Q):                              0.25   Prob(JB):                         0.00\n",
      "Heteroskedasticity (H):               0.96   Skew:                            -0.15\n",
      "Prob(H) (two-sided):                  0.81   Kurtosis:                         4.04\n",
      "===================================================================================\n",
      "\n",
      "Warnings:\n",
      "[1] Covariance matrix calculated using the outer product of gradients (complex-step).\n",
      "[2] Covariance matrix is singular or near-singular, with condition number 1.4e+17. Standard errors may be unstable.\n"
     ]
    }
   ],
   "source": [
    "mod = sm.tsa.statespace.SARIMAX(endog, exog, order=(2,1,3), trend = 't')\n",
    "res = mod.fit()\n",
    "print(res.summary())"
   ]
  },
  {
   "cell_type": "code",
   "execution_count": 56,
   "metadata": {},
   "outputs": [],
   "source": [
    "preds_with_gt = res.predict()\n",
    "preds_with_gt = preds_with_gt[292:]"
   ]
  },
  {
   "cell_type": "code",
   "execution_count": 57,
   "metadata": {},
   "outputs": [
    {
     "data": {
      "text/plain": [
       "date\n",
       "2020-11-23    0.000401\n",
       "2020-11-24   -0.000823\n",
       "2020-11-25   -0.008449\n",
       "2020-11-27   -0.003255\n",
       "2020-11-30   -0.003147\n",
       "                ...   \n",
       "2021-02-22   -0.009390\n",
       "2021-02-23   -0.020760\n",
       "2021-02-24   -0.014093\n",
       "2021-02-25   -0.018979\n",
       "2021-02-26   -0.024319\n",
       "Name: predicted_mean, Length: 65, dtype: float64"
      ]
     },
     "execution_count": 57,
     "metadata": {},
     "output_type": "execute_result"
    }
   ],
   "source": [
    "preds_with_gt"
   ]
  },
  {
   "cell_type": "code",
   "execution_count": 58,
   "metadata": {},
   "outputs": [],
   "source": [
    "predicted_adj_close = make_predicted_adj_close_df(start, preds_with_gt)\n",
    "predicted_adj_close = predicted_adj_close[1:]"
   ]
  },
  {
   "cell_type": "code",
   "execution_count": 59,
   "metadata": {},
   "outputs": [
    {
     "data": {
      "image/png": "[encoded data removed]",
      "text/plain": [
       "<Figure size 720x432 with 1 Axes>"
      ]
     },
     "metadata": {
      "needs_background": "light"
     },
     "output_type": "display_data"
    }
   ],
   "source": [
    "plt.figure(figsize=(10,6))\n",
    "\n",
    "# Plot training data.\n",
    "plt.plot(close_train.index, pd.DataFrame(close_train), color = 'blue')\n",
    "\n",
    "# Plot testing data.\n",
    "plt.plot(close_test.index, pd.DataFrame(close_test), color = 'orange')\n",
    "\n",
    "# Plot predicted test values.\n",
    "plt.plot(close_test.index, predicted_adj_close, color = 'green')\n",
    "\n",
    "plt.title(label = 'PTON Adjusted Close with ARIMA(2, 1, 3) Predictions', fontsize=16)\n",
    "plt.show();"
   ]
  },
  {
   "cell_type": "markdown",
   "metadata": {},
   "source": [
    "This SARIMAX model is looking worse than my simple ARIMA model. Both of them do not fit the testing data well, but at least the ARIMA model chart looked like more of a realistic prediction than the SARIMAX.\n",
    "\n",
    "I don't really want to get too deep into interpreting results until I've run these models on more tickers. But my expectation is that my third model, a VAR model, will be the best since VAR is good for modeling using multiple time series. Since both my stock data and trend data are time series VAR should be the best fit for my purposes."
   ]
  },
  {
   "cell_type": "markdown",
   "metadata": {},
   "source": [
    "# Vector Autoregression (VAR) Modeling"
   ]
  },
  {
   "cell_type": "markdown",
   "metadata": {},
   "source": [
    "This VAR section is highly influenced by the article \"Vector Autoregression (VAR) – Comprehensive Guide with Examples in Python\" by Selva Prabhakaran of Machine Learning +. The article can be found at https://www.machinelearningplus.com/time-series/vector-autoregression-examples-python/"
   ]
  },
  {
   "cell_type": "code",
   "execution_count": 256,
   "metadata": {},
   "outputs": [],
   "source": [
    "from statsmodels.tsa.api import VAR\n",
    "from statsmodels.tsa.stattools import adfuller\n",
    "from statsmodels.tools.eval_measures import rmse, aic\n",
    "from statsmodels.tsa.stattools import grangercausalitytests"
   ]
  },
  {
   "cell_type": "markdown",
   "metadata": {},
   "source": [
    "A VAR model is implemented when mutiple time series influence each other. If PTON's stock price influences it's trend score, and vice versa, then it is fair to use a VAR model. \n",
    "\n",
    "The easiest way to check that time series have an influence on each other is to use Greanger's Causality test. It tests the hypothesis that the past values of time series 1 do not influence the current values of time series 2. If that hypothesis can be rejected then it is fair to say that the time series have an influencing relationship."
   ]
  },
  {
   "cell_type": "code",
   "execution_count": 257,
   "metadata": {},
   "outputs": [
    {
     "data": {
      "text/html": [
       "<div>\n",
       "<style scoped>\n",
       "    .dataframe tbody tr th:only-of-type {\n",
       "        vertical-align: middle;\n",
       "    }\n",
       "\n",
       "    .dataframe tbody tr th {\n",
       "        vertical-align: top;\n",
       "    }\n",
       "\n",
       "    .dataframe thead th {\n",
       "        text-align: right;\n",
       "    }\n",
       "</style>\n",
       "<table border=\"1\" class=\"dataframe\">\n",
       "  <thead>\n",
       "    <tr style=\"text-align: right;\">\n",
       "      <th></th>\n",
       "      <th>adjusted_close_x</th>\n",
       "      <th>trend_score_x</th>\n",
       "    </tr>\n",
       "  </thead>\n",
       "  <tbody>\n",
       "    <tr>\n",
       "      <th>adjusted_close_y</th>\n",
       "      <td>1.0000</td>\n",
       "      <td>0.0374</td>\n",
       "    </tr>\n",
       "    <tr>\n",
       "      <th>trend_score_y</th>\n",
       "      <td>0.0046</td>\n",
       "      <td>1.0000</td>\n",
       "    </tr>\n",
       "  </tbody>\n",
       "</table>\n",
       "</div>"
      ],
      "text/plain": [
       "                  adjusted_close_x  trend_score_x\n",
       "adjusted_close_y            1.0000         0.0374\n",
       "trend_score_y               0.0046         1.0000"
      ]
     },
     "execution_count": 257,
     "metadata": {},
     "output_type": "execute_result"
    }
   ],
   "source": [
    "#This function is taken from Selva Prabhakaran of MachineLearningPlus.com (https://www.machinelearningplus.com/time-series/vector-autoregression-examples-python/)\n",
    "maxlag=12\n",
    "test = 'ssr_chi2test'\n",
    "def grangers_causation_matrix(data, variables, test='ssr_chi2test', verbose=False):    \n",
    "    \"\"\"Check Granger Causality of all possible combinations of the Time series.\n",
    "    The rows are the response variable, columns are predictors. The values in the table \n",
    "    are the P-Values. P-Values lesser than the significance level (0.05), implies \n",
    "    the Null Hypothesis that the coefficients of the corresponding past values is \n",
    "    zero, that is, the X does not cause Y can be rejected.\n",
    "\n",
    "    data      : pandas dataframe containing the time series variables\n",
    "    variables : list containing names of the time series variables.\n",
    "    \"\"\"\n",
    "    df = pd.DataFrame(np.zeros((len(variables), len(variables))), columns=variables, index=variables)\n",
    "    for c in df.columns:\n",
    "        for r in df.index:\n",
    "            test_result = grangercausalitytests(data[[r, c]], maxlag=maxlag, verbose=False)\n",
    "            p_values = [round(test_result[i+1][0][test][1],4) for i in range(maxlag)]\n",
    "            if verbose: print(f'Y = {r}, X = {c}, P Values = {p_values}')\n",
    "            min_p_value = np.min(p_values)\n",
    "            df.loc[r, c] = min_p_value\n",
    "    df.columns = [var + '_x' for var in variables]\n",
    "    df.index = [var + '_y' for var in variables]\n",
    "    return df\n",
    "\n",
    "grangers_causation_matrix(pton, variables = ['adjusted_close', 'trend_score'])"
   ]
  },
  {
   "cell_type": "markdown",
   "metadata": {},
   "source": [
    "Using a p-value of 5%, this test can reject the hpyothesis that adjusted_close and trend_score do not have an influence on each other. Both .0374 and .0046 are less than .05."
   ]
  },
  {
   "cell_type": "code",
   "execution_count": 258,
   "metadata": {},
   "outputs": [
    {
     "name": "stdout",
     "output_type": "stream",
     "text": [
      "Name   ::  Test Stat > C(95%)    =>   Signif  \n",
      " ----------------------------------------\n",
      "adjusted_close ::  19.54     > 12.3212   =>   True\n",
      "trend_score ::  0.12      > 4.1296    =>   False\n"
     ]
    }
   ],
   "source": [
    "#This function is taken from Selva Prabhakaran of MachineLearningPlus.com (https://www.machinelearningplus.com/time-series/vector-autoregression-examples-python/)\n",
    "\n",
    "\n",
    "from statsmodels.tsa.vector_ar.vecm import coint_johansen\n",
    "\n",
    "def cointegration_test(df, alpha=0.05): \n",
    "    \"\"\"Perform Johanson's Cointegration Test and Report Summary\"\"\"\n",
    "    out = coint_johansen(df,-1,5)\n",
    "    d = {'0.90':0, '0.95':1, '0.99':2}\n",
    "    traces = out.lr1\n",
    "    cvts = out.cvt[:, d[str(1-alpha)]]\n",
    "    def adjust(val, length= 6): return str(val).ljust(length)\n",
    "\n",
    "    # Summary\n",
    "    print('Name   ::  Test Stat > C(95%)    =>   Signif  \\n', '--'*20)\n",
    "    for col, trace, cvt in zip(df.columns, traces, cvts):\n",
    "        print(adjust(col), ':: ', adjust(round(trace,2), 9), \">\", adjust(cvt, 8), ' =>  ' , trace > cvt)\n",
    "\n",
    "cointegration_test(pton[['adjusted_close', 'trend_score']])"
   ]
  },
  {
   "cell_type": "code",
   "execution_count": 259,
   "metadata": {},
   "outputs": [],
   "source": [
    "pton['trend_score_diff'] = pton['trend_score'].diff(1)"
   ]
  },
  {
   "cell_type": "code",
   "execution_count": 260,
   "metadata": {},
   "outputs": [],
   "source": [
    "pton = pton[['adjusted_close', 'trend_score']]"
   ]
  },
  {
   "cell_type": "code",
   "execution_count": 451,
   "metadata": {},
   "outputs": [],
   "source": [
    "#train_test_split\n",
    "nobs = 10\n",
    "pton_train, pton_test = pton[0:-nobs], pton[-nobs:]"
   ]
  },
  {
   "cell_type": "code",
   "execution_count": 452,
   "metadata": {},
   "outputs": [],
   "source": [
    "pton_differenced = pton_train.diff().dropna()\n"
   ]
  },
  {
   "cell_type": "code",
   "execution_count": 453,
   "metadata": {},
   "outputs": [
    {
     "data": {
      "text/html": [
       "<div>\n",
       "<style scoped>\n",
       "    .dataframe tbody tr th:only-of-type {\n",
       "        vertical-align: middle;\n",
       "    }\n",
       "\n",
       "    .dataframe tbody tr th {\n",
       "        vertical-align: top;\n",
       "    }\n",
       "\n",
       "    .dataframe thead th {\n",
       "        text-align: right;\n",
       "    }\n",
       "</style>\n",
       "<table border=\"1\" class=\"dataframe\">\n",
       "  <thead>\n",
       "    <tr style=\"text-align: right;\">\n",
       "      <th></th>\n",
       "      <th>adjusted_close</th>\n",
       "      <th>trend_score</th>\n",
       "    </tr>\n",
       "    <tr>\n",
       "      <th>date</th>\n",
       "      <th></th>\n",
       "      <th></th>\n",
       "    </tr>\n",
       "  </thead>\n",
       "  <tbody>\n",
       "    <tr>\n",
       "      <th>2019-09-27</th>\n",
       "      <td>-0.52</td>\n",
       "      <td>0.0</td>\n",
       "    </tr>\n",
       "    <tr>\n",
       "      <th>2019-09-30</th>\n",
       "      <td>-0.14</td>\n",
       "      <td>-14.0</td>\n",
       "    </tr>\n",
       "    <tr>\n",
       "      <th>2019-10-01</th>\n",
       "      <td>-2.59</td>\n",
       "      <td>0.0</td>\n",
       "    </tr>\n",
       "    <tr>\n",
       "      <th>2019-10-02</th>\n",
       "      <td>0.09</td>\n",
       "      <td>0.0</td>\n",
       "    </tr>\n",
       "    <tr>\n",
       "      <th>2019-10-03</th>\n",
       "      <td>-0.27</td>\n",
       "      <td>0.0</td>\n",
       "    </tr>\n",
       "    <tr>\n",
       "      <th>...</th>\n",
       "      <td>...</td>\n",
       "      <td>...</td>\n",
       "    </tr>\n",
       "    <tr>\n",
       "      <th>2021-05-11</th>\n",
       "      <td>3.52</td>\n",
       "      <td>0.0</td>\n",
       "    </tr>\n",
       "    <tr>\n",
       "      <th>2021-05-12</th>\n",
       "      <td>-1.66</td>\n",
       "      <td>0.0</td>\n",
       "    </tr>\n",
       "    <tr>\n",
       "      <th>2021-05-13</th>\n",
       "      <td>5.94</td>\n",
       "      <td>0.0</td>\n",
       "    </tr>\n",
       "    <tr>\n",
       "      <th>2021-05-14</th>\n",
       "      <td>1.29</td>\n",
       "      <td>0.0</td>\n",
       "    </tr>\n",
       "    <tr>\n",
       "      <th>2021-05-17</th>\n",
       "      <td>-4.29</td>\n",
       "      <td>-7.0</td>\n",
       "    </tr>\n",
       "  </tbody>\n",
       "</table>\n",
       "<p>412 rows × 2 columns</p>\n",
       "</div>"
      ],
      "text/plain": [
       "            adjusted_close  trend_score\n",
       "date                                   \n",
       "2019-09-27           -0.52          0.0\n",
       "2019-09-30           -0.14        -14.0\n",
       "2019-10-01           -2.59          0.0\n",
       "2019-10-02            0.09          0.0\n",
       "2019-10-03           -0.27          0.0\n",
       "...                    ...          ...\n",
       "2021-05-11            3.52          0.0\n",
       "2021-05-12           -1.66          0.0\n",
       "2021-05-13            5.94          0.0\n",
       "2021-05-14            1.29          0.0\n",
       "2021-05-17           -4.29         -7.0\n",
       "\n",
       "[412 rows x 2 columns]"
      ]
     },
     "execution_count": 453,
     "metadata": {},
     "output_type": "execute_result"
    }
   ],
   "source": [
    "pton_differenced"
   ]
  },
  {
   "cell_type": "code",
   "execution_count": 454,
   "metadata": {},
   "outputs": [],
   "source": [
    "#pton_differenced = pton_differenced[1:]"
   ]
  },
  {
   "cell_type": "code",
   "execution_count": 455,
   "metadata": {},
   "outputs": [],
   "source": [
    "model = VAR(pton_differenced)"
   ]
  },
  {
   "cell_type": "code",
   "execution_count": 456,
   "metadata": {},
   "outputs": [
    {
     "name": "stdout",
     "output_type": "stream",
     "text": [
      "1\n",
      "Lag Order = 1\n",
      "AIC :  6.46092091666694\n",
      "BIC :  6.519586511039147\n",
      "FPE :  639.6501813115241\n",
      "HQIC:  6.484128319490661 \n",
      "\n",
      "2\n",
      "Lag Order = 2\n",
      "AIC :  6.467807773532725\n",
      "BIC :  6.565762826208294\n",
      "FPE :  644.0717880223294\n",
      "HQIC:  6.506561369138891 \n",
      "\n",
      "3\n",
      "Lag Order = 3\n",
      "AIC :  6.486066261789714\n",
      "BIC :  6.6234550446371445\n",
      "FPE :  655.942378459849\n",
      "HQIC:  6.540426154599161 \n",
      "\n",
      "4\n",
      "Lag Order = 4\n",
      "AIC :  6.453375307798279\n",
      "BIC :  6.630342977257286\n",
      "FPE :  634.8505542133139\n",
      "HQIC:  6.523401975796754 \n",
      "\n",
      "5\n",
      "Lag Order = 5\n",
      "AIC :  6.45159047483408\n",
      "BIC :  6.668283079452599\n",
      "FPE :  633.7260791528233\n",
      "HQIC:  6.537344772752203 \n",
      "\n",
      "6\n",
      "Lag Order = 6\n",
      "AIC :  6.438420977195988\n",
      "BIC :  6.694985465249301\n",
      "FPE :  625.4458626037681\n",
      "HQIC:  6.539964139723513 \n",
      "\n",
      "7\n",
      "Lag Order = 7\n",
      "AIC :  6.444934678839749\n",
      "BIC :  6.741518906032826\n",
      "FPE :  629.5482350913668\n",
      "HQIC:  6.562328323874585 \n",
      "\n",
      "8\n",
      "Lag Order = 8\n",
      "AIC :  6.461206709647704\n",
      "BIC :  6.79795944690186\n",
      "FPE :  639.8963174656486\n",
      "HQIC:  6.594512841580131 \n",
      "\n",
      "9\n",
      "Lag Order = 9\n",
      "AIC :  6.437522875108096\n",
      "BIC :  6.814593816433092\n",
      "FPE :  624.9444651723255\n",
      "HQIC:  6.586803888140653 \n",
      "\n"
     ]
    }
   ],
   "source": [
    "for i in [1,2,3,4,5,6,7,8,9]:\n",
    "    print(i)\n",
    "    result = model.fit(i)\n",
    "    print('Lag Order =', i)\n",
    "    print('AIC : ', result.aic)\n",
    "    print('BIC : ', result.bic)\n",
    "    print('FPE : ', result.fpe)\n",
    "    print('HQIC: ', result.hqic, '\\n')"
   ]
  },
  {
   "cell_type": "markdown",
   "metadata": {},
   "source": [
    "Of these options I select the model with the lowest AIC. For this ticker it is Lag Order 4, with an AIC of -2.4089. I will remake the model using the optimal lag order of 4."
   ]
  },
  {
   "cell_type": "code",
   "execution_count": 457,
   "metadata": {},
   "outputs": [],
   "source": [
    "var = model.fit(4)"
   ]
  },
  {
   "cell_type": "code",
   "execution_count": 458,
   "metadata": {},
   "outputs": [
    {
     "data": {
      "text/plain": [
       "  Summary of Regression Results   \n",
       "==================================\n",
       "Model:                         VAR\n",
       "Method:                        OLS\n",
       "Date:           Wed, 14, Jul, 2021\n",
       "Time:                     12:39:29\n",
       "--------------------------------------------------------------------\n",
       "No. of Equations:         2.00000    BIC:                    6.63034\n",
       "Nobs:                     408.000    HQIC:                   6.52340\n",
       "Log likelihood:          -2456.34    FPE:                    634.851\n",
       "AIC:                      6.45338    Det(Omega_mle):         607.743\n",
       "--------------------------------------------------------------------\n",
       "Results for equation adjusted_close\n",
       "====================================================================================\n",
       "                       coefficient       std. error           t-stat            prob\n",
       "------------------------------------------------------------------------------------\n",
       "const                     0.181617         0.190371            0.954           0.340\n",
       "L1.adjusted_close        -0.067158         0.049495           -1.357           0.175\n",
       "L1.trend_score            0.034891         0.029326            1.190           0.234\n",
       "L2.adjusted_close        -0.050524         0.049689           -1.017           0.309\n",
       "L2.trend_score           -0.006111         0.029331           -0.208           0.835\n",
       "L3.adjusted_close        -0.025448         0.049881           -0.510           0.610\n",
       "L3.trend_score            0.002997         0.029133            0.103           0.918\n",
       "L4.adjusted_close         0.078016         0.049814            1.566           0.117\n",
       "L4.trend_score           -0.081553         0.029052           -2.807           0.005\n",
       "====================================================================================\n",
       "\n",
       "Results for equation trend_score\n",
       "====================================================================================\n",
       "                       coefficient       std. error           t-stat            prob\n",
       "------------------------------------------------------------------------------------\n",
       "const                    -0.001222         0.320364           -0.004           0.997\n",
       "L1.adjusted_close         0.118512         0.083292            1.423           0.155\n",
       "L1.trend_score            0.013412         0.049351            0.272           0.786\n",
       "L2.adjusted_close        -0.106040         0.083618           -1.268           0.205\n",
       "L2.trend_score           -0.013968         0.049360           -0.283           0.777\n",
       "L3.adjusted_close         0.115784         0.083942            1.379           0.168\n",
       "L3.trend_score            0.010906         0.049026            0.222           0.824\n",
       "L4.adjusted_close        -0.107456         0.083829           -1.282           0.200\n",
       "L4.trend_score           -0.162315         0.048890           -3.320           0.001\n",
       "====================================================================================\n",
       "\n",
       "Correlation matrix of residuals\n",
       "                  adjusted_close  trend_score\n",
       "adjusted_close          1.000000    -0.022812\n",
       "trend_score            -0.022812     1.000000\n",
       "\n"
      ]
     },
     "execution_count": 458,
     "metadata": {},
     "output_type": "execute_result"
    }
   ],
   "source": [
    "var.summary()"
   ]
  },
  {
   "cell_type": "code",
   "execution_count": 459,
   "metadata": {},
   "outputs": [],
   "source": [
    "lag_order = var.k_ar"
   ]
  },
  {
   "cell_type": "code",
   "execution_count": 460,
   "metadata": {},
   "outputs": [
    {
     "name": "stdout",
     "output_type": "stream",
     "text": [
      "4\n"
     ]
    }
   ],
   "source": [
    "print(lag_order)"
   ]
  },
  {
   "cell_type": "code",
   "execution_count": 461,
   "metadata": {},
   "outputs": [],
   "source": [
    "forecast_input = pton_differenced.values[-lag_order:]"
   ]
  },
  {
   "cell_type": "code",
   "execution_count": 462,
   "metadata": {},
   "outputs": [
    {
     "data": {
      "text/plain": [
       "array([[-1.66,  0.  ],\n",
       "       [ 5.94,  0.  ],\n",
       "       [ 1.29,  0.  ],\n",
       "       [-4.29, -7.  ]])"
      ]
     },
     "execution_count": 462,
     "metadata": {},
     "output_type": "execute_result"
    }
   ],
   "source": [
    "forecast_input"
   ]
  },
  {
   "cell_type": "code",
   "execution_count": 463,
   "metadata": {},
   "outputs": [
    {
     "data": {
      "text/html": [
       "<div>\n",
       "<style scoped>\n",
       "    .dataframe tbody tr th:only-of-type {\n",
       "        vertical-align: middle;\n",
       "    }\n",
       "\n",
       "    .dataframe tbody tr th {\n",
       "        vertical-align: top;\n",
       "    }\n",
       "\n",
       "    .dataframe thead th {\n",
       "        text-align: right;\n",
       "    }\n",
       "</style>\n",
       "<table border=\"1\" class=\"dataframe\">\n",
       "  <thead>\n",
       "    <tr style=\"text-align: right;\">\n",
       "      <th></th>\n",
       "      <th>adjusted_close_2d</th>\n",
       "      <th>trend_score_2d</th>\n",
       "    </tr>\n",
       "    <tr>\n",
       "      <th>date</th>\n",
       "      <th></th>\n",
       "      <th></th>\n",
       "    </tr>\n",
       "  </thead>\n",
       "  <tbody>\n",
       "    <tr>\n",
       "      <th>2021-05-18</th>\n",
       "      <td>-0.120354</td>\n",
       "      <td>0.125823</td>\n",
       "    </tr>\n",
       "    <tr>\n",
       "      <th>2021-05-19</th>\n",
       "      <td>0.884203</td>\n",
       "      <td>0.049960</td>\n",
       "    </tr>\n",
       "    <tr>\n",
       "      <th>2021-05-20</th>\n",
       "      <td>0.318125</td>\n",
       "      <td>-0.596435</td>\n",
       "    </tr>\n",
       "    <tr>\n",
       "      <th>2021-05-21</th>\n",
       "      <td>0.334088</td>\n",
       "      <td>1.518648</td>\n",
       "    </tr>\n",
       "    <tr>\n",
       "      <th>2021-05-24</th>\n",
       "      <td>0.157738</td>\n",
       "      <td>0.128767</td>\n",
       "    </tr>\n",
       "    <tr>\n",
       "      <th>2021-05-25</th>\n",
       "      <td>0.204381</td>\n",
       "      <td>-0.110234</td>\n",
       "    </tr>\n",
       "    <tr>\n",
       "      <th>2021-05-26</th>\n",
       "      <td>0.224798</td>\n",
       "      <td>0.120866</td>\n",
       "    </tr>\n",
       "    <tr>\n",
       "      <th>2021-05-27</th>\n",
       "      <td>0.059670</td>\n",
       "      <td>-0.255823</td>\n",
       "    </tr>\n",
       "    <tr>\n",
       "      <th>2021-05-28</th>\n",
       "      <td>0.152861</td>\n",
       "      <td>-0.038496</td>\n",
       "    </tr>\n",
       "    <tr>\n",
       "      <th>2021-06-01</th>\n",
       "      <td>0.188133</td>\n",
       "      <td>0.036900</td>\n",
       "    </tr>\n",
       "  </tbody>\n",
       "</table>\n",
       "</div>"
      ],
      "text/plain": [
       "            adjusted_close_2d  trend_score_2d\n",
       "date                                         \n",
       "2021-05-18          -0.120354        0.125823\n",
       "2021-05-19           0.884203        0.049960\n",
       "2021-05-20           0.318125       -0.596435\n",
       "2021-05-21           0.334088        1.518648\n",
       "2021-05-24           0.157738        0.128767\n",
       "2021-05-25           0.204381       -0.110234\n",
       "2021-05-26           0.224798        0.120866\n",
       "2021-05-27           0.059670       -0.255823\n",
       "2021-05-28           0.152861       -0.038496\n",
       "2021-06-01           0.188133        0.036900"
      ]
     },
     "execution_count": 463,
     "metadata": {},
     "output_type": "execute_result"
    }
   ],
   "source": [
    "fc = var.forecast(y=forecast_input, steps=nobs)\n",
    "df_forecast = pd.DataFrame(fc, index=pton_test.index[-nobs:], columns=pton_train.columns + '_2d')\n",
    "df_forecast"
   ]
  },
  {
   "cell_type": "code",
   "execution_count": 464,
   "metadata": {},
   "outputs": [],
   "source": [
    "def invert_transformation(df_train, df_forecast, second_diff=False):\n",
    "    \"\"\"Revert back the differencing to get the forecast to original scale.\"\"\"\n",
    "    df_fc = df_forecast.copy()\n",
    "    columns = df_train.columns\n",
    "    for col in columns:        \n",
    "        # Roll back 2nd Diff\n",
    "        if second_diff:\n",
    "            df_fc[str(col)+'_1d'] = (df_train[col].iloc[-1]-df_train[col].iloc[-2]) + df_fc[str(col)+'_2d'].cumsum()\n",
    "        # Roll back 1st Diff\n",
    "        df_fc[str(col)+'_forecast'] = df_train[col].iloc[-1] + df_fc[str(col)+'_1d'].cumsum()\n",
    "    return df_fc"
   ]
  },
  {
   "cell_type": "code",
   "execution_count": 465,
   "metadata": {},
   "outputs": [
    {
     "data": {
      "text/html": [
       "<div>\n",
       "<style scoped>\n",
       "    .dataframe tbody tr th:only-of-type {\n",
       "        vertical-align: middle;\n",
       "    }\n",
       "\n",
       "    .dataframe tbody tr th {\n",
       "        vertical-align: top;\n",
       "    }\n",
       "\n",
       "    .dataframe thead th {\n",
       "        text-align: right;\n",
       "    }\n",
       "</style>\n",
       "<table border=\"1\" class=\"dataframe\">\n",
       "  <thead>\n",
       "    <tr style=\"text-align: right;\">\n",
       "      <th></th>\n",
       "      <th>adjusted_close_2d</th>\n",
       "      <th>trend_score_2d</th>\n",
       "      <th>adjusted_close_1d</th>\n",
       "      <th>adjusted_close_forecast</th>\n",
       "      <th>trend_score_1d</th>\n",
       "      <th>trend_score_forecast</th>\n",
       "    </tr>\n",
       "    <tr>\n",
       "      <th>date</th>\n",
       "      <th></th>\n",
       "      <th></th>\n",
       "      <th></th>\n",
       "      <th></th>\n",
       "      <th></th>\n",
       "      <th></th>\n",
       "    </tr>\n",
       "  </thead>\n",
       "  <tbody>\n",
       "    <tr>\n",
       "      <th>2021-05-18</th>\n",
       "      <td>-0.120354</td>\n",
       "      <td>0.125823</td>\n",
       "      <td>-4.410354</td>\n",
       "      <td>87.879646</td>\n",
       "      <td>-6.874177</td>\n",
       "      <td>16.125823</td>\n",
       "    </tr>\n",
       "    <tr>\n",
       "      <th>2021-05-19</th>\n",
       "      <td>0.884203</td>\n",
       "      <td>0.049960</td>\n",
       "      <td>-3.526150</td>\n",
       "      <td>84.353496</td>\n",
       "      <td>-6.824217</td>\n",
       "      <td>9.301606</td>\n",
       "    </tr>\n",
       "    <tr>\n",
       "      <th>2021-05-20</th>\n",
       "      <td>0.318125</td>\n",
       "      <td>-0.596435</td>\n",
       "      <td>-3.208025</td>\n",
       "      <td>81.145471</td>\n",
       "      <td>-7.420652</td>\n",
       "      <td>1.880954</td>\n",
       "    </tr>\n",
       "    <tr>\n",
       "      <th>2021-05-21</th>\n",
       "      <td>0.334088</td>\n",
       "      <td>1.518648</td>\n",
       "      <td>-2.873937</td>\n",
       "      <td>78.271534</td>\n",
       "      <td>-5.902004</td>\n",
       "      <td>-4.021050</td>\n",
       "    </tr>\n",
       "    <tr>\n",
       "      <th>2021-05-24</th>\n",
       "      <td>0.157738</td>\n",
       "      <td>0.128767</td>\n",
       "      <td>-2.716199</td>\n",
       "      <td>75.555335</td>\n",
       "      <td>-5.773237</td>\n",
       "      <td>-9.794287</td>\n",
       "    </tr>\n",
       "    <tr>\n",
       "      <th>2021-05-25</th>\n",
       "      <td>0.204381</td>\n",
       "      <td>-0.110234</td>\n",
       "      <td>-2.511818</td>\n",
       "      <td>73.043517</td>\n",
       "      <td>-5.883471</td>\n",
       "      <td>-15.677758</td>\n",
       "    </tr>\n",
       "    <tr>\n",
       "      <th>2021-05-26</th>\n",
       "      <td>0.224798</td>\n",
       "      <td>0.120866</td>\n",
       "      <td>-2.287020</td>\n",
       "      <td>70.756497</td>\n",
       "      <td>-5.762605</td>\n",
       "      <td>-21.440363</td>\n",
       "    </tr>\n",
       "    <tr>\n",
       "      <th>2021-05-27</th>\n",
       "      <td>0.059670</td>\n",
       "      <td>-0.255823</td>\n",
       "      <td>-2.227350</td>\n",
       "      <td>68.529146</td>\n",
       "      <td>-6.018428</td>\n",
       "      <td>-27.458791</td>\n",
       "    </tr>\n",
       "    <tr>\n",
       "      <th>2021-05-28</th>\n",
       "      <td>0.152861</td>\n",
       "      <td>-0.038496</td>\n",
       "      <td>-2.074489</td>\n",
       "      <td>66.454657</td>\n",
       "      <td>-6.056924</td>\n",
       "      <td>-33.515716</td>\n",
       "    </tr>\n",
       "    <tr>\n",
       "      <th>2021-06-01</th>\n",
       "      <td>0.188133</td>\n",
       "      <td>0.036900</td>\n",
       "      <td>-1.886356</td>\n",
       "      <td>64.568301</td>\n",
       "      <td>-6.020024</td>\n",
       "      <td>-39.535740</td>\n",
       "    </tr>\n",
       "  </tbody>\n",
       "</table>\n",
       "</div>"
      ],
      "text/plain": [
       "            adjusted_close_2d  trend_score_2d  adjusted_close_1d  \\\n",
       "date                                                               \n",
       "2021-05-18          -0.120354        0.125823          -4.410354   \n",
       "2021-05-19           0.884203        0.049960          -3.526150   \n",
       "2021-05-20           0.318125       -0.596435          -3.208025   \n",
       "2021-05-21           0.334088        1.518648          -2.873937   \n",
       "2021-05-24           0.157738        0.128767          -2.716199   \n",
       "2021-05-25           0.204381       -0.110234          -2.511818   \n",
       "2021-05-26           0.224798        0.120866          -2.287020   \n",
       "2021-05-27           0.059670       -0.255823          -2.227350   \n",
       "2021-05-28           0.152861       -0.038496          -2.074489   \n",
       "2021-06-01           0.188133        0.036900          -1.886356   \n",
       "\n",
       "            adjusted_close_forecast  trend_score_1d  trend_score_forecast  \n",
       "date                                                                       \n",
       "2021-05-18                87.879646       -6.874177             16.125823  \n",
       "2021-05-19                84.353496       -6.824217              9.301606  \n",
       "2021-05-20                81.145471       -7.420652              1.880954  \n",
       "2021-05-21                78.271534       -5.902004             -4.021050  \n",
       "2021-05-24                75.555335       -5.773237             -9.794287  \n",
       "2021-05-25                73.043517       -5.883471            -15.677758  \n",
       "2021-05-26                70.756497       -5.762605            -21.440363  \n",
       "2021-05-27                68.529146       -6.018428            -27.458791  \n",
       "2021-05-28                66.454657       -6.056924            -33.515716  \n",
       "2021-06-01                64.568301       -6.020024            -39.535740  "
      ]
     },
     "execution_count": 465,
     "metadata": {},
     "output_type": "execute_result"
    }
   ],
   "source": [
    "df_results = invert_transformation(pton_train, df_forecast, second_diff=True)\n",
    "df_results"
   ]
  },
  {
   "cell_type": "code",
   "execution_count": 472,
   "metadata": {},
   "outputs": [],
   "source": [
    "predicted_adj_close = df_results[['adjusted_close_forecast', 'trend_score_forecast']]"
   ]
  },
  {
   "cell_type": "code",
   "execution_count": 473,
   "metadata": {},
   "outputs": [],
   "source": [
    "close_test = pton_test[pton_test.index > datetime(year = 2021, month = 3, day = 1)]"
   ]
  },
  {
   "cell_type": "code",
   "execution_count": 474,
   "metadata": {},
   "outputs": [
    {
     "data": {
      "text/html": [
       "<div>\n",
       "<style scoped>\n",
       "    .dataframe tbody tr th:only-of-type {\n",
       "        vertical-align: middle;\n",
       "    }\n",
       "\n",
       "    .dataframe tbody tr th {\n",
       "        vertical-align: top;\n",
       "    }\n",
       "\n",
       "    .dataframe thead th {\n",
       "        text-align: right;\n",
       "    }\n",
       "</style>\n",
       "<table border=\"1\" class=\"dataframe\">\n",
       "  <thead>\n",
       "    <tr style=\"text-align: right;\">\n",
       "      <th></th>\n",
       "      <th>adjusted_close</th>\n",
       "      <th>trend_score</th>\n",
       "    </tr>\n",
       "    <tr>\n",
       "      <th>date</th>\n",
       "      <th></th>\n",
       "      <th></th>\n",
       "    </tr>\n",
       "  </thead>\n",
       "  <tbody>\n",
       "    <tr>\n",
       "      <th>2021-05-18</th>\n",
       "      <td>95.19</td>\n",
       "      <td>23</td>\n",
       "    </tr>\n",
       "    <tr>\n",
       "      <th>2021-05-19</th>\n",
       "      <td>96.55</td>\n",
       "      <td>23</td>\n",
       "    </tr>\n",
       "    <tr>\n",
       "      <th>2021-05-20</th>\n",
       "      <td>100.46</td>\n",
       "      <td>23</td>\n",
       "    </tr>\n",
       "    <tr>\n",
       "      <th>2021-05-21</th>\n",
       "      <td>100.90</td>\n",
       "      <td>23</td>\n",
       "    </tr>\n",
       "    <tr>\n",
       "      <th>2021-05-24</th>\n",
       "      <td>101.16</td>\n",
       "      <td>25</td>\n",
       "    </tr>\n",
       "    <tr>\n",
       "      <th>2021-05-25</th>\n",
       "      <td>99.44</td>\n",
       "      <td>25</td>\n",
       "    </tr>\n",
       "    <tr>\n",
       "      <th>2021-05-26</th>\n",
       "      <td>109.56</td>\n",
       "      <td>25</td>\n",
       "    </tr>\n",
       "    <tr>\n",
       "      <th>2021-05-27</th>\n",
       "      <td>112.60</td>\n",
       "      <td>25</td>\n",
       "    </tr>\n",
       "    <tr>\n",
       "      <th>2021-05-28</th>\n",
       "      <td>110.31</td>\n",
       "      <td>25</td>\n",
       "    </tr>\n",
       "    <tr>\n",
       "      <th>2021-06-01</th>\n",
       "      <td>108.89</td>\n",
       "      <td>15</td>\n",
       "    </tr>\n",
       "  </tbody>\n",
       "</table>\n",
       "</div>"
      ],
      "text/plain": [
       "            adjusted_close  trend_score\n",
       "date                                   \n",
       "2021-05-18           95.19           23\n",
       "2021-05-19           96.55           23\n",
       "2021-05-20          100.46           23\n",
       "2021-05-21          100.90           23\n",
       "2021-05-24          101.16           25\n",
       "2021-05-25           99.44           25\n",
       "2021-05-26          109.56           25\n",
       "2021-05-27          112.60           25\n",
       "2021-05-28          110.31           25\n",
       "2021-06-01          108.89           15"
      ]
     },
     "execution_count": 474,
     "metadata": {},
     "output_type": "execute_result"
    }
   ],
   "source": [
    "close_test"
   ]
  },
  {
   "cell_type": "code",
   "execution_count": 481,
   "metadata": {},
   "outputs": [
    {
     "data": {
      "image/png": "[encoded data removed]",
      "text/plain": [
       "<Figure size 720x432 with 1 Axes>"
      ]
     },
     "metadata": {
      "needs_background": "light"
     },
     "output_type": "display_data"
    }
   ],
   "source": [
    "plt.figure(figsize=(10,6))\n",
    "\n",
    "# Plot training data.\n",
    "plt.plot(close_test.index, pd.DataFrame(close_train), color = 'blue')\n",
    "\n",
    "# Plot testing data.\n",
    "plt.plot(close_test.index, pd.DataFrame(close_test)['adjusted_close'], color = 'orange')\n",
    "plt.plot(close_test.index, pd.DataFrame(close_test)['trend_score'], color = 'red')\n",
    "\n",
    "# Plot predicted test values.\n",
    "plt.plot(predicted_adj_close.index, predicted_adj_close, color = 'green')\n",
    "\n",
    "plt.title(label = 'PTON Adjusted Close and Google Trends Score with VAR Predictions', fontsize=16)\n",
    "plt.show();"
   ]
  },
  {
   "cell_type": "markdown",
   "metadata": {},
   "source": [
    "### Conclusion"
   ]
  },
  {
   "cell_type": "markdown",
   "metadata": {},
   "source": [
    "Above is the graph of the predictions from the VAR model for PTON's adjusted_close and trend score. The time frame is smaller than the other two models. This is because the VAR model seems to have an even worse problem than the other two when it comes to predicting more than a couple days out. It quickly starts to exponentially get worse. \n",
    "\n",
    "The results of this var model are no better than the other two, but making this provided a few insights. First, it's a signifigant finding that trend_score passed the Granger's Causation Test. This means that there is a signifigant relationship between trend_score and adjusted_close. My VAR model isn't any better than the other two models, but the statistical relationship between trend_score and adjusted_close at least means that there is the possibility of improving stock forecasting using trend_score"
   ]
  },
  {
   "cell_type": "markdown",
   "metadata": {},
   "source": [
    "The next step will be to take this code created for PTON and generalize it so it can be used for other tickers. Once I have performed the modeling on 5-10 tickers I'll interperet the results as a group and come to my final conclusions."
   ]
  }
 ],
 "metadata": {
  "kernelspec": {
   "display_name": "Python 3",
   "language": "python",
   "name": "python3"
  },
  "language_info": {
   "codemirror_mode": {
    "name": "ipython",
    "version": 3
   },
   "file_extension": ".py",
   "mimetype": "text/x-python",
   "name": "python",
   "nbconvert_exporter": "python",
   "pygments_lexer": "ipython3",
   "version": "3.8.5"
  }
 },
 "nbformat": 4,
 "nbformat_minor": 4
}
