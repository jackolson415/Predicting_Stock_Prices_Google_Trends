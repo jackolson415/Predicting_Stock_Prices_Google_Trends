{
 "cells": [
  {
   "cell_type": "markdown",
   "metadata": {},
   "source": [
    "# Data Collection and EDA"
   ]
  },
  {
   "cell_type": "markdown",
   "metadata": {},
   "source": [
    "The goal of this workbook is to use APIs to get the following for any ticker:\n",
    "- Daily open, high, low, close, adjusted close, volume, dividend amount, and split coefficient\n",
    "- Google trends score\n",
    "\n",
    "Over the period 01.02.18-06.1.21\n",
    "\n",
    "Step One: Create a DataFrame for an example ticker. In this case I will use IBM.\n",
    "\n",
    "Step Two: Generalize the code used for IBM into a function that can be used for any ticker. That function will be named create_ticker_df\n",
    "\n",
    "Step Three: EDA. Make sure that the APIs are collecting the correct data by verifying against another source."
   ]
  },
  {
   "cell_type": "code",
   "execution_count": 1,
   "metadata": {},
   "outputs": [],
   "source": [
    "# Imports\n",
    "from alpha_vantage.timeseries import TimeSeries\n",
    "import requests\n",
    "import pandas as pd\n",
    "import pandas as pd                        \n",
    "from pytrends.request import TrendReq\n",
    "from IPython.display import Image\n",
    "import matplotlib.pyplot as plt\n",
    "from statsmodels.tsa.seasonal import seasonal_decompose\n",
    "from statsmodels.graphics.tsaplots import plot_pacf"
   ]
  },
  {
   "cell_type": "markdown",
   "metadata": {},
   "source": [
    "## Step One: Create a DataFrame for an example ticker. In this case I will use IBM."
   ]
  },
  {
   "cell_type": "markdown",
   "metadata": {},
   "source": [
    "### Collecting Stock Data Using Alpha Vantage"
   ]
  },
  {
   "cell_type": "code",
   "execution_count": 2,
   "metadata": {},
   "outputs": [],
   "source": [
    "key = '49KFJCFS3P6CEU4F'"
   ]
  },
  {
   "cell_type": "code",
   "execution_count": 3,
   "metadata": {},
   "outputs": [
    {
     "name": "stdout",
     "output_type": "stream",
     "text": [
      "{'1. open': '145.0', '2. high': '145.83', '3. low': '143.75', '4. close': '144.19', '5. adjusted close': '144.19', '6. volume': '2417455', '7. dividend amount': '0.0000', '8. split coefficient': '1.0'}\n",
      "{'1. open': '154.5', '2. high': '154.81', '3. low': '153.54', '4. close': '154.25', '5. adjusted close': '130.577642951', '6. volume': '4195225', '7. dividend amount': '0.0000', '8. split coefficient': '1.0'}\n"
     ]
    }
   ],
   "source": [
    "url = 'https://www.alphavantage.co/query?function=TIME_SERIES_DAILY_ADJUSTED&symbol=IBM&apikey=49KFJCFS3P6CEU4F&outputsize=full'\n",
    "r = requests.get(url)\n",
    "data = r.json()\n",
    "\n",
    "print(data['Time Series (Daily)']['2021-06-01'])\n",
    "print(data['Time Series (Daily)']['2018-01-02'])"
   ]
  },
  {
   "cell_type": "markdown",
   "metadata": {},
   "source": [
    "The alpha vantage api is able to get the data for the time frame we want. The next step is to translate the JSON into a DataFrame and filter for the date range that I want."
   ]
  },
  {
   "cell_type": "code",
   "execution_count": 4,
   "metadata": {},
   "outputs": [],
   "source": [
    "ibm = pd.DataFrame(data['Time Series (Daily)']).T"
   ]
  },
  {
   "cell_type": "code",
   "execution_count": 5,
   "metadata": {},
   "outputs": [],
   "source": [
    "ibm['date'] = ibm.index"
   ]
  },
  {
   "cell_type": "code",
   "execution_count": 6,
   "metadata": {},
   "outputs": [],
   "source": [
    "ibm.index = pd.to_datetime(ibm['date'])"
   ]
  },
  {
   "cell_type": "code",
   "execution_count": 7,
   "metadata": {},
   "outputs": [],
   "source": [
    "ibm = ibm[ibm['date'] > '2018-01-01']\n",
    "ibm = ibm[ibm['date'] < '2021-06-02']\n",
    "ibm.drop(columns = 'date', inplace = True)\n",
    "\n",
    "ibm.sort_index(inplace=True)"
   ]
  },
  {
   "cell_type": "code",
   "execution_count": 8,
   "metadata": {},
   "outputs": [
    {
     "data": {
      "text/plain": [
       "(859, 8)"
      ]
     },
     "execution_count": 8,
     "metadata": {},
     "output_type": "execute_result"
    }
   ],
   "source": [
    "ibm.shape"
   ]
  },
  {
   "cell_type": "markdown",
   "metadata": {},
   "source": [
    "Now our dataframe is the correct date range. Now it is time to fix the data types and add a column for the daily lag and percent change"
   ]
  },
  {
   "cell_type": "code",
   "execution_count": 9,
   "metadata": {},
   "outputs": [
    {
     "data": {
      "text/html": [
       "<div>\n",
       "<style scoped>\n",
       "    .dataframe tbody tr th:only-of-type {\n",
       "        vertical-align: middle;\n",
       "    }\n",
       "\n",
       "    .dataframe tbody tr th {\n",
       "        vertical-align: top;\n",
       "    }\n",
       "\n",
       "    .dataframe thead th {\n",
       "        text-align: right;\n",
       "    }\n",
       "</style>\n",
       "<table border=\"1\" class=\"dataframe\">\n",
       "  <thead>\n",
       "    <tr style=\"text-align: right;\">\n",
       "      <th></th>\n",
       "      <th>1. open</th>\n",
       "      <th>2. high</th>\n",
       "      <th>3. low</th>\n",
       "      <th>4. close</th>\n",
       "      <th>5. adjusted close</th>\n",
       "      <th>6. volume</th>\n",
       "      <th>7. dividend amount</th>\n",
       "      <th>8. split coefficient</th>\n",
       "      <th>daily_lag</th>\n",
       "    </tr>\n",
       "    <tr>\n",
       "      <th>date</th>\n",
       "      <th></th>\n",
       "      <th></th>\n",
       "      <th></th>\n",
       "      <th></th>\n",
       "      <th></th>\n",
       "      <th></th>\n",
       "      <th></th>\n",
       "      <th></th>\n",
       "      <th></th>\n",
       "    </tr>\n",
       "  </thead>\n",
       "  <tbody>\n",
       "    <tr>\n",
       "      <th>2018-01-02</th>\n",
       "      <td>154.5</td>\n",
       "      <td>154.81</td>\n",
       "      <td>153.54</td>\n",
       "      <td>154.25</td>\n",
       "      <td>130.577642951</td>\n",
       "      <td>4195225</td>\n",
       "      <td>0.0000</td>\n",
       "      <td>1.0</td>\n",
       "      <td>NaN</td>\n",
       "    </tr>\n",
       "    <tr>\n",
       "      <th>2018-01-03</th>\n",
       "      <td>157.34</td>\n",
       "      <td>159.81</td>\n",
       "      <td>156.33</td>\n",
       "      <td>158.49</td>\n",
       "      <td>134.166940883</td>\n",
       "      <td>9439063</td>\n",
       "      <td>0.0000</td>\n",
       "      <td>1.0</td>\n",
       "      <td>130.577642951</td>\n",
       "    </tr>\n",
       "    <tr>\n",
       "      <th>2018-01-04</th>\n",
       "      <td>159.65</td>\n",
       "      <td>162.32</td>\n",
       "      <td>159.37</td>\n",
       "      <td>161.7</td>\n",
       "      <td>136.884310309</td>\n",
       "      <td>7363843</td>\n",
       "      <td>0.0000</td>\n",
       "      <td>1.0</td>\n",
       "      <td>134.166940883</td>\n",
       "    </tr>\n",
       "    <tr>\n",
       "      <th>2018-01-05</th>\n",
       "      <td>162.44</td>\n",
       "      <td>162.9</td>\n",
       "      <td>161.1</td>\n",
       "      <td>162.49</td>\n",
       "      <td>137.553071008</td>\n",
       "      <td>5162075</td>\n",
       "      <td>0.0000</td>\n",
       "      <td>1.0</td>\n",
       "      <td>136.884310309</td>\n",
       "    </tr>\n",
       "    <tr>\n",
       "      <th>2018-01-08</th>\n",
       "      <td>162.66</td>\n",
       "      <td>163.91</td>\n",
       "      <td>161.7</td>\n",
       "      <td>163.47</td>\n",
       "      <td>138.382672889</td>\n",
       "      <td>5101023</td>\n",
       "      <td>0.0000</td>\n",
       "      <td>1.0</td>\n",
       "      <td>137.553071008</td>\n",
       "    </tr>\n",
       "  </tbody>\n",
       "</table>\n",
       "</div>"
      ],
      "text/plain": [
       "           1. open 2. high  3. low 4. close 5. adjusted close 6. volume  \\\n",
       "date                                                                      \n",
       "2018-01-02   154.5  154.81  153.54   154.25     130.577642951   4195225   \n",
       "2018-01-03  157.34  159.81  156.33   158.49     134.166940883   9439063   \n",
       "2018-01-04  159.65  162.32  159.37    161.7     136.884310309   7363843   \n",
       "2018-01-05  162.44   162.9   161.1   162.49     137.553071008   5162075   \n",
       "2018-01-08  162.66  163.91   161.7   163.47     138.382672889   5101023   \n",
       "\n",
       "           7. dividend amount 8. split coefficient      daily_lag  \n",
       "date                                                               \n",
       "2018-01-02             0.0000                  1.0            NaN  \n",
       "2018-01-03             0.0000                  1.0  130.577642951  \n",
       "2018-01-04             0.0000                  1.0  134.166940883  \n",
       "2018-01-05             0.0000                  1.0  136.884310309  \n",
       "2018-01-08             0.0000                  1.0  137.553071008  "
      ]
     },
     "execution_count": 9,
     "metadata": {},
     "output_type": "execute_result"
    }
   ],
   "source": [
    "ibm['daily_lag'] =  ibm['5. adjusted close'].shift(1)\n",
    "ibm.head()"
   ]
  },
  {
   "cell_type": "code",
   "execution_count": 10,
   "metadata": {},
   "outputs": [],
   "source": [
    "for col in ibm.columns:\n",
    "    ibm[col] = pd.to_numeric(ibm[col])"
   ]
  },
  {
   "cell_type": "code",
   "execution_count": 11,
   "metadata": {},
   "outputs": [],
   "source": [
    "ibm['daily_returns'] = ibm['5. adjusted close'] - ibm['daily_lag']\n",
    "ibm['daily_pct_return'] = ibm['daily_returns']/ibm['5. adjusted close'].shift(1)\n",
    "ibm['rolling_3d_adj_close'] = ibm['5. adjusted close'].rolling(3).mean()\n",
    "\n",
    "ibm.drop(columns = 'daily_lag', inplace = True)"
   ]
  },
  {
   "cell_type": "markdown",
   "metadata": {},
   "source": [
    "To help account for the effect of covid on the stock market as a whole, we will add a column to our dataset that is the adjusted close of the SPDR S&P 500 ETF. It is the largest ETF in the world and tracks the S&P 500, making it a good proxy for the performance of the market overall"
   ]
  },
  {
   "cell_type": "code",
   "execution_count": 12,
   "metadata": {},
   "outputs": [],
   "source": [
    "def spdr_adj_close():\n",
    "    url = f'https://www.alphavantage.co/query?function=TIME_SERIES_DAILY_ADJUSTED&symbol=spy&apikey=49KFJCFS3P6CEU4F&outputsize=full'\n",
    "    r = requests.get(url)\n",
    "    data = r.json()\n",
    "    df = pd.DataFrame(data['Time Series (Daily)']).T\n",
    "    df['date'] = df.index\n",
    "    df.index = pd.to_datetime(df['date'])\n",
    "    df = df[df['date'] > '2018-01-01']\n",
    "    df = df[df['date'] < '2021-06-02']\n",
    "    df.drop(columns = 'date', inplace = True)\n",
    "    df.sort_index(inplace=True)\n",
    "    return df['5. adjusted close']"
   ]
  },
  {
   "cell_type": "markdown",
   "metadata": {},
   "source": [
    "## Collecting Trends Data Using Google Trends API"
   ]
  },
  {
   "cell_type": "code",
   "execution_count": 13,
   "metadata": {},
   "outputs": [
    {
     "data": {
      "text/html": [
       "<div>\n",
       "<style scoped>\n",
       "    .dataframe tbody tr th:only-of-type {\n",
       "        vertical-align: middle;\n",
       "    }\n",
       "\n",
       "    .dataframe tbody tr th {\n",
       "        vertical-align: top;\n",
       "    }\n",
       "\n",
       "    .dataframe thead th {\n",
       "        text-align: right;\n",
       "    }\n",
       "</style>\n",
       "<table border=\"1\" class=\"dataframe\">\n",
       "  <thead>\n",
       "    <tr style=\"text-align: right;\">\n",
       "      <th></th>\n",
       "      <th>IBM</th>\n",
       "      <th>isPartial</th>\n",
       "    </tr>\n",
       "    <tr>\n",
       "      <th>date</th>\n",
       "      <th></th>\n",
       "      <th></th>\n",
       "    </tr>\n",
       "  </thead>\n",
       "  <tbody>\n",
       "    <tr>\n",
       "      <th>2021-05-09</th>\n",
       "      <td>50</td>\n",
       "      <td>False</td>\n",
       "    </tr>\n",
       "    <tr>\n",
       "      <th>2021-05-16</th>\n",
       "      <td>48</td>\n",
       "      <td>False</td>\n",
       "    </tr>\n",
       "    <tr>\n",
       "      <th>2021-05-23</th>\n",
       "      <td>50</td>\n",
       "      <td>False</td>\n",
       "    </tr>\n",
       "    <tr>\n",
       "      <th>2021-05-30</th>\n",
       "      <td>49</td>\n",
       "      <td>False</td>\n",
       "    </tr>\n",
       "    <tr>\n",
       "      <th>2021-06-06</th>\n",
       "      <td>50</td>\n",
       "      <td>False</td>\n",
       "    </tr>\n",
       "    <tr>\n",
       "      <th>2021-06-13</th>\n",
       "      <td>50</td>\n",
       "      <td>False</td>\n",
       "    </tr>\n",
       "    <tr>\n",
       "      <th>2021-06-20</th>\n",
       "      <td>50</td>\n",
       "      <td>False</td>\n",
       "    </tr>\n",
       "    <tr>\n",
       "      <th>2021-06-27</th>\n",
       "      <td>50</td>\n",
       "      <td>False</td>\n",
       "    </tr>\n",
       "    <tr>\n",
       "      <th>2021-07-04</th>\n",
       "      <td>46</td>\n",
       "      <td>False</td>\n",
       "    </tr>\n",
       "    <tr>\n",
       "      <th>2021-07-11</th>\n",
       "      <td>50</td>\n",
       "      <td>True</td>\n",
       "    </tr>\n",
       "  </tbody>\n",
       "</table>\n",
       "</div>"
      ],
      "text/plain": [
       "            IBM isPartial\n",
       "date                     \n",
       "2021-05-09   50     False\n",
       "2021-05-16   48     False\n",
       "2021-05-23   50     False\n",
       "2021-05-30   49     False\n",
       "2021-06-06   50     False\n",
       "2021-06-13   50     False\n",
       "2021-06-20   50     False\n",
       "2021-06-27   50     False\n",
       "2021-07-04   46     False\n",
       "2021-07-11   50      True"
      ]
     },
     "execution_count": 13,
     "metadata": {},
     "output_type": "execute_result"
    }
   ],
   "source": [
    "pytrend = TrendReq()\n",
    "pytrend.build_payload(kw_list=['IBM'])\n",
    "# Interest by Region\n",
    "df = pytrend.interest_over_time()\n",
    "df.tail(10)"
   ]
  },
  {
   "cell_type": "code",
   "execution_count": 14,
   "metadata": {},
   "outputs": [
    {
     "data": {
      "text/html": [
       "<div>\n",
       "<style scoped>\n",
       "    .dataframe tbody tr th:only-of-type {\n",
       "        vertical-align: middle;\n",
       "    }\n",
       "\n",
       "    .dataframe tbody tr th {\n",
       "        vertical-align: top;\n",
       "    }\n",
       "\n",
       "    .dataframe thead th {\n",
       "        text-align: right;\n",
       "    }\n",
       "</style>\n",
       "<table border=\"1\" class=\"dataframe\">\n",
       "  <thead>\n",
       "    <tr style=\"text-align: right;\">\n",
       "      <th></th>\n",
       "      <th>trend_score</th>\n",
       "    </tr>\n",
       "    <tr>\n",
       "      <th>date</th>\n",
       "      <th></th>\n",
       "    </tr>\n",
       "  </thead>\n",
       "  <tbody>\n",
       "    <tr>\n",
       "      <th>2016-07-24</th>\n",
       "      <td>77</td>\n",
       "    </tr>\n",
       "    <tr>\n",
       "      <th>2016-07-25</th>\n",
       "      <td>77</td>\n",
       "    </tr>\n",
       "    <tr>\n",
       "      <th>2016-07-26</th>\n",
       "      <td>77</td>\n",
       "    </tr>\n",
       "  </tbody>\n",
       "</table>\n",
       "</div>"
      ],
      "text/plain": [
       "            trend_score\n",
       "date                   \n",
       "2016-07-24           77\n",
       "2016-07-25           77\n",
       "2016-07-26           77"
      ]
     },
     "execution_count": 14,
     "metadata": {},
     "output_type": "execute_result"
    }
   ],
   "source": [
    "#google trends only reports data by the week. Since the dataframe we want has a daily index, we will fill out the days based on the trend score at the beginning of that week.\n",
    "trends = df['IBM'].resample('D', convention = 'start').pad()\n",
    "\n",
    "trends = pd.DataFrame(trends)\n",
    "trends.rename(columns = {'IBM':'trend_score'}, inplace = True)\n",
    "trends.head(3)"
   ]
  },
  {
   "cell_type": "markdown",
   "metadata": {},
   "source": [
    "Now we have the trends data on a daily index. The next step is to merge the stock data with the trends data. We will do a left merge such that we keep only the days where we have stock data (ie trading days after IPO)"
   ]
  },
  {
   "cell_type": "code",
   "execution_count": 15,
   "metadata": {},
   "outputs": [],
   "source": [
    "ibm = ibm.merge(trends, how = 'left', left_index = True, right_index = True)"
   ]
  },
  {
   "cell_type": "markdown",
   "metadata": {},
   "source": [
    "## Create a function to collect the data and create a dataframe for any ticker"
   ]
  },
  {
   "cell_type": "markdown",
   "metadata": {},
   "source": [
    "The below function is the same code I used for IBM but generalized so the function can be used for any ticker"
   ]
  },
  {
   "cell_type": "code",
   "execution_count": 16,
   "metadata": {},
   "outputs": [],
   "source": [
    "#create function from the code above that can be used for any ticker\n",
    "def create_ticker_df (ticker):\n",
    "    '''Returns a DataFrame of stock and Google Trends data for the given ticker. The output will be daily data 1/2/18-6/1/21'''\n",
    "    #collect stock data using Alpha Vantage API\n",
    "    url = f'https://www.alphavantage.co/query?function=TIME_SERIES_DAILY_ADJUSTED&symbol={ticker}&apikey=49KFJCFS3P6CEU4F&outputsize=full'\n",
    "    r = requests.get(url)\n",
    "    data = r.json()\n",
    "    df = pd.DataFrame(data['Time Series (Daily)']).T\n",
    "    \n",
    "    #filter to include 2018.01.02 - 2021.06.01\n",
    "    df['date'] = df.index\n",
    "    df.index = pd.to_datetime(df['date'])\n",
    "    df = df[df['date'] > '2018-01-01']\n",
    "    df = df[df['date'] < '2021-06-02']\n",
    "    df.drop(columns = 'date', inplace = True)\n",
    "    df.sort_index(inplace=True)\n",
    "    \n",
    "    #add lag columns\n",
    "    days_to_lag = [1,2,3,7,30,90,365]\n",
    "    for day in days_to_lag:\n",
    "        df[f'lag_{day}'] = df['5. adjusted close'].shift(day)\n",
    "    \n",
    "    #fix dtypes and column names\n",
    "    df['spdr_adj_close'] = spdr_adj_close()\n",
    "   \n",
    "    \n",
    "    for col in df.columns:\n",
    "        df[col] = pd.to_numeric(df[col])\n",
    "    df['daily_returns'] = df['5. adjusted close'] - df['lag_1']\n",
    "    df['daily_pct_return'] = df['daily_returns']/df['5. adjusted close'].shift(1)\n",
    "    df['rolling_3d_adj_close'] = df['5. adjusted close'].rolling(3).mean()\n",
    "    df.rename(columns = {'1. open': 'open',\n",
    "                        '2. high': 'high',\n",
    "                        '3. low': 'low',\n",
    "                        '4. close': 'close',\n",
    "                        '5. adjusted close': 'adjusted_close',\n",
    "                        '6. volume': 'volume',\n",
    "                        '7. dividend amount': 'dividend amount',\n",
    "                        '8. split coefficient': 'splitcoef',\n",
    "                        'daily_returns' : 'daily_returns'}, inplace = True)\n",
    "        \n",
    "    #Collect Google Trends data using pytrends api\n",
    "    pytrend = TrendReq()\n",
    "    pytrend.build_payload(kw_list=[ticker])\n",
    "    google = pytrend.interest_over_time()\n",
    "    trends = google[ticker].resample('D', convention = 'start').pad()\n",
    "    trends = pd.DataFrame(trends)\n",
    "    trends.rename(columns = {ticker:'trend_score'}, inplace = True)\n",
    "    \n",
    "    #merge stock data with trends data\n",
    "    df = df.merge(trends, how = 'left', left_index = True, right_index = True)\n",
    "    \n",
    "    return df"
   ]
  },
  {
   "cell_type": "markdown",
   "metadata": {},
   "source": [
    "Test create_ticker_df on Apple:"
   ]
  },
  {
   "cell_type": "code",
   "execution_count": 17,
   "metadata": {},
   "outputs": [
    {
     "data": {
      "text/html": [
       "<div>\n",
       "<style scoped>\n",
       "    .dataframe tbody tr th:only-of-type {\n",
       "        vertical-align: middle;\n",
       "    }\n",
       "\n",
       "    .dataframe tbody tr th {\n",
       "        vertical-align: top;\n",
       "    }\n",
       "\n",
       "    .dataframe thead th {\n",
       "        text-align: right;\n",
       "    }\n",
       "</style>\n",
       "<table border=\"1\" class=\"dataframe\">\n",
       "  <thead>\n",
       "    <tr style=\"text-align: right;\">\n",
       "      <th></th>\n",
       "      <th>open</th>\n",
       "      <th>high</th>\n",
       "      <th>low</th>\n",
       "      <th>close</th>\n",
       "      <th>adjusted_close</th>\n",
       "      <th>volume</th>\n",
       "      <th>dividend amount</th>\n",
       "      <th>splitcoef</th>\n",
       "      <th>lag_1</th>\n",
       "      <th>lag_2</th>\n",
       "      <th>lag_3</th>\n",
       "      <th>lag_7</th>\n",
       "      <th>lag_30</th>\n",
       "      <th>lag_90</th>\n",
       "      <th>lag_365</th>\n",
       "      <th>spdr_adj_close</th>\n",
       "      <th>daily_returns</th>\n",
       "      <th>daily_pct_return</th>\n",
       "      <th>rolling_3d_adj_close</th>\n",
       "      <th>trend_score</th>\n",
       "    </tr>\n",
       "    <tr>\n",
       "      <th>date</th>\n",
       "      <th></th>\n",
       "      <th></th>\n",
       "      <th></th>\n",
       "      <th></th>\n",
       "      <th></th>\n",
       "      <th></th>\n",
       "      <th></th>\n",
       "      <th></th>\n",
       "      <th></th>\n",
       "      <th></th>\n",
       "      <th></th>\n",
       "      <th></th>\n",
       "      <th></th>\n",
       "      <th></th>\n",
       "      <th></th>\n",
       "      <th></th>\n",
       "      <th></th>\n",
       "      <th></th>\n",
       "      <th></th>\n",
       "      <th></th>\n",
       "    </tr>\n",
       "  </thead>\n",
       "  <tbody>\n",
       "    <tr>\n",
       "      <th>2018-01-02</th>\n",
       "      <td>170.16</td>\n",
       "      <td>172.30</td>\n",
       "      <td>169.26</td>\n",
       "      <td>172.26</td>\n",
       "      <td>41.308268</td>\n",
       "      <td>25048048</td>\n",
       "      <td>0.0</td>\n",
       "      <td>1.0</td>\n",
       "      <td>NaN</td>\n",
       "      <td>NaN</td>\n",
       "      <td>NaN</td>\n",
       "      <td>NaN</td>\n",
       "      <td>NaN</td>\n",
       "      <td>NaN</td>\n",
       "      <td>NaN</td>\n",
       "      <td>252.328547</td>\n",
       "      <td>NaN</td>\n",
       "      <td>NaN</td>\n",
       "      <td>NaN</td>\n",
       "      <td>18</td>\n",
       "    </tr>\n",
       "    <tr>\n",
       "      <th>2018-01-03</th>\n",
       "      <td>172.53</td>\n",
       "      <td>174.55</td>\n",
       "      <td>171.96</td>\n",
       "      <td>172.23</td>\n",
       "      <td>41.301074</td>\n",
       "      <td>28819653</td>\n",
       "      <td>0.0</td>\n",
       "      <td>1.0</td>\n",
       "      <td>41.308268</td>\n",
       "      <td>NaN</td>\n",
       "      <td>NaN</td>\n",
       "      <td>NaN</td>\n",
       "      <td>NaN</td>\n",
       "      <td>NaN</td>\n",
       "      <td>NaN</td>\n",
       "      <td>253.924553</td>\n",
       "      <td>-0.007194</td>\n",
       "      <td>-0.000174</td>\n",
       "      <td>NaN</td>\n",
       "      <td>18</td>\n",
       "    </tr>\n",
       "    <tr>\n",
       "      <th>2018-01-04</th>\n",
       "      <td>172.54</td>\n",
       "      <td>173.47</td>\n",
       "      <td>172.08</td>\n",
       "      <td>173.03</td>\n",
       "      <td>41.492916</td>\n",
       "      <td>22211345</td>\n",
       "      <td>0.0</td>\n",
       "      <td>1.0</td>\n",
       "      <td>41.301074</td>\n",
       "      <td>41.308268</td>\n",
       "      <td>NaN</td>\n",
       "      <td>NaN</td>\n",
       "      <td>NaN</td>\n",
       "      <td>NaN</td>\n",
       "      <td>NaN</td>\n",
       "      <td>254.994815</td>\n",
       "      <td>0.191841</td>\n",
       "      <td>0.004645</td>\n",
       "      <td>41.367419</td>\n",
       "      <td>18</td>\n",
       "    </tr>\n",
       "    <tr>\n",
       "      <th>2018-01-05</th>\n",
       "      <td>173.44</td>\n",
       "      <td>175.37</td>\n",
       "      <td>173.05</td>\n",
       "      <td>175.00</td>\n",
       "      <td>41.965325</td>\n",
       "      <td>23016177</td>\n",
       "      <td>0.0</td>\n",
       "      <td>1.0</td>\n",
       "      <td>41.492916</td>\n",
       "      <td>41.301074</td>\n",
       "      <td>41.308268</td>\n",
       "      <td>NaN</td>\n",
       "      <td>NaN</td>\n",
       "      <td>NaN</td>\n",
       "      <td>NaN</td>\n",
       "      <td>256.694092</td>\n",
       "      <td>0.472410</td>\n",
       "      <td>0.011385</td>\n",
       "      <td>41.586438</td>\n",
       "      <td>18</td>\n",
       "    </tr>\n",
       "    <tr>\n",
       "      <th>2018-01-08</th>\n",
       "      <td>174.35</td>\n",
       "      <td>175.61</td>\n",
       "      <td>173.93</td>\n",
       "      <td>174.35</td>\n",
       "      <td>41.809454</td>\n",
       "      <td>20134092</td>\n",
       "      <td>0.0</td>\n",
       "      <td>1.0</td>\n",
       "      <td>41.965325</td>\n",
       "      <td>41.492916</td>\n",
       "      <td>41.301074</td>\n",
       "      <td>NaN</td>\n",
       "      <td>NaN</td>\n",
       "      <td>NaN</td>\n",
       "      <td>NaN</td>\n",
       "      <td>257.163506</td>\n",
       "      <td>-0.155871</td>\n",
       "      <td>-0.003714</td>\n",
       "      <td>41.755898</td>\n",
       "      <td>18</td>\n",
       "    </tr>\n",
       "  </tbody>\n",
       "</table>\n",
       "</div>"
      ],
      "text/plain": [
       "              open    high     low   close  adjusted_close    volume  \\\n",
       "date                                                                   \n",
       "2018-01-02  170.16  172.30  169.26  172.26       41.308268  25048048   \n",
       "2018-01-03  172.53  174.55  171.96  172.23       41.301074  28819653   \n",
       "2018-01-04  172.54  173.47  172.08  173.03       41.492916  22211345   \n",
       "2018-01-05  173.44  175.37  173.05  175.00       41.965325  23016177   \n",
       "2018-01-08  174.35  175.61  173.93  174.35       41.809454  20134092   \n",
       "\n",
       "            dividend amount  splitcoef      lag_1      lag_2      lag_3  \\\n",
       "date                                                                      \n",
       "2018-01-02              0.0        1.0        NaN        NaN        NaN   \n",
       "2018-01-03              0.0        1.0  41.308268        NaN        NaN   \n",
       "2018-01-04              0.0        1.0  41.301074  41.308268        NaN   \n",
       "2018-01-05              0.0        1.0  41.492916  41.301074  41.308268   \n",
       "2018-01-08              0.0        1.0  41.965325  41.492916  41.301074   \n",
       "\n",
       "            lag_7  lag_30  lag_90  lag_365  spdr_adj_close  daily_returns  \\\n",
       "date                                                                        \n",
       "2018-01-02    NaN     NaN     NaN      NaN      252.328547            NaN   \n",
       "2018-01-03    NaN     NaN     NaN      NaN      253.924553      -0.007194   \n",
       "2018-01-04    NaN     NaN     NaN      NaN      254.994815       0.191841   \n",
       "2018-01-05    NaN     NaN     NaN      NaN      256.694092       0.472410   \n",
       "2018-01-08    NaN     NaN     NaN      NaN      257.163506      -0.155871   \n",
       "\n",
       "            daily_pct_return  rolling_3d_adj_close  trend_score  \n",
       "date                                                             \n",
       "2018-01-02               NaN                   NaN           18  \n",
       "2018-01-03         -0.000174                   NaN           18  \n",
       "2018-01-04          0.004645             41.367419           18  \n",
       "2018-01-05          0.011385             41.586438           18  \n",
       "2018-01-08         -0.003714             41.755898           18  "
      ]
     },
     "execution_count": 17,
     "metadata": {},
     "output_type": "execute_result"
    }
   ],
   "source": [
    "aapl = create_ticker_df('aapl')\n",
    "aapl.head()"
   ]
  },
  {
   "cell_type": "markdown",
   "metadata": {},
   "source": [
    "# EDA: Checking create_ticker_df for Accuracy"
   ]
  },
  {
   "cell_type": "markdown",
   "metadata": {},
   "source": [
    "### Validating Alpha Vantage Data Against Another Source (Yahoo Finance)"
   ]
  },
  {
   "cell_type": "code",
   "execution_count": 18,
   "metadata": {},
   "outputs": [
    {
     "data": {
      "image/png": "[encoded data removed]",
      "text/plain": [
       "<IPython.core.display.Image object>"
      ]
     },
     "execution_count": 18,
     "metadata": {
      "image/png": {
       "width": 700
      }
     },
     "output_type": "execute_result"
    }
   ],
   "source": [
    "Image('./Pictures/AAPL Snip.png', width=700)"
   ]
  },
  {
   "cell_type": "markdown",
   "metadata": {},
   "source": [
    "Above is the stock price chart for AAPL 1.2.18-6.1.21 per Yahoo Finance. Below is the chart of our closing prices for that same time period."
   ]
  },
  {
   "cell_type": "code",
   "execution_count": 19,
   "metadata": {},
   "outputs": [
    {
     "data": {
      "image/png": "[encoded data removed]",
      "text/plain": [
       "<Figure size 432x288 with 1 Axes>"
      ]
     },
     "metadata": {
      "needs_background": "light"
     },
     "output_type": "display_data"
    }
   ],
   "source": [
    "plt.plot(aapl['adjusted_close']);"
   ]
  },
  {
   "cell_type": "markdown",
   "metadata": {},
   "source": [
    "Are these two graphs the same? One way to validate is to compare the Alpha Vantage adjusted closing prices against AAPL.csv, which I downloaded from Yahoo Finance at https://finance.yahoo.com/quote/AAPL/history/"
   ]
  },
  {
   "cell_type": "code",
   "execution_count": 20,
   "metadata": {},
   "outputs": [],
   "source": [
    "yf = pd.read_csv('./Data/AAPL.csv')"
   ]
  },
  {
   "cell_type": "code",
   "execution_count": 21,
   "metadata": {},
   "outputs": [],
   "source": [
    "yf.index = pd.to_datetime(yf['Date'])\n",
    "yf = yf[yf['Date'] > '2018-01-01']\n",
    "yf = yf[yf['Date'] < '2021-06-02']\n",
    "yf.sort_index(inplace=True)"
   ]
  },
  {
   "cell_type": "code",
   "execution_count": 22,
   "metadata": {},
   "outputs": [],
   "source": [
    "yf.rename(columns = {'Open': 'yf_open',\n",
    "                     'High': 'yf_high',\n",
    "                     'Low': 'yf_low',\n",
    "                     'Close': 'yf_close',\n",
    "                     'Adj Close': 'yf_adj_close',\n",
    "                     'Volume': 'yf_volume'}, inplace = True)"
   ]
  },
  {
   "cell_type": "code",
   "execution_count": 23,
   "metadata": {},
   "outputs": [
    {
     "data": {
      "text/html": [
       "<div>\n",
       "<style scoped>\n",
       "    .dataframe tbody tr th:only-of-type {\n",
       "        vertical-align: middle;\n",
       "    }\n",
       "\n",
       "    .dataframe tbody tr th {\n",
       "        vertical-align: top;\n",
       "    }\n",
       "\n",
       "    .dataframe thead th {\n",
       "        text-align: right;\n",
       "    }\n",
       "</style>\n",
       "<table border=\"1\" class=\"dataframe\">\n",
       "  <thead>\n",
       "    <tr style=\"text-align: right;\">\n",
       "      <th></th>\n",
       "      <th>Date</th>\n",
       "      <th>yf_open</th>\n",
       "      <th>yf_high</th>\n",
       "      <th>yf_low</th>\n",
       "      <th>yf_close</th>\n",
       "      <th>yf_adj_close</th>\n",
       "      <th>yf_volume</th>\n",
       "    </tr>\n",
       "    <tr>\n",
       "      <th>Date</th>\n",
       "      <th></th>\n",
       "      <th></th>\n",
       "      <th></th>\n",
       "      <th></th>\n",
       "      <th></th>\n",
       "      <th></th>\n",
       "      <th></th>\n",
       "    </tr>\n",
       "  </thead>\n",
       "  <tbody>\n",
       "    <tr>\n",
       "      <th>2020-07-13</th>\n",
       "      <td>2020-07-13</td>\n",
       "      <td>97.264999</td>\n",
       "      <td>99.955002</td>\n",
       "      <td>95.2575</td>\n",
       "      <td>95.477501</td>\n",
       "      <td>94.83847</td>\n",
       "      <td>191649200</td>\n",
       "    </tr>\n",
       "  </tbody>\n",
       "</table>\n",
       "</div>"
      ],
      "text/plain": [
       "                  Date    yf_open    yf_high   yf_low   yf_close  \\\n",
       "Date                                                               \n",
       "2020-07-13  2020-07-13  97.264999  99.955002  95.2575  95.477501   \n",
       "\n",
       "            yf_adj_close  yf_volume  \n",
       "Date                                 \n",
       "2020-07-13      94.83847  191649200  "
      ]
     },
     "execution_count": 23,
     "metadata": {},
     "output_type": "execute_result"
    }
   ],
   "source": [
    "yf.head(1)"
   ]
  },
  {
   "cell_type": "markdown",
   "metadata": {},
   "source": [
    "The Yahoo Finance download only goes as far back as 2020-07-13, which is why I used Alpha Vantage to get my data in the first place. As a validation tool, however, if the yahoo finance data matches Alpha Vantage for the period 7/13/20-6/1/21, it's fair to say that Alpha Vantage has the correct adjusted closing prices."
   ]
  },
  {
   "cell_type": "code",
   "execution_count": 24,
   "metadata": {},
   "outputs": [],
   "source": [
    "yf = yf.merge(aapl, how = 'left', left_index = True, right_index = True)"
   ]
  },
  {
   "cell_type": "code",
   "execution_count": 25,
   "metadata": {},
   "outputs": [
    {
     "data": {
      "text/html": [
       "<div>\n",
       "<style scoped>\n",
       "    .dataframe tbody tr th:only-of-type {\n",
       "        vertical-align: middle;\n",
       "    }\n",
       "\n",
       "    .dataframe tbody tr th {\n",
       "        vertical-align: top;\n",
       "    }\n",
       "\n",
       "    .dataframe thead th {\n",
       "        text-align: right;\n",
       "    }\n",
       "</style>\n",
       "<table border=\"1\" class=\"dataframe\">\n",
       "  <thead>\n",
       "    <tr style=\"text-align: right;\">\n",
       "      <th></th>\n",
       "      <th>adj_close_diff</th>\n",
       "    </tr>\n",
       "  </thead>\n",
       "  <tbody>\n",
       "    <tr>\n",
       "      <th>count</th>\n",
       "      <td>224.000000</td>\n",
       "    </tr>\n",
       "    <tr>\n",
       "      <th>mean</th>\n",
       "      <td>0.000130</td>\n",
       "    </tr>\n",
       "    <tr>\n",
       "      <th>std</th>\n",
       "      <td>0.001438</td>\n",
       "    </tr>\n",
       "    <tr>\n",
       "      <th>min</th>\n",
       "      <td>-0.004703</td>\n",
       "    </tr>\n",
       "    <tr>\n",
       "      <th>25%</th>\n",
       "      <td>0.000267</td>\n",
       "    </tr>\n",
       "    <tr>\n",
       "      <th>50%</th>\n",
       "      <td>0.000509</td>\n",
       "    </tr>\n",
       "    <tr>\n",
       "      <th>75%</th>\n",
       "      <td>0.001081</td>\n",
       "    </tr>\n",
       "    <tr>\n",
       "      <th>max</th>\n",
       "      <td>0.001232</td>\n",
       "    </tr>\n",
       "  </tbody>\n",
       "</table>\n",
       "</div>"
      ],
      "text/plain": [
       "       adj_close_diff\n",
       "count      224.000000\n",
       "mean         0.000130\n",
       "std          0.001438\n",
       "min         -0.004703\n",
       "25%          0.000267\n",
       "50%          0.000509\n",
       "75%          0.001081\n",
       "max          0.001232"
      ]
     },
     "execution_count": 25,
     "metadata": {},
     "output_type": "execute_result"
    }
   ],
   "source": [
    "variance_df = pd.DataFrame()\n",
    "variance_df['adj_close_diff'] = yf['adjusted_close'] - yf['yf_adj_close']\n",
    "variance_df.describe()"
   ]
  },
  {
   "cell_type": "markdown",
   "metadata": {},
   "source": [
    "The variance between Alpha Vantage and Yahoo Finance's adjusted close amounts is less than a cent per day. For our purposes that's immaterial."
   ]
  },
  {
   "cell_type": "markdown",
   "metadata": {},
   "source": [
    "### Validating PyTrends Data Against a Download Directly From the Google Trends Website"
   ]
  },
  {
   "cell_type": "markdown",
   "metadata": {},
   "source": [
    "Google Trends' scores are subjective based on the time period searched. The data will be scaled such that the hightest search popularity during the selected time period will be 100. As of today (7/13/21), pytrends returns data for the period 7/17/16-7/4/21. Inputting that time period for the search term 'aapl' and downloading the results from Google Trends should match my PyTrends data exactly."
   ]
  },
  {
   "cell_type": "code",
   "execution_count": 26,
   "metadata": {},
   "outputs": [],
   "source": [
    "gt_download = pd.read_csv('./Data/google_trends_dowload_aapl.csv')"
   ]
  },
  {
   "cell_type": "code",
   "execution_count": 27,
   "metadata": {},
   "outputs": [],
   "source": [
    "gt_download.index = pd.to_datetime(gt_download['Week'])\n",
    "gt_download.sort_index(inplace=True)\n",
    "gt_download = gt_download.resample('D', convention = 'start').pad()"
   ]
  },
  {
   "cell_type": "code",
   "execution_count": 28,
   "metadata": {},
   "outputs": [
    {
     "data": {
      "text/plain": [
       "count    859.000000\n",
       "mean      -0.672875\n",
       "std        1.611106\n",
       "min       -7.000000\n",
       "25%       -2.000000\n",
       "50%        0.000000\n",
       "75%        0.000000\n",
       "max        3.000000\n",
       "Name: difference, dtype: float64"
      ]
     },
     "execution_count": 28,
     "metadata": {},
     "output_type": "execute_result"
    }
   ],
   "source": [
    "gt_variance = pd.DataFrame()\n",
    "gt_variance['trend_score'] = aapl['trend_score']\n",
    "gt_variance = gt_variance.merge(gt_download, how = 'left', left_index = True, right_index = True)\n",
    "gt_variance['difference'] = gt_variance['trend_score'] - gt_variance['aapl']\n",
    "gt_variance['difference'].describe()"
   ]
  },
  {
   "cell_type": "markdown",
   "metadata": {},
   "source": [
    "The difference between PyTrends and the download directly from Google Trends is about .36 points/day. Pytrends is never off by more than 5 points on a day.\n",
    "\n",
    "My guess is that the difference between the two sources is due to when the searches are performed. These scores are subjective based on the time period searched."
   ]
  },
  {
   "cell_type": "code",
   "execution_count": 29,
   "metadata": {},
   "outputs": [
    {
     "data": {
      "image/png": "[encoded data removed]",
      "text/plain": [
       "<Figure size 432x288 with 1 Axes>"
      ]
     },
     "metadata": {
      "needs_background": "light"
     },
     "output_type": "display_data"
    }
   ],
   "source": [
    "plt.plot(gt_variance[['trend_score', 'aapl']]);"
   ]
  },
  {
   "cell_type": "markdown",
   "metadata": {},
   "source": [
    "As we can see in the above graph the trend_score from my create_ticker_df and the direct download are very closely overlayed. So for our purposes PyTrends is accurate enough and the difference is immaterial.\n",
    "\n",
    "Another observation from the above graph is that the search interest in aapl is cyclical. This makes sense as Apple releases products and financial statements periodically which would increase search interest. In our modeling we could account for this seasonality."
   ]
  },
  {
   "cell_type": "markdown",
   "metadata": {},
   "source": [
    "### Other EDA to check that create_ticker_df data is accurate"
   ]
  },
  {
   "cell_type": "code",
   "execution_count": 30,
   "metadata": {},
   "outputs": [
    {
     "data": {
      "text/plain": [
       "<AxesSubplot:>"
      ]
     },
     "execution_count": 30,
     "metadata": {},
     "output_type": "execute_result"
    },
    {
     "data": {
      "image/png": "[encoded data removed]",
      "text/plain": [
       "<Figure size 432x288 with 1 Axes>"
      ]
     },
     "metadata": {
      "needs_background": "light"
     },
     "output_type": "display_data"
    }
   ],
   "source": [
    "aapl['daily_pct_return'].hist(bins = 20)"
   ]
  },
  {
   "cell_type": "markdown",
   "metadata": {},
   "source": [
    "The histogram of daily returns is normally shaped with a few outliers. This fits our expectations about the behavior of Apple's stock price"
   ]
  },
  {
   "cell_type": "code",
   "execution_count": 31,
   "metadata": {},
   "outputs": [
    {
     "data": {
      "text/plain": [
       "0.0015205344430411372"
      ]
     },
     "execution_count": 31,
     "metadata": {},
     "output_type": "execute_result"
    }
   ],
   "source": [
    "mean_return = aapl['daily_pct_return'].mean()\n",
    "mean_return"
   ]
  },
  {
   "cell_type": "markdown",
   "metadata": {},
   "source": [
    "A mean return close to zero is fitting with our expectations"
   ]
  },
  {
   "cell_type": "code",
   "execution_count": 32,
   "metadata": {},
   "outputs": [
    {
     "data": {
      "text/plain": [
       "0.021715717046206954"
      ]
     },
     "execution_count": 32,
     "metadata": {},
     "output_type": "execute_result"
    }
   ],
   "source": [
    "std_return = aapl['daily_pct_return'].std()\n",
    "std_return"
   ]
  },
  {
   "cell_type": "markdown",
   "metadata": {},
   "source": [
    "A low standard deviation is fitting with our expecations because it means that most days there will not be a large swing in the stock price"
   ]
  },
  {
   "cell_type": "code",
   "execution_count": 33,
   "metadata": {},
   "outputs": [
    {
     "data": {
      "text/plain": [
       "5.391441242809365"
      ]
     },
     "execution_count": 33,
     "metadata": {},
     "output_type": "execute_result"
    }
   ],
   "source": [
    "aapl['daily_pct_return'].kurtosis()"
   ]
  },
  {
   "cell_type": "markdown",
   "metadata": {},
   "source": [
    "A kurtosis value well above 1 means that the tail of the distribution is a small amount of the dataset. This fits our expectations because it is another indicator that days with large price swings are rare"
   ]
  },
  {
   "cell_type": "markdown",
   "metadata": {},
   "source": [
    "### Checking for seasonality, autocorrelation"
   ]
  },
  {
   "cell_type": "code",
   "execution_count": 34,
   "metadata": {},
   "outputs": [
    {
     "data": {
      "image/png": "[encoded data removed]",
      "text/plain": [
       "<Figure size 432x288 with 3 Axes>"
      ]
     },
     "metadata": {
      "needs_background": "light"
     },
     "output_type": "display_data"
    }
   ],
   "source": [
    "# Decompose time series into trend, seasonal, and residual components.\n",
    "decomp = seasonal_decompose(aapl['adjusted_close'], period = 90, model = 'multiplicative')\n",
    "\n",
    "# Plot the decomposed time series.\n",
    "decomp.plot(seasonal= False);"
   ]
  },
  {
   "cell_type": "markdown",
   "metadata": {},
   "source": [
    "We already have lag columns set up for 1,2,3,7,30,90, and 365 days. We can use statsmodels to view the PACF plot for the lags 30 and below. Looking at the time series graph of AAPL's adjusted closing price, it doesn't appear there is much seasonlity that would indicate the quarterly and yearly lags would have a signifigant autocorrelation with adjusted_closing_price. \n"
   ]
  },
  {
   "cell_type": "code",
   "execution_count": 35,
   "metadata": {},
   "outputs": [
    {
     "data": {
      "image/png": "[encoded data removed]",
      "text/plain": [
       "<Figure size 432x288 with 1 Axes>"
      ]
     },
     "metadata": {
      "needs_background": "light"
     },
     "output_type": "display_data"
    }
   ],
   "source": [
    "plot_pacf(aapl['adjusted_close'], lags = 30);"
   ]
  },
  {
   "cell_type": "markdown",
   "metadata": {},
   "source": [
    "The PACF plot above shows that lag_1 has by far the highest partial autocorrelation with adjusted_close. All of the other lags under 30 days fall into or very close to the blue shaded area, meaning that they are likely not statistically signifigant."
   ]
  }
 ],
 "metadata": {
  "kernelspec": {
   "display_name": "Python 3",
   "language": "python",
   "name": "python3"
  },
  "language_info": {
   "codemirror_mode": {
    "name": "ipython",
    "version": 3
   },
   "file_extension": ".py",
   "mimetype": "text/x-python",
   "name": "python",
   "nbconvert_exporter": "python",
   "pygments_lexer": "ipython3",
   "version": "3.8.5"
  }
 },
 "nbformat": 4,
 "nbformat_minor": 4
}
