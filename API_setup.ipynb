{
 "cells": [
  {
   "cell_type": "markdown",
   "metadata": {},
   "source": [
    "# Creating a Function to Collect Stock and Trends Data for Any Ticker"
   ]
  },
  {
   "cell_type": "markdown",
   "metadata": {},
   "source": [
    "The goal of this workbook is to use APIs to get the following for any ticker:\n",
    "- Daily open, high, low, close, adjusted close, volume, dividend amount, and split coefficient\n",
    "- Google trends score\n",
    "\n",
    "Over the period 01.02.18-06.1.21\n",
    "\n",
    "Step One: Create a DataFrame for an example ticker. In this case I will use IBM.\n",
    "\n",
    "Step Two: Generalize the code used for IBM into a function that can be used for any ticker. That function will be named create_ticker_df"
   ]
  },
  {
   "cell_type": "markdown",
   "metadata": {},
   "source": [
    "## Step One: Create a DataFrame for an example ticker. In this case I will use IBM."
   ]
  },
  {
   "cell_type": "markdown",
   "metadata": {},
   "source": [
    "### Collecting Stock Data Using Alpha Vantage"
   ]
  },
  {
   "cell_type": "code",
   "execution_count": 443,
   "metadata": {},
   "outputs": [],
   "source": [
    "key = '49KFJCFS3P6CEU4F'"
   ]
  },
  {
   "cell_type": "code",
   "execution_count": 444,
   "metadata": {},
   "outputs": [],
   "source": [
    "from alpha_vantage.timeseries import TimeSeries"
   ]
  },
  {
   "cell_type": "code",
   "execution_count": 445,
   "metadata": {},
   "outputs": [
    {
     "name": "stdout",
     "output_type": "stream",
     "text": [
      "{'1. open': '145.0', '2. high': '145.83', '3. low': '143.75', '4. close': '144.19', '5. adjusted close': '144.19', '6. volume': '2417455', '7. dividend amount': '0.0000', '8. split coefficient': '1.0'}\n",
      "{'1. open': '154.5', '2. high': '154.81', '3. low': '153.54', '4. close': '154.25', '5. adjusted close': '130.577642951', '6. volume': '4195225', '7. dividend amount': '0.0000', '8. split coefficient': '1.0'}\n"
     ]
    }
   ],
   "source": [
    "#time series daily adjusted. Works but only goes back to 9/19\n",
    "import requests\n",
    "\n",
    "# replace the \"demo\" apikey below with your own key from https://www.alphavantage.co/support/#api-key\n",
    "url = 'https://www.alphavantage.co/query?function=TIME_SERIES_DAILY_ADJUSTED&symbol=IBM&apikey=49KFJCFS3P6CEU4F&outputsize=full'\n",
    "r = requests.get(url)\n",
    "data = r.json()\n",
    "\n",
    "print(data['Time Series (Daily)']['2021-06-01'])\n",
    "print(data['Time Series (Daily)']['2018-01-02'])"
   ]
  },
  {
   "cell_type": "markdown",
   "metadata": {},
   "source": [
    "The alpha vantage api is able to get the data for the time frame we want. The next step is to translate the JSON into a DataFrame and filter for the date range that I want."
   ]
  },
  {
   "cell_type": "code",
   "execution_count": 446,
   "metadata": {},
   "outputs": [],
   "source": [
    "import pandas as pd"
   ]
  },
  {
   "cell_type": "code",
   "execution_count": 447,
   "metadata": {},
   "outputs": [],
   "source": [
    "ibm = pd.DataFrame(data['Time Series (Daily)']).T"
   ]
  },
  {
   "cell_type": "code",
   "execution_count": 448,
   "metadata": {},
   "outputs": [],
   "source": [
    "ibm['date'] = ibm.index"
   ]
  },
  {
   "cell_type": "code",
   "execution_count": 449,
   "metadata": {},
   "outputs": [],
   "source": [
    "ibm.index = pd.to_datetime(ibm['date'])"
   ]
  },
  {
   "cell_type": "code",
   "execution_count": 450,
   "metadata": {},
   "outputs": [],
   "source": [
    "ibm = ibm[ibm['date'] > '2018-01-01']\n",
    "ibm = ibm[ibm['date'] < '2021-06-02']\n",
    "ibm.drop(columns = 'date', inplace = True)"
   ]
  },
  {
   "cell_type": "code",
   "execution_count": 451,
   "metadata": {},
   "outputs": [],
   "source": [
    "ibm.sort_index(inplace=True)"
   ]
  },
  {
   "cell_type": "code",
   "execution_count": 452,
   "metadata": {},
   "outputs": [
    {
     "data": {
      "text/plain": [
       "(859, 8)"
      ]
     },
     "execution_count": 452,
     "metadata": {},
     "output_type": "execute_result"
    }
   ],
   "source": [
    "ibm.shape"
   ]
  },
  {
   "cell_type": "markdown",
   "metadata": {},
   "source": [
    "Now our dataframe is the correct date range. Now it is time to fix the data types and add a column for the daily lag and percent change"
   ]
  },
  {
   "cell_type": "code",
   "execution_count": 453,
   "metadata": {},
   "outputs": [
    {
     "data": {
      "text/html": [
       "<div>\n",
       "<style scoped>\n",
       "    .dataframe tbody tr th:only-of-type {\n",
       "        vertical-align: middle;\n",
       "    }\n",
       "\n",
       "    .dataframe tbody tr th {\n",
       "        vertical-align: top;\n",
       "    }\n",
       "\n",
       "    .dataframe thead th {\n",
       "        text-align: right;\n",
       "    }\n",
       "</style>\n",
       "<table border=\"1\" class=\"dataframe\">\n",
       "  <thead>\n",
       "    <tr style=\"text-align: right;\">\n",
       "      <th></th>\n",
       "      <th>1. open</th>\n",
       "      <th>2. high</th>\n",
       "      <th>3. low</th>\n",
       "      <th>4. close</th>\n",
       "      <th>5. adjusted close</th>\n",
       "      <th>6. volume</th>\n",
       "      <th>7. dividend amount</th>\n",
       "      <th>8. split coefficient</th>\n",
       "      <th>daily_lag</th>\n",
       "    </tr>\n",
       "    <tr>\n",
       "      <th>date</th>\n",
       "      <th></th>\n",
       "      <th></th>\n",
       "      <th></th>\n",
       "      <th></th>\n",
       "      <th></th>\n",
       "      <th></th>\n",
       "      <th></th>\n",
       "      <th></th>\n",
       "      <th></th>\n",
       "    </tr>\n",
       "  </thead>\n",
       "  <tbody>\n",
       "    <tr>\n",
       "      <th>2018-01-02</th>\n",
       "      <td>154.5</td>\n",
       "      <td>154.81</td>\n",
       "      <td>153.54</td>\n",
       "      <td>154.25</td>\n",
       "      <td>130.577642951</td>\n",
       "      <td>4195225</td>\n",
       "      <td>0.0000</td>\n",
       "      <td>1.0</td>\n",
       "      <td>NaN</td>\n",
       "    </tr>\n",
       "    <tr>\n",
       "      <th>2018-01-03</th>\n",
       "      <td>157.34</td>\n",
       "      <td>159.81</td>\n",
       "      <td>156.33</td>\n",
       "      <td>158.49</td>\n",
       "      <td>134.166940883</td>\n",
       "      <td>9439063</td>\n",
       "      <td>0.0000</td>\n",
       "      <td>1.0</td>\n",
       "      <td>130.577642951</td>\n",
       "    </tr>\n",
       "    <tr>\n",
       "      <th>2018-01-04</th>\n",
       "      <td>159.65</td>\n",
       "      <td>162.32</td>\n",
       "      <td>159.37</td>\n",
       "      <td>161.7</td>\n",
       "      <td>136.884310309</td>\n",
       "      <td>7363843</td>\n",
       "      <td>0.0000</td>\n",
       "      <td>1.0</td>\n",
       "      <td>134.166940883</td>\n",
       "    </tr>\n",
       "    <tr>\n",
       "      <th>2018-01-05</th>\n",
       "      <td>162.44</td>\n",
       "      <td>162.9</td>\n",
       "      <td>161.1</td>\n",
       "      <td>162.49</td>\n",
       "      <td>137.553071008</td>\n",
       "      <td>5162075</td>\n",
       "      <td>0.0000</td>\n",
       "      <td>1.0</td>\n",
       "      <td>136.884310309</td>\n",
       "    </tr>\n",
       "    <tr>\n",
       "      <th>2018-01-08</th>\n",
       "      <td>162.66</td>\n",
       "      <td>163.91</td>\n",
       "      <td>161.7</td>\n",
       "      <td>163.47</td>\n",
       "      <td>138.382672889</td>\n",
       "      <td>5101023</td>\n",
       "      <td>0.0000</td>\n",
       "      <td>1.0</td>\n",
       "      <td>137.553071008</td>\n",
       "    </tr>\n",
       "  </tbody>\n",
       "</table>\n",
       "</div>"
      ],
      "text/plain": [
       "           1. open 2. high  3. low 4. close 5. adjusted close 6. volume  \\\n",
       "date                                                                      \n",
       "2018-01-02   154.5  154.81  153.54   154.25     130.577642951   4195225   \n",
       "2018-01-03  157.34  159.81  156.33   158.49     134.166940883   9439063   \n",
       "2018-01-04  159.65  162.32  159.37    161.7     136.884310309   7363843   \n",
       "2018-01-05  162.44   162.9   161.1   162.49     137.553071008   5162075   \n",
       "2018-01-08  162.66  163.91   161.7   163.47     138.382672889   5101023   \n",
       "\n",
       "           7. dividend amount 8. split coefficient      daily_lag  \n",
       "date                                                               \n",
       "2018-01-02             0.0000                  1.0            NaN  \n",
       "2018-01-03             0.0000                  1.0  130.577642951  \n",
       "2018-01-04             0.0000                  1.0  134.166940883  \n",
       "2018-01-05             0.0000                  1.0  136.884310309  \n",
       "2018-01-08             0.0000                  1.0  137.553071008  "
      ]
     },
     "execution_count": 453,
     "metadata": {},
     "output_type": "execute_result"
    }
   ],
   "source": [
    "ibm['daily_lag'] =  ibm['5. adjusted close'].shift(1)\n",
    "ibm.head()"
   ]
  },
  {
   "cell_type": "code",
   "execution_count": 454,
   "metadata": {},
   "outputs": [],
   "source": [
    "for col in ibm.columns:\n",
    "    ibm[col] = pd.to_numeric(ibm[col])"
   ]
  },
  {
   "cell_type": "code",
   "execution_count": 455,
   "metadata": {},
   "outputs": [],
   "source": [
    "ibm['daily_returns'] = ibm['5. adjusted close'] - ibm['daily_lag']\n",
    "ibm['daily_pct_return'] = ibm['daily_returns']/ibm['5. adjusted close'].shift(1)\n",
    "ibm['rolling_3d_adj_close'] = ibm['5. adjusted close'].rolling(3).mean()\n",
    "\n",
    "ibm.drop(columns = 'daily_lag', inplace = True)"
   ]
  },
  {
   "cell_type": "markdown",
   "metadata": {},
   "source": [
    "To help account for the effect of covid on the stock market as a whole, we will add a column to our dataset that is the adjusted close of the SPDR S&P 500 ETF. It is the largest ETF in the world and tracks the S&P 500, making it a good proxy for the performance of the market overall"
   ]
  },
  {
   "cell_type": "code",
   "execution_count": 456,
   "metadata": {},
   "outputs": [],
   "source": [
    "def spdr_adj_close():\n",
    "    url = f'https://www.alphavantage.co/query?function=TIME_SERIES_DAILY_ADJUSTED&symbol=spy&apikey=49KFJCFS3P6CEU4F&outputsize=full'\n",
    "    r = requests.get(url)\n",
    "    data = r.json()\n",
    "    df = pd.DataFrame(data['Time Series (Daily)']).T\n",
    "    df['date'] = df.index\n",
    "    df.index = pd.to_datetime(df['date'])\n",
    "    df = df[df['date'] > '2018-01-01']\n",
    "    df = df[df['date'] < '2021-06-02']\n",
    "    df.drop(columns = 'date', inplace = True)\n",
    "    df.sort_index(inplace=True)\n",
    "    return df['5. adjusted close']"
   ]
  },
  {
   "cell_type": "code",
   "execution_count": 457,
   "metadata": {},
   "outputs": [
    {
     "data": {
      "text/html": [
       "<div>\n",
       "<style scoped>\n",
       "    .dataframe tbody tr th:only-of-type {\n",
       "        vertical-align: middle;\n",
       "    }\n",
       "\n",
       "    .dataframe tbody tr th {\n",
       "        vertical-align: top;\n",
       "    }\n",
       "\n",
       "    .dataframe thead th {\n",
       "        text-align: right;\n",
       "    }\n",
       "</style>\n",
       "<table border=\"1\" class=\"dataframe\">\n",
       "  <thead>\n",
       "    <tr style=\"text-align: right;\">\n",
       "      <th></th>\n",
       "      <th>1. open</th>\n",
       "      <th>2. high</th>\n",
       "      <th>3. low</th>\n",
       "      <th>4. close</th>\n",
       "      <th>5. adjusted close</th>\n",
       "      <th>6. volume</th>\n",
       "      <th>7. dividend amount</th>\n",
       "      <th>8. split coefficient</th>\n",
       "      <th>daily_returns</th>\n",
       "      <th>daily_pct_return</th>\n",
       "      <th>rolling_3d_adj_close</th>\n",
       "    </tr>\n",
       "    <tr>\n",
       "      <th>date</th>\n",
       "      <th></th>\n",
       "      <th></th>\n",
       "      <th></th>\n",
       "      <th></th>\n",
       "      <th></th>\n",
       "      <th></th>\n",
       "      <th></th>\n",
       "      <th></th>\n",
       "      <th></th>\n",
       "      <th></th>\n",
       "      <th></th>\n",
       "    </tr>\n",
       "  </thead>\n",
       "  <tbody>\n",
       "    <tr>\n",
       "      <th>2018-01-02</th>\n",
       "      <td>154.50</td>\n",
       "      <td>154.81</td>\n",
       "      <td>153.54</td>\n",
       "      <td>154.25</td>\n",
       "      <td>130.577643</td>\n",
       "      <td>4195225</td>\n",
       "      <td>0.0</td>\n",
       "      <td>1.0</td>\n",
       "      <td>NaN</td>\n",
       "      <td>NaN</td>\n",
       "      <td>NaN</td>\n",
       "    </tr>\n",
       "    <tr>\n",
       "      <th>2018-01-03</th>\n",
       "      <td>157.34</td>\n",
       "      <td>159.81</td>\n",
       "      <td>156.33</td>\n",
       "      <td>158.49</td>\n",
       "      <td>134.166941</td>\n",
       "      <td>9439063</td>\n",
       "      <td>0.0</td>\n",
       "      <td>1.0</td>\n",
       "      <td>3.589298</td>\n",
       "      <td>0.027488</td>\n",
       "      <td>NaN</td>\n",
       "    </tr>\n",
       "    <tr>\n",
       "      <th>2018-01-04</th>\n",
       "      <td>159.65</td>\n",
       "      <td>162.32</td>\n",
       "      <td>159.37</td>\n",
       "      <td>161.70</td>\n",
       "      <td>136.884310</td>\n",
       "      <td>7363843</td>\n",
       "      <td>0.0</td>\n",
       "      <td>1.0</td>\n",
       "      <td>2.717369</td>\n",
       "      <td>0.020254</td>\n",
       "      <td>133.876298</td>\n",
       "    </tr>\n",
       "    <tr>\n",
       "      <th>2018-01-05</th>\n",
       "      <td>162.44</td>\n",
       "      <td>162.90</td>\n",
       "      <td>161.10</td>\n",
       "      <td>162.49</td>\n",
       "      <td>137.553071</td>\n",
       "      <td>5162075</td>\n",
       "      <td>0.0</td>\n",
       "      <td>1.0</td>\n",
       "      <td>0.668761</td>\n",
       "      <td>0.004886</td>\n",
       "      <td>136.201441</td>\n",
       "    </tr>\n",
       "    <tr>\n",
       "      <th>2018-01-08</th>\n",
       "      <td>162.66</td>\n",
       "      <td>163.91</td>\n",
       "      <td>161.70</td>\n",
       "      <td>163.47</td>\n",
       "      <td>138.382673</td>\n",
       "      <td>5101023</td>\n",
       "      <td>0.0</td>\n",
       "      <td>1.0</td>\n",
       "      <td>0.829602</td>\n",
       "      <td>0.006031</td>\n",
       "      <td>137.606685</td>\n",
       "    </tr>\n",
       "  </tbody>\n",
       "</table>\n",
       "</div>"
      ],
      "text/plain": [
       "            1. open  2. high  3. low  4. close  5. adjusted close  6. volume  \\\n",
       "date                                                                           \n",
       "2018-01-02   154.50   154.81  153.54    154.25         130.577643    4195225   \n",
       "2018-01-03   157.34   159.81  156.33    158.49         134.166941    9439063   \n",
       "2018-01-04   159.65   162.32  159.37    161.70         136.884310    7363843   \n",
       "2018-01-05   162.44   162.90  161.10    162.49         137.553071    5162075   \n",
       "2018-01-08   162.66   163.91  161.70    163.47         138.382673    5101023   \n",
       "\n",
       "            7. dividend amount  8. split coefficient  daily_returns  \\\n",
       "date                                                                  \n",
       "2018-01-02                 0.0                   1.0            NaN   \n",
       "2018-01-03                 0.0                   1.0       3.589298   \n",
       "2018-01-04                 0.0                   1.0       2.717369   \n",
       "2018-01-05                 0.0                   1.0       0.668761   \n",
       "2018-01-08                 0.0                   1.0       0.829602   \n",
       "\n",
       "            daily_pct_return  rolling_3d_adj_close  \n",
       "date                                                \n",
       "2018-01-02               NaN                   NaN  \n",
       "2018-01-03          0.027488                   NaN  \n",
       "2018-01-04          0.020254            133.876298  \n",
       "2018-01-05          0.004886            136.201441  \n",
       "2018-01-08          0.006031            137.606685  "
      ]
     },
     "execution_count": 457,
     "metadata": {},
     "output_type": "execute_result"
    }
   ],
   "source": [
    "ibm.head()"
   ]
  },
  {
   "cell_type": "code",
   "execution_count": 458,
   "metadata": {},
   "outputs": [
    {
     "data": {
      "text/plain": [
       "dtype('<M8[ns]')"
      ]
     },
     "execution_count": 458,
     "metadata": {},
     "output_type": "execute_result"
    }
   ],
   "source": [
    "ibm.index.dtype"
   ]
  },
  {
   "cell_type": "code",
   "execution_count": 459,
   "metadata": {},
   "outputs": [
    {
     "data": {
      "text/plain": [
       "open               float64\n",
       "high               float64\n",
       "low                float64\n",
       "close              float64\n",
       "adjusted_close     float64\n",
       "volume               int64\n",
       "dividend amount    float64\n",
       "split_coef         float64\n",
       "trend_score          int32\n",
       "dtype: object"
      ]
     },
     "execution_count": 459,
     "metadata": {},
     "output_type": "execute_result"
    }
   ],
   "source": [
    "pton.dtypes"
   ]
  },
  {
   "cell_type": "markdown",
   "metadata": {},
   "source": [
    "## Collecting Trends Data Using Google Trends API"
   ]
  },
  {
   "cell_type": "code",
   "execution_count": 460,
   "metadata": {},
   "outputs": [],
   "source": [
    "import pandas as pd                        \n",
    "from pytrends.request import TrendReq\n",
    "pytrend = TrendReq()"
   ]
  },
  {
   "cell_type": "code",
   "execution_count": 461,
   "metadata": {},
   "outputs": [
    {
     "data": {
      "text/html": [
       "<div>\n",
       "<style scoped>\n",
       "    .dataframe tbody tr th:only-of-type {\n",
       "        vertical-align: middle;\n",
       "    }\n",
       "\n",
       "    .dataframe tbody tr th {\n",
       "        vertical-align: top;\n",
       "    }\n",
       "\n",
       "    .dataframe thead th {\n",
       "        text-align: right;\n",
       "    }\n",
       "</style>\n",
       "<table border=\"1\" class=\"dataframe\">\n",
       "  <thead>\n",
       "    <tr style=\"text-align: right;\">\n",
       "      <th></th>\n",
       "      <th>IBM</th>\n",
       "      <th>isPartial</th>\n",
       "    </tr>\n",
       "    <tr>\n",
       "      <th>date</th>\n",
       "      <th></th>\n",
       "      <th></th>\n",
       "    </tr>\n",
       "  </thead>\n",
       "  <tbody>\n",
       "    <tr>\n",
       "      <th>2021-05-02</th>\n",
       "      <td>52</td>\n",
       "      <td>False</td>\n",
       "    </tr>\n",
       "    <tr>\n",
       "      <th>2021-05-09</th>\n",
       "      <td>53</td>\n",
       "      <td>False</td>\n",
       "    </tr>\n",
       "    <tr>\n",
       "      <th>2021-05-16</th>\n",
       "      <td>52</td>\n",
       "      <td>False</td>\n",
       "    </tr>\n",
       "    <tr>\n",
       "      <th>2021-05-23</th>\n",
       "      <td>52</td>\n",
       "      <td>False</td>\n",
       "    </tr>\n",
       "    <tr>\n",
       "      <th>2021-05-30</th>\n",
       "      <td>49</td>\n",
       "      <td>False</td>\n",
       "    </tr>\n",
       "    <tr>\n",
       "      <th>2021-06-06</th>\n",
       "      <td>51</td>\n",
       "      <td>False</td>\n",
       "    </tr>\n",
       "    <tr>\n",
       "      <th>2021-06-13</th>\n",
       "      <td>49</td>\n",
       "      <td>False</td>\n",
       "    </tr>\n",
       "    <tr>\n",
       "      <th>2021-06-20</th>\n",
       "      <td>48</td>\n",
       "      <td>False</td>\n",
       "    </tr>\n",
       "    <tr>\n",
       "      <th>2021-06-27</th>\n",
       "      <td>48</td>\n",
       "      <td>False</td>\n",
       "    </tr>\n",
       "    <tr>\n",
       "      <th>2021-07-04</th>\n",
       "      <td>48</td>\n",
       "      <td>False</td>\n",
       "    </tr>\n",
       "  </tbody>\n",
       "</table>\n",
       "</div>"
      ],
      "text/plain": [
       "            IBM  isPartial\n",
       "date                      \n",
       "2021-05-02   52      False\n",
       "2021-05-09   53      False\n",
       "2021-05-16   52      False\n",
       "2021-05-23   52      False\n",
       "2021-05-30   49      False\n",
       "2021-06-06   51      False\n",
       "2021-06-13   49      False\n",
       "2021-06-20   48      False\n",
       "2021-06-27   48      False\n",
       "2021-07-04   48      False"
      ]
     },
     "execution_count": 461,
     "metadata": {},
     "output_type": "execute_result"
    }
   ],
   "source": [
    "pytrend.build_payload(kw_list=['IBM'])\n",
    "# Interest by Region\n",
    "df = pytrend.interest_over_time()\n",
    "df.tail(10)"
   ]
  },
  {
   "cell_type": "code",
   "execution_count": 462,
   "metadata": {},
   "outputs": [],
   "source": [
    "#google trends only reports data by the week. Since the dataframe we want has a daily index, we will fill out the days based on the trend score at the beginning of that week.\n",
    "trends = df['IBM'].resample('D', convention = 'start').pad()"
   ]
  },
  {
   "cell_type": "code",
   "execution_count": 463,
   "metadata": {},
   "outputs": [
    {
     "data": {
      "text/html": [
       "<div>\n",
       "<style scoped>\n",
       "    .dataframe tbody tr th:only-of-type {\n",
       "        vertical-align: middle;\n",
       "    }\n",
       "\n",
       "    .dataframe tbody tr th {\n",
       "        vertical-align: top;\n",
       "    }\n",
       "\n",
       "    .dataframe thead th {\n",
       "        text-align: right;\n",
       "    }\n",
       "</style>\n",
       "<table border=\"1\" class=\"dataframe\">\n",
       "  <thead>\n",
       "    <tr style=\"text-align: right;\">\n",
       "      <th></th>\n",
       "      <th>trend_score</th>\n",
       "    </tr>\n",
       "    <tr>\n",
       "      <th>date</th>\n",
       "      <th></th>\n",
       "    </tr>\n",
       "  </thead>\n",
       "  <tbody>\n",
       "    <tr>\n",
       "      <th>2016-07-17</th>\n",
       "      <td>81</td>\n",
       "    </tr>\n",
       "    <tr>\n",
       "      <th>2016-07-18</th>\n",
       "      <td>81</td>\n",
       "    </tr>\n",
       "    <tr>\n",
       "      <th>2016-07-19</th>\n",
       "      <td>81</td>\n",
       "    </tr>\n",
       "    <tr>\n",
       "      <th>2016-07-20</th>\n",
       "      <td>81</td>\n",
       "    </tr>\n",
       "    <tr>\n",
       "      <th>2016-07-21</th>\n",
       "      <td>81</td>\n",
       "    </tr>\n",
       "    <tr>\n",
       "      <th>...</th>\n",
       "      <td>...</td>\n",
       "    </tr>\n",
       "    <tr>\n",
       "      <th>2021-06-30</th>\n",
       "      <td>48</td>\n",
       "    </tr>\n",
       "    <tr>\n",
       "      <th>2021-07-01</th>\n",
       "      <td>48</td>\n",
       "    </tr>\n",
       "    <tr>\n",
       "      <th>2021-07-02</th>\n",
       "      <td>48</td>\n",
       "    </tr>\n",
       "    <tr>\n",
       "      <th>2021-07-03</th>\n",
       "      <td>48</td>\n",
       "    </tr>\n",
       "    <tr>\n",
       "      <th>2021-07-04</th>\n",
       "      <td>48</td>\n",
       "    </tr>\n",
       "  </tbody>\n",
       "</table>\n",
       "<p>1814 rows × 1 columns</p>\n",
       "</div>"
      ],
      "text/plain": [
       "            trend_score\n",
       "date                   \n",
       "2016-07-17           81\n",
       "2016-07-18           81\n",
       "2016-07-19           81\n",
       "2016-07-20           81\n",
       "2016-07-21           81\n",
       "...                 ...\n",
       "2021-06-30           48\n",
       "2021-07-01           48\n",
       "2021-07-02           48\n",
       "2021-07-03           48\n",
       "2021-07-04           48\n",
       "\n",
       "[1814 rows x 1 columns]"
      ]
     },
     "execution_count": 463,
     "metadata": {},
     "output_type": "execute_result"
    }
   ],
   "source": [
    "trends = pd.DataFrame(trends)\n",
    "trends.rename(columns = {'IBM':'trend_score'}, inplace = True)\n",
    "trends"
   ]
  },
  {
   "cell_type": "markdown",
   "metadata": {},
   "source": [
    "Now we have the trends data on a daily index. The next step is to merge the stock data with the trends data. We will do a left merge such that we keep only the days where we have stock data (ie trading days after IPO)"
   ]
  },
  {
   "cell_type": "code",
   "execution_count": 464,
   "metadata": {},
   "outputs": [],
   "source": [
    "ibm = ibm.merge(trends, how = 'left', left_index = True, right_index = True)"
   ]
  },
  {
   "cell_type": "markdown",
   "metadata": {},
   "source": [
    "## Create a function to collect the data and create a dataframe for any ticker"
   ]
  },
  {
   "cell_type": "markdown",
   "metadata": {},
   "source": [
    "The below function is the same code I used for IBM but generalized so the function can be used for any ticker"
   ]
  },
  {
   "cell_type": "code",
   "execution_count": 465,
   "metadata": {},
   "outputs": [],
   "source": [
    "#create function from the code above that can be used for any ticker\n",
    "def create_ticker_df (ticker):\n",
    "    '''Returns a DataFrame of stock and Google Trends data for the given ticker. The output will be daily data 1/2/18-6/1/21'''\n",
    "    #collect stock data using Alpha Vantage API\n",
    "    url = f'https://www.alphavantage.co/query?function=TIME_SERIES_DAILY_ADJUSTED&symbol={ticker}&apikey=49KFJCFS3P6CEU4F&outputsize=full'\n",
    "    r = requests.get(url)\n",
    "    data = r.json()\n",
    "    df = pd.DataFrame(data['Time Series (Daily)']).T\n",
    "    \n",
    "    #filter to include 2018.01.02 - 2021.06.01\n",
    "    df['date'] = df.index\n",
    "    df.index = pd.to_datetime(df['date'])\n",
    "    df = df[df['date'] > '2018-01-01']\n",
    "    df = df[df['date'] < '2021-06-02']\n",
    "    df.drop(columns = 'date', inplace = True)\n",
    "    df.sort_index(inplace=True)\n",
    "    \n",
    "    #add lag columns\n",
    "    days_to_lag = [1,2,3,7,30,90,365]\n",
    "    for day in days_to_lag:\n",
    "        df[f'lag_{day}'] = df['5. adjusted close'].shift(day)\n",
    "    \n",
    "    #fix dtypes and column names\n",
    "    df['spdr_adj_close'] = spdr_adj_close()\n",
    "   \n",
    "    \n",
    "    for col in df.columns:\n",
    "        df[col] = pd.to_numeric(df[col])\n",
    "    df['daily_returns'] = df['5. adjusted close'] - df['lag_1']\n",
    "    df['daily_pct_return'] = df['daily_returns']/df['5. adjusted close'].shift(1)\n",
    "    df['rolling_3d_adj_close'] = df['5. adjusted close'].rolling(3).mean()\n",
    "    df.rename(columns = {'1. open': 'open',\n",
    "                        '2. high': 'high',\n",
    "                        '3. low': 'low',\n",
    "                        '4. close': 'close',\n",
    "                        '5. adjusted close': 'adjusted_close',\n",
    "                        '6. volume': 'volume',\n",
    "                        '7. dividend amount': 'dividend amount',\n",
    "                        '8. split coefficient': 'splitcoef',\n",
    "                        'daily_returns' : 'daily_returns'}, inplace = True)\n",
    "        \n",
    "    #Collect Google Trends data using pytrends api\n",
    "    pytrend.build_payload(kw_list=[ticker])\n",
    "    google = pytrend.interest_over_time()\n",
    "    trends = google[ticker].resample('D', convention = 'start').pad()\n",
    "    trends = pd.DataFrame(trends)\n",
    "    trends.rename(columns = {ticker:'trend_score'}, inplace = True)\n",
    "    \n",
    "    #merge stock data with trends data\n",
    "    df = df.merge(trends, how = 'left', left_index = True, right_index = True)\n",
    "    \n",
    "    return df"
   ]
  },
  {
   "cell_type": "markdown",
   "metadata": {},
   "source": [
    "Test create_ticker_df on Apple:"
   ]
  },
  {
   "cell_type": "code",
   "execution_count": 466,
   "metadata": {},
   "outputs": [],
   "source": [
    "aapl = create_ticker_df('aapl')"
   ]
  },
  {
   "cell_type": "code",
   "execution_count": 467,
   "metadata": {},
   "outputs": [
    {
     "data": {
      "text/html": [
       "<div>\n",
       "<style scoped>\n",
       "    .dataframe tbody tr th:only-of-type {\n",
       "        vertical-align: middle;\n",
       "    }\n",
       "\n",
       "    .dataframe tbody tr th {\n",
       "        vertical-align: top;\n",
       "    }\n",
       "\n",
       "    .dataframe thead th {\n",
       "        text-align: right;\n",
       "    }\n",
       "</style>\n",
       "<table border=\"1\" class=\"dataframe\">\n",
       "  <thead>\n",
       "    <tr style=\"text-align: right;\">\n",
       "      <th></th>\n",
       "      <th>open</th>\n",
       "      <th>high</th>\n",
       "      <th>low</th>\n",
       "      <th>close</th>\n",
       "      <th>adjusted_close</th>\n",
       "      <th>volume</th>\n",
       "      <th>dividend amount</th>\n",
       "      <th>splitcoef</th>\n",
       "      <th>lag_1</th>\n",
       "      <th>lag_2</th>\n",
       "      <th>lag_3</th>\n",
       "      <th>lag_7</th>\n",
       "      <th>lag_30</th>\n",
       "      <th>lag_90</th>\n",
       "      <th>lag_365</th>\n",
       "      <th>spdr_adj_close</th>\n",
       "      <th>daily_returns</th>\n",
       "      <th>daily_pct_return</th>\n",
       "      <th>rolling_3d_adj_close</th>\n",
       "      <th>trend_score</th>\n",
       "    </tr>\n",
       "    <tr>\n",
       "      <th>date</th>\n",
       "      <th></th>\n",
       "      <th></th>\n",
       "      <th></th>\n",
       "      <th></th>\n",
       "      <th></th>\n",
       "      <th></th>\n",
       "      <th></th>\n",
       "      <th></th>\n",
       "      <th></th>\n",
       "      <th></th>\n",
       "      <th></th>\n",
       "      <th></th>\n",
       "      <th></th>\n",
       "      <th></th>\n",
       "      <th></th>\n",
       "      <th></th>\n",
       "      <th></th>\n",
       "      <th></th>\n",
       "      <th></th>\n",
       "      <th></th>\n",
       "    </tr>\n",
       "  </thead>\n",
       "  <tbody>\n",
       "    <tr>\n",
       "      <th>2018-01-02</th>\n",
       "      <td>170.160</td>\n",
       "      <td>172.30</td>\n",
       "      <td>169.26</td>\n",
       "      <td>172.26</td>\n",
       "      <td>41.308268</td>\n",
       "      <td>25048048</td>\n",
       "      <td>0.0</td>\n",
       "      <td>1.0</td>\n",
       "      <td>NaN</td>\n",
       "      <td>NaN</td>\n",
       "      <td>NaN</td>\n",
       "      <td>NaN</td>\n",
       "      <td>NaN</td>\n",
       "      <td>NaN</td>\n",
       "      <td>NaN</td>\n",
       "      <td>252.328547</td>\n",
       "      <td>NaN</td>\n",
       "      <td>NaN</td>\n",
       "      <td>NaN</td>\n",
       "      <td>19</td>\n",
       "    </tr>\n",
       "    <tr>\n",
       "      <th>2018-01-03</th>\n",
       "      <td>172.530</td>\n",
       "      <td>174.55</td>\n",
       "      <td>171.96</td>\n",
       "      <td>172.23</td>\n",
       "      <td>41.301074</td>\n",
       "      <td>28819653</td>\n",
       "      <td>0.0</td>\n",
       "      <td>1.0</td>\n",
       "      <td>41.308268</td>\n",
       "      <td>NaN</td>\n",
       "      <td>NaN</td>\n",
       "      <td>NaN</td>\n",
       "      <td>NaN</td>\n",
       "      <td>NaN</td>\n",
       "      <td>NaN</td>\n",
       "      <td>253.924553</td>\n",
       "      <td>-0.007194</td>\n",
       "      <td>-0.000174</td>\n",
       "      <td>NaN</td>\n",
       "      <td>19</td>\n",
       "    </tr>\n",
       "    <tr>\n",
       "      <th>2018-01-04</th>\n",
       "      <td>172.540</td>\n",
       "      <td>173.47</td>\n",
       "      <td>172.08</td>\n",
       "      <td>173.03</td>\n",
       "      <td>41.492916</td>\n",
       "      <td>22211345</td>\n",
       "      <td>0.0</td>\n",
       "      <td>1.0</td>\n",
       "      <td>41.301074</td>\n",
       "      <td>41.308268</td>\n",
       "      <td>NaN</td>\n",
       "      <td>NaN</td>\n",
       "      <td>NaN</td>\n",
       "      <td>NaN</td>\n",
       "      <td>NaN</td>\n",
       "      <td>254.994815</td>\n",
       "      <td>0.191841</td>\n",
       "      <td>0.004645</td>\n",
       "      <td>41.367419</td>\n",
       "      <td>19</td>\n",
       "    </tr>\n",
       "    <tr>\n",
       "      <th>2018-01-05</th>\n",
       "      <td>173.440</td>\n",
       "      <td>175.37</td>\n",
       "      <td>173.05</td>\n",
       "      <td>175.00</td>\n",
       "      <td>41.965325</td>\n",
       "      <td>23016177</td>\n",
       "      <td>0.0</td>\n",
       "      <td>1.0</td>\n",
       "      <td>41.492916</td>\n",
       "      <td>41.301074</td>\n",
       "      <td>41.308268</td>\n",
       "      <td>NaN</td>\n",
       "      <td>NaN</td>\n",
       "      <td>NaN</td>\n",
       "      <td>NaN</td>\n",
       "      <td>256.694092</td>\n",
       "      <td>0.472410</td>\n",
       "      <td>0.011385</td>\n",
       "      <td>41.586438</td>\n",
       "      <td>19</td>\n",
       "    </tr>\n",
       "    <tr>\n",
       "      <th>2018-01-08</th>\n",
       "      <td>174.350</td>\n",
       "      <td>175.61</td>\n",
       "      <td>173.93</td>\n",
       "      <td>174.35</td>\n",
       "      <td>41.809454</td>\n",
       "      <td>20134092</td>\n",
       "      <td>0.0</td>\n",
       "      <td>1.0</td>\n",
       "      <td>41.965325</td>\n",
       "      <td>41.492916</td>\n",
       "      <td>41.301074</td>\n",
       "      <td>NaN</td>\n",
       "      <td>NaN</td>\n",
       "      <td>NaN</td>\n",
       "      <td>NaN</td>\n",
       "      <td>257.163506</td>\n",
       "      <td>-0.155871</td>\n",
       "      <td>-0.003714</td>\n",
       "      <td>41.755898</td>\n",
       "      <td>17</td>\n",
       "    </tr>\n",
       "    <tr>\n",
       "      <th>...</th>\n",
       "      <td>...</td>\n",
       "      <td>...</td>\n",
       "      <td>...</td>\n",
       "      <td>...</td>\n",
       "      <td>...</td>\n",
       "      <td>...</td>\n",
       "      <td>...</td>\n",
       "      <td>...</td>\n",
       "      <td>...</td>\n",
       "      <td>...</td>\n",
       "      <td>...</td>\n",
       "      <td>...</td>\n",
       "      <td>...</td>\n",
       "      <td>...</td>\n",
       "      <td>...</td>\n",
       "      <td>...</td>\n",
       "      <td>...</td>\n",
       "      <td>...</td>\n",
       "      <td>...</td>\n",
       "      <td>...</td>\n",
       "    </tr>\n",
       "    <tr>\n",
       "      <th>2021-05-25</th>\n",
       "      <td>127.820</td>\n",
       "      <td>128.32</td>\n",
       "      <td>126.32</td>\n",
       "      <td>126.90</td>\n",
       "      <td>126.900000</td>\n",
       "      <td>72009482</td>\n",
       "      <td>0.0</td>\n",
       "      <td>1.0</td>\n",
       "      <td>127.100000</td>\n",
       "      <td>125.430000</td>\n",
       "      <td>127.310000</td>\n",
       "      <td>127.45</td>\n",
       "      <td>134.203253</td>\n",
       "      <td>128.499945</td>\n",
       "      <td>66.898511</td>\n",
       "      <td>416.857700</td>\n",
       "      <td>-0.200000</td>\n",
       "      <td>-0.001574</td>\n",
       "      <td>126.476667</td>\n",
       "      <td>22</td>\n",
       "    </tr>\n",
       "    <tr>\n",
       "      <th>2021-05-26</th>\n",
       "      <td>126.955</td>\n",
       "      <td>127.39</td>\n",
       "      <td>126.42</td>\n",
       "      <td>126.85</td>\n",
       "      <td>126.850000</td>\n",
       "      <td>56575920</td>\n",
       "      <td>0.0</td>\n",
       "      <td>1.0</td>\n",
       "      <td>126.900000</td>\n",
       "      <td>127.100000</td>\n",
       "      <td>125.430000</td>\n",
       "      <td>126.27</td>\n",
       "      <td>131.807301</td>\n",
       "      <td>126.735576</td>\n",
       "      <td>67.068988</td>\n",
       "      <td>417.684956</td>\n",
       "      <td>-0.050000</td>\n",
       "      <td>-0.000394</td>\n",
       "      <td>126.950000</td>\n",
       "      <td>22</td>\n",
       "    </tr>\n",
       "    <tr>\n",
       "      <th>2021-05-27</th>\n",
       "      <td>126.440</td>\n",
       "      <td>127.64</td>\n",
       "      <td>125.08</td>\n",
       "      <td>125.28</td>\n",
       "      <td>125.280000</td>\n",
       "      <td>94625601</td>\n",
       "      <td>0.0</td>\n",
       "      <td>1.0</td>\n",
       "      <td>126.850000</td>\n",
       "      <td>126.900000</td>\n",
       "      <td>127.100000</td>\n",
       "      <td>124.85</td>\n",
       "      <td>134.273135</td>\n",
       "      <td>127.423381</td>\n",
       "      <td>67.980667</td>\n",
       "      <td>417.904229</td>\n",
       "      <td>-1.570000</td>\n",
       "      <td>-0.012377</td>\n",
       "      <td>126.343333</td>\n",
       "      <td>22</td>\n",
       "    </tr>\n",
       "    <tr>\n",
       "      <th>2021-05-28</th>\n",
       "      <td>125.570</td>\n",
       "      <td>125.80</td>\n",
       "      <td>124.55</td>\n",
       "      <td>124.61</td>\n",
       "      <td>124.610000</td>\n",
       "      <td>71311109</td>\n",
       "      <td>0.0</td>\n",
       "      <td>1.0</td>\n",
       "      <td>125.280000</td>\n",
       "      <td>126.850000</td>\n",
       "      <td>126.900000</td>\n",
       "      <td>124.69</td>\n",
       "      <td>133.933709</td>\n",
       "      <td>131.610021</td>\n",
       "      <td>69.144356</td>\n",
       "      <td>418.651751</td>\n",
       "      <td>-0.670000</td>\n",
       "      <td>-0.005348</td>\n",
       "      <td>125.580000</td>\n",
       "      <td>22</td>\n",
       "    </tr>\n",
       "    <tr>\n",
       "      <th>2021-06-01</th>\n",
       "      <td>125.080</td>\n",
       "      <td>125.35</td>\n",
       "      <td>123.94</td>\n",
       "      <td>124.28</td>\n",
       "      <td>124.280000</td>\n",
       "      <td>67637118</td>\n",
       "      <td>0.0</td>\n",
       "      <td>1.0</td>\n",
       "      <td>124.610000</td>\n",
       "      <td>125.280000</td>\n",
       "      <td>126.850000</td>\n",
       "      <td>127.31</td>\n",
       "      <td>134.612562</td>\n",
       "      <td>136.434625</td>\n",
       "      <td>69.280243</td>\n",
       "      <td>418.282973</td>\n",
       "      <td>-0.330000</td>\n",
       "      <td>-0.002648</td>\n",
       "      <td>124.723333</td>\n",
       "      <td>18</td>\n",
       "    </tr>\n",
       "  </tbody>\n",
       "</table>\n",
       "<p>859 rows × 20 columns</p>\n",
       "</div>"
      ],
      "text/plain": [
       "               open    high     low   close  adjusted_close    volume  \\\n",
       "date                                                                    \n",
       "2018-01-02  170.160  172.30  169.26  172.26       41.308268  25048048   \n",
       "2018-01-03  172.530  174.55  171.96  172.23       41.301074  28819653   \n",
       "2018-01-04  172.540  173.47  172.08  173.03       41.492916  22211345   \n",
       "2018-01-05  173.440  175.37  173.05  175.00       41.965325  23016177   \n",
       "2018-01-08  174.350  175.61  173.93  174.35       41.809454  20134092   \n",
       "...             ...     ...     ...     ...             ...       ...   \n",
       "2021-05-25  127.820  128.32  126.32  126.90      126.900000  72009482   \n",
       "2021-05-26  126.955  127.39  126.42  126.85      126.850000  56575920   \n",
       "2021-05-27  126.440  127.64  125.08  125.28      125.280000  94625601   \n",
       "2021-05-28  125.570  125.80  124.55  124.61      124.610000  71311109   \n",
       "2021-06-01  125.080  125.35  123.94  124.28      124.280000  67637118   \n",
       "\n",
       "            dividend amount  splitcoef       lag_1       lag_2       lag_3  \\\n",
       "date                                                                         \n",
       "2018-01-02              0.0        1.0         NaN         NaN         NaN   \n",
       "2018-01-03              0.0        1.0   41.308268         NaN         NaN   \n",
       "2018-01-04              0.0        1.0   41.301074   41.308268         NaN   \n",
       "2018-01-05              0.0        1.0   41.492916   41.301074   41.308268   \n",
       "2018-01-08              0.0        1.0   41.965325   41.492916   41.301074   \n",
       "...                     ...        ...         ...         ...         ...   \n",
       "2021-05-25              0.0        1.0  127.100000  125.430000  127.310000   \n",
       "2021-05-26              0.0        1.0  126.900000  127.100000  125.430000   \n",
       "2021-05-27              0.0        1.0  126.850000  126.900000  127.100000   \n",
       "2021-05-28              0.0        1.0  125.280000  126.850000  126.900000   \n",
       "2021-06-01              0.0        1.0  124.610000  125.280000  126.850000   \n",
       "\n",
       "             lag_7      lag_30      lag_90    lag_365  spdr_adj_close  \\\n",
       "date                                                                    \n",
       "2018-01-02     NaN         NaN         NaN        NaN      252.328547   \n",
       "2018-01-03     NaN         NaN         NaN        NaN      253.924553   \n",
       "2018-01-04     NaN         NaN         NaN        NaN      254.994815   \n",
       "2018-01-05     NaN         NaN         NaN        NaN      256.694092   \n",
       "2018-01-08     NaN         NaN         NaN        NaN      257.163506   \n",
       "...            ...         ...         ...        ...             ...   \n",
       "2021-05-25  127.45  134.203253  128.499945  66.898511      416.857700   \n",
       "2021-05-26  126.27  131.807301  126.735576  67.068988      417.684956   \n",
       "2021-05-27  124.85  134.273135  127.423381  67.980667      417.904229   \n",
       "2021-05-28  124.69  133.933709  131.610021  69.144356      418.651751   \n",
       "2021-06-01  127.31  134.612562  136.434625  69.280243      418.282973   \n",
       "\n",
       "            daily_returns  daily_pct_return  rolling_3d_adj_close  trend_score  \n",
       "date                                                                            \n",
       "2018-01-02            NaN               NaN                   NaN           19  \n",
       "2018-01-03      -0.007194         -0.000174                   NaN           19  \n",
       "2018-01-04       0.191841          0.004645             41.367419           19  \n",
       "2018-01-05       0.472410          0.011385             41.586438           19  \n",
       "2018-01-08      -0.155871         -0.003714             41.755898           17  \n",
       "...                   ...               ...                   ...          ...  \n",
       "2021-05-25      -0.200000         -0.001574            126.476667           22  \n",
       "2021-05-26      -0.050000         -0.000394            126.950000           22  \n",
       "2021-05-27      -1.570000         -0.012377            126.343333           22  \n",
       "2021-05-28      -0.670000         -0.005348            125.580000           22  \n",
       "2021-06-01      -0.330000         -0.002648            124.723333           18  \n",
       "\n",
       "[859 rows x 20 columns]"
      ]
     },
     "execution_count": 467,
     "metadata": {},
     "output_type": "execute_result"
    }
   ],
   "source": [
    "aapl"
   ]
  },
  {
   "cell_type": "code",
   "execution_count": 468,
   "metadata": {},
   "outputs": [
    {
     "data": {
      "text/plain": [
       "open                    float64\n",
       "high                    float64\n",
       "low                     float64\n",
       "close                   float64\n",
       "adjusted_close          float64\n",
       "volume                    int64\n",
       "dividend amount         float64\n",
       "splitcoef               float64\n",
       "lag_1                   float64\n",
       "lag_2                   float64\n",
       "lag_3                   float64\n",
       "lag_7                   float64\n",
       "lag_30                  float64\n",
       "lag_90                  float64\n",
       "lag_365                 float64\n",
       "spdr_adj_close          float64\n",
       "daily_returns           float64\n",
       "daily_pct_return        float64\n",
       "rolling_3d_adj_close    float64\n",
       "trend_score               int32\n",
       "dtype: object"
      ]
     },
     "execution_count": 468,
     "metadata": {},
     "output_type": "execute_result"
    }
   ],
   "source": [
    "aapl.dtypes"
   ]
  },
  {
   "cell_type": "markdown",
   "metadata": {},
   "source": [
    "### EDA: Is the data we collected for AAPL actually correct?"
   ]
  },
  {
   "cell_type": "code",
   "execution_count": 469,
   "metadata": {},
   "outputs": [],
   "source": [
    "from IPython.display import Image\n",
    "import matplotlib.pyplot as plt"
   ]
  },
  {
   "cell_type": "code",
   "execution_count": 470,
   "metadata": {},
   "outputs": [
    {
     "data": {
      "image/png": "[encoded data removed]",
      "text/plain": [
       "<IPython.core.display.Image object>"
      ]
     },
     "execution_count": 470,
     "metadata": {
      "image/png": {
       "width": 700
      }
     },
     "output_type": "execute_result"
    }
   ],
   "source": [
    "Image('./Pictures/AAPL Snip.png', width=700)"
   ]
  },
  {
   "cell_type": "markdown",
   "metadata": {},
   "source": [
    "Above is the stock price chart for AAPL 1.2.18-6.1.21 per Yahoo Finance. Below is the chart of our closing prices for that same time period."
   ]
  },
  {
   "cell_type": "code",
   "execution_count": 471,
   "metadata": {},
   "outputs": [
    {
     "data": {
      "text/plain": [
       "[<matplotlib.lines.Line2D at 0x1712ead6a30>]"
      ]
     },
     "execution_count": 471,
     "metadata": {},
     "output_type": "execute_result"
    },
    {
     "data": {
      "image/png": "[encoded data removed]",
      "text/plain": [
       "<Figure size 640x480 with 1 Axes>"
      ]
     },
     "metadata": {},
     "output_type": "display_data"
    }
   ],
   "source": [
    "plt.plot(aapl['adjusted_close'])\n",
    "plt.plot(aapl['rolling_3d_adj_close'])"
   ]
  },
  {
   "cell_type": "markdown",
   "metadata": {},
   "source": [
    "Are these two graphs the same?"
   ]
  },
  {
   "cell_type": "code",
   "execution_count": 472,
   "metadata": {},
   "outputs": [
    {
     "data": {
      "text/plain": [
       "<AxesSubplot:>"
      ]
     },
     "execution_count": 472,
     "metadata": {},
     "output_type": "execute_result"
    },
    {
     "data": {
      "image/png": "[encoded data removed]",
      "text/plain": [
       "<Figure size 640x480 with 1 Axes>"
      ]
     },
     "metadata": {},
     "output_type": "display_data"
    }
   ],
   "source": [
    "aapl['daily_pct_return'].hist(bins = 20)"
   ]
  },
  {
   "cell_type": "markdown",
   "metadata": {},
   "source": [
    "The histogram of daily returns is normally shaped with a few outliers. This fits our expectations about the behavior of Apple's stock price"
   ]
  },
  {
   "cell_type": "code",
   "execution_count": 473,
   "metadata": {},
   "outputs": [
    {
     "data": {
      "text/plain": [
       "0.0015205344430411372"
      ]
     },
     "execution_count": 473,
     "metadata": {},
     "output_type": "execute_result"
    }
   ],
   "source": [
    "mean_return = aapl['daily_pct_return'].mean()\n",
    "mean_return"
   ]
  },
  {
   "cell_type": "markdown",
   "metadata": {},
   "source": [
    "A mean return close to zero is fitting with our expectations"
   ]
  },
  {
   "cell_type": "code",
   "execution_count": 474,
   "metadata": {},
   "outputs": [
    {
     "data": {
      "text/plain": [
       "0.021715717046206954"
      ]
     },
     "execution_count": 474,
     "metadata": {},
     "output_type": "execute_result"
    }
   ],
   "source": [
    "std_return = aapl['daily_pct_return'].std()\n",
    "std_return"
   ]
  },
  {
   "cell_type": "markdown",
   "metadata": {},
   "source": [
    "A low standard deviation is fitting with our expecations because it means that most days there will not be a large swing in the stock price"
   ]
  },
  {
   "cell_type": "code",
   "execution_count": 475,
   "metadata": {},
   "outputs": [
    {
     "data": {
      "text/plain": [
       "5.391441242809365"
      ]
     },
     "execution_count": 475,
     "metadata": {},
     "output_type": "execute_result"
    }
   ],
   "source": [
    "aapl['daily_pct_return'].kurtosis()"
   ]
  },
  {
   "cell_type": "markdown",
   "metadata": {},
   "source": [
    "A high kurtosis value means that the tail of the distribution is a small amount of the dataset. This fits our expectations because it is another indicator that days with large price swings are rare"
   ]
  },
  {
   "cell_type": "markdown",
   "metadata": {},
   "source": [
    "### Checking for seasonality, autocorrelation"
   ]
  },
  {
   "cell_type": "code",
   "execution_count": 476,
   "metadata": {},
   "outputs": [],
   "source": [
    "from statsmodels.tsa.seasonal import seasonal_decompose"
   ]
  },
  {
   "cell_type": "code",
   "execution_count": 477,
   "metadata": {},
   "outputs": [],
   "source": [
    "plt.style.use('default')"
   ]
  },
  {
   "cell_type": "code",
   "execution_count": 478,
   "metadata": {},
   "outputs": [
    {
     "data": {
      "image/png": "[encoded data removed]",
      "text/plain": [
       "<Figure size 640x480 with 4 Axes>"
      ]
     },
     "metadata": {},
     "output_type": "display_data"
    }
   ],
   "source": [
    "# Decompose time series into trend, seasonal, and residual components.\n",
    "decomp = seasonal_decompose(aapl['adjusted_close'], period = 90, model = 'multiplicative')\n",
    "\n",
    "# Plot the decomposed time series.\n",
    "decomp.plot();"
   ]
  },
  {
   "cell_type": "markdown",
   "metadata": {},
   "source": [
    "###"
   ]
  },
  {
   "cell_type": "markdown",
   "metadata": {},
   "source": [
    "We already have lag data set up for 1,2,3,7,30,90, and 365 days. We can use statsmodels acf plot to view the pacf plot for the lags 30 and below. For the correlation of the quarterly lag and the yearly lag we can view those individually below."
   ]
  },
  {
   "cell_type": "code",
   "execution_count": 479,
   "metadata": {},
   "outputs": [],
   "source": [
    "from statsmodels.graphics.tsaplots import plot_pacf"
   ]
  },
  {
   "cell_type": "code",
   "execution_count": 480,
   "metadata": {},
   "outputs": [
    {
     "data": {
      "image/png": "[encoded data removed]",
      "text/plain": [
       "<Figure size 640x480 with 1 Axes>"
      ]
     },
     "metadata": {},
     "output_type": "display_data"
    }
   ],
   "source": [
    "plot_pacf(aapl['adjusted_close'], lags = 30);"
   ]
  },
  {
   "cell_type": "markdown",
   "metadata": {},
   "source": [
    "The PACF plot above shows that lag_1 has by far the highest partial autocorrelation with adjusted_close. All of the other lags under 30 days fall into or very close to the blue shaded area, meaning that they are likely not statistically signifigant."
   ]
  }
 ],
 "metadata": {
  "kernelspec": {
   "display_name": "Python 3",
   "language": "python",
   "name": "python3"
  },
  "language_info": {
   "codemirror_mode": {
    "name": "ipython",
    "version": 3
   },
   "file_extension": ".py",
   "mimetype": "text/x-python",
   "name": "python",
   "nbconvert_exporter": "python",
   "pygments_lexer": "ipython3",
   "version": "3.8.5"
  }
 },
 "nbformat": 4,
 "nbformat_minor": 4
}
