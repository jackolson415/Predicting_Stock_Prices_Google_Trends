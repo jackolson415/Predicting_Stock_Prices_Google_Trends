{
 "cells": [
  {
   "cell_type": "markdown",
   "metadata": {},
   "source": [
    "# Modeling to Predict Changes in Peloton Stock (PTON)"
   ]
  },
  {
   "cell_type": "markdown",
   "metadata": {},
   "source": [
    "PTON was first stock to make me interested in using Google Trends to predict stock price changes. Search interest for 'PTON' was at an all-time high in September 2020, and in the months following the value of the stock doubled in value. This is why I am going to model for PTON first. My hypothesis is that using Google Trends will improve my model's ability to accurately predict the rise of Peloton in 2020."
   ]
  },
  {
   "cell_type": "code",
   "execution_count": 359,
   "metadata": {},
   "outputs": [],
   "source": [
    "#Imports\n",
    "from alpha_vantage.timeseries import TimeSeries\n",
    "import requests\n",
    "import pandas as pd\n",
    "import pandas as pd                        \n",
    "from pytrends.request import TrendReq\n",
    "from IPython.display import Image\n",
    "import matplotlib.pyplot as plt\n",
    "from statsmodels.tsa.seasonal import seasonal_decompose\n",
    "from statsmodels.graphics.tsaplots import plot_pacf\n",
    "from statsmodels.tsa.arima_model import ARIMA\n",
    "\n",
    "import pandas as pd\n",
    "import numpy as np\n",
    "import matplotlib.pyplot as plt\n",
    "\n",
    "plt.style.use('fivethirtyeight')\n",
    "%matplotlib inline\n",
    "\n",
    "from datetime import datetime\n",
    "from sklearn.model_selection import train_test_split\n",
    "\n",
    "import statsmodels.api as sm\n",
    "\n",
    "# We are required to do this in order to avoid \"FutureWarning\" issues.\n",
    "from pandas.plotting import register_matplotlib_converters\n",
    "register_matplotlib_converters()"
   ]
  },
  {
   "cell_type": "code",
   "execution_count": 360,
   "metadata": {},
   "outputs": [],
   "source": [
    "#see API_setup.ipynb for how I created these functions\n",
    "def spdr_adj_close():\n",
    "    url = f'https://www.alphavantage.co/query?function=TIME_SERIES_DAILY_ADJUSTED&symbol=spy&apikey=49KFJCFS3P6CEU4F&outputsize=full'\n",
    "    r = requests.get(url)\n",
    "    data = r.json()\n",
    "    df = pd.DataFrame(data['Time Series (Daily)']).T\n",
    "    df['date'] = df.index\n",
    "    df.index = pd.to_datetime(df['date'])\n",
    "    df = df[df['date'] > '2018-01-01']\n",
    "    df = df[df['date'] < '2021-06-02']\n",
    "    df.drop(columns = 'date', inplace = True)\n",
    "    df.sort_index(inplace=True)\n",
    "    return df['5. adjusted close']\n",
    "\n",
    "def create_ticker_df (ticker):\n",
    "    '''Returns a DataFrame of stock and Google Trends data for the given ticker. The output will be daily data 1/2/18-6/1/21'''\n",
    "    #collect stock data using Alpha Vantage API\n",
    "    url = f'https://www.alphavantage.co/query?function=TIME_SERIES_DAILY_ADJUSTED&symbol={ticker}&apikey=49KFJCFS3P6CEU4F&outputsize=full'\n",
    "    r = requests.get(url)\n",
    "    data = r.json()\n",
    "    df = pd.DataFrame(data['Time Series (Daily)']).T\n",
    "    \n",
    "    #filter to include 2018.01.02 - 2021.06.01\n",
    "    df['date'] = df.index\n",
    "    df.index = pd.to_datetime(df['date'])\n",
    "    df = df[df['date'] > '2018-01-01']\n",
    "    df = df[df['date'] < '2021-06-02']\n",
    "    df.drop(columns = 'date', inplace = True)\n",
    "    df.sort_index(inplace=True)\n",
    "    \n",
    "    #add lag columns\n",
    "    days_to_lag = [1,2,3,7,30,90,365]\n",
    "    for day in days_to_lag:\n",
    "        df[f'lag_{day}'] = df['5. adjusted close'].shift(day)\n",
    "    \n",
    "    #fix dtypes and column names\n",
    "    df['spdr_adj_close'] = spdr_adj_close()\n",
    "   \n",
    "    \n",
    "    for col in df.columns:\n",
    "        df[col] = pd.to_numeric(df[col])\n",
    "    df['daily_returns'] = df['5. adjusted close'] - df['lag_1']\n",
    "    df['daily_pct_return'] = df['daily_returns']/df['5. adjusted close'].shift(1)\n",
    "    df['rolling_3d_adj_close'] = df['5. adjusted close'].rolling(3).mean()\n",
    "    df.rename(columns = {'1. open': 'open',\n",
    "                        '2. high': 'high',\n",
    "                        '3. low': 'low',\n",
    "                        '4. close': 'close',\n",
    "                        '5. adjusted close': 'adjusted_close',\n",
    "                        '6. volume': 'volume',\n",
    "                        '7. dividend amount': 'dividend amount',\n",
    "                        '8. split coefficient': 'splitcoef',\n",
    "                        'daily_returns' : 'daily_returns'}, inplace = True)\n",
    "        \n",
    "    #Collect Google Trends data using pytrends api\n",
    "    pytrend = TrendReq()\n",
    "    pytrend.build_payload(kw_list=[ticker])\n",
    "    google = pytrend.interest_over_time()\n",
    "    trends = google[ticker].resample('D', convention = 'start').pad()\n",
    "    trends = pd.DataFrame(trends)\n",
    "    trends.rename(columns = {ticker:'trend_score'}, inplace = True)\n",
    "    \n",
    "    #merge stock data with trends data\n",
    "    df = df.merge(trends, how = 'left', left_index = True, right_index = True)\n",
    "    \n",
    "    return df"
   ]
  },
  {
   "cell_type": "code",
   "execution_count": 361,
   "metadata": {},
   "outputs": [],
   "source": [
    "pton = create_ticker_df('PTON')"
   ]
  },
  {
   "cell_type": "code",
   "execution_count": 362,
   "metadata": {},
   "outputs": [
    {
     "data": {
      "text/html": [
       "<div>\n",
       "<style scoped>\n",
       "    .dataframe tbody tr th:only-of-type {\n",
       "        vertical-align: middle;\n",
       "    }\n",
       "\n",
       "    .dataframe tbody tr th {\n",
       "        vertical-align: top;\n",
       "    }\n",
       "\n",
       "    .dataframe thead th {\n",
       "        text-align: right;\n",
       "    }\n",
       "</style>\n",
       "<table border=\"1\" class=\"dataframe\">\n",
       "  <thead>\n",
       "    <tr style=\"text-align: right;\">\n",
       "      <th></th>\n",
       "      <th>open</th>\n",
       "      <th>high</th>\n",
       "      <th>low</th>\n",
       "      <th>close</th>\n",
       "      <th>adjusted_close</th>\n",
       "      <th>volume</th>\n",
       "      <th>dividend amount</th>\n",
       "      <th>splitcoef</th>\n",
       "      <th>lag_1</th>\n",
       "      <th>lag_2</th>\n",
       "      <th>lag_3</th>\n",
       "      <th>lag_7</th>\n",
       "      <th>lag_30</th>\n",
       "      <th>lag_90</th>\n",
       "      <th>lag_365</th>\n",
       "      <th>spdr_adj_close</th>\n",
       "      <th>daily_returns</th>\n",
       "      <th>daily_pct_return</th>\n",
       "      <th>rolling_3d_adj_close</th>\n",
       "      <th>trend_score</th>\n",
       "    </tr>\n",
       "    <tr>\n",
       "      <th>date</th>\n",
       "      <th></th>\n",
       "      <th></th>\n",
       "      <th></th>\n",
       "      <th></th>\n",
       "      <th></th>\n",
       "      <th></th>\n",
       "      <th></th>\n",
       "      <th></th>\n",
       "      <th></th>\n",
       "      <th></th>\n",
       "      <th></th>\n",
       "      <th></th>\n",
       "      <th></th>\n",
       "      <th></th>\n",
       "      <th></th>\n",
       "      <th></th>\n",
       "      <th></th>\n",
       "      <th></th>\n",
       "      <th></th>\n",
       "      <th></th>\n",
       "    </tr>\n",
       "  </thead>\n",
       "  <tbody>\n",
       "    <tr>\n",
       "      <th>2019-09-26</th>\n",
       "      <td>27.0000</td>\n",
       "      <td>27.980</td>\n",
       "      <td>24.75</td>\n",
       "      <td>25.76</td>\n",
       "      <td>25.76</td>\n",
       "      <td>47067673</td>\n",
       "      <td>0.0</td>\n",
       "      <td>1.0</td>\n",
       "      <td>NaN</td>\n",
       "      <td>NaN</td>\n",
       "      <td>NaN</td>\n",
       "      <td>NaN</td>\n",
       "      <td>NaN</td>\n",
       "      <td>NaN</td>\n",
       "      <td>NaN</td>\n",
       "      <td>288.129235</td>\n",
       "      <td>NaN</td>\n",
       "      <td>NaN</td>\n",
       "      <td>NaN</td>\n",
       "      <td>35</td>\n",
       "    </tr>\n",
       "    <tr>\n",
       "      <th>2019-09-27</th>\n",
       "      <td>26.1700</td>\n",
       "      <td>26.170</td>\n",
       "      <td>23.75</td>\n",
       "      <td>25.24</td>\n",
       "      <td>25.24</td>\n",
       "      <td>15975986</td>\n",
       "      <td>0.0</td>\n",
       "      <td>1.0</td>\n",
       "      <td>25.76</td>\n",
       "      <td>NaN</td>\n",
       "      <td>NaN</td>\n",
       "      <td>NaN</td>\n",
       "      <td>NaN</td>\n",
       "      <td>NaN</td>\n",
       "      <td>NaN</td>\n",
       "      <td>286.577023</td>\n",
       "      <td>-0.52</td>\n",
       "      <td>-0.020186</td>\n",
       "      <td>NaN</td>\n",
       "      <td>35</td>\n",
       "    </tr>\n",
       "    <tr>\n",
       "      <th>2019-09-30</th>\n",
       "      <td>25.2600</td>\n",
       "      <td>25.850</td>\n",
       "      <td>25.00</td>\n",
       "      <td>25.10</td>\n",
       "      <td>25.10</td>\n",
       "      <td>4482931</td>\n",
       "      <td>0.0</td>\n",
       "      <td>1.0</td>\n",
       "      <td>25.24</td>\n",
       "      <td>25.76</td>\n",
       "      <td>NaN</td>\n",
       "      <td>NaN</td>\n",
       "      <td>NaN</td>\n",
       "      <td>NaN</td>\n",
       "      <td>NaN</td>\n",
       "      <td>287.906104</td>\n",
       "      <td>-0.14</td>\n",
       "      <td>-0.005547</td>\n",
       "      <td>25.366667</td>\n",
       "      <td>21</td>\n",
       "    </tr>\n",
       "    <tr>\n",
       "      <th>2019-10-01</th>\n",
       "      <td>25.0000</td>\n",
       "      <td>25.170</td>\n",
       "      <td>22.51</td>\n",
       "      <td>22.51</td>\n",
       "      <td>22.51</td>\n",
       "      <td>8816118</td>\n",
       "      <td>0.0</td>\n",
       "      <td>1.0</td>\n",
       "      <td>25.10</td>\n",
       "      <td>25.24</td>\n",
       "      <td>25.76</td>\n",
       "      <td>NaN</td>\n",
       "      <td>NaN</td>\n",
       "      <td>NaN</td>\n",
       "      <td>NaN</td>\n",
       "      <td>284.481538</td>\n",
       "      <td>-2.59</td>\n",
       "      <td>-0.103187</td>\n",
       "      <td>24.283333</td>\n",
       "      <td>21</td>\n",
       "    </tr>\n",
       "    <tr>\n",
       "      <th>2019-10-02</th>\n",
       "      <td>22.2500</td>\n",
       "      <td>23.180</td>\n",
       "      <td>21.76</td>\n",
       "      <td>22.60</td>\n",
       "      <td>22.60</td>\n",
       "      <td>9454724</td>\n",
       "      <td>0.0</td>\n",
       "      <td>1.0</td>\n",
       "      <td>22.51</td>\n",
       "      <td>25.10</td>\n",
       "      <td>25.24</td>\n",
       "      <td>NaN</td>\n",
       "      <td>NaN</td>\n",
       "      <td>NaN</td>\n",
       "      <td>NaN</td>\n",
       "      <td>279.456254</td>\n",
       "      <td>0.09</td>\n",
       "      <td>0.003998</td>\n",
       "      <td>23.403333</td>\n",
       "      <td>21</td>\n",
       "    </tr>\n",
       "    <tr>\n",
       "      <th>...</th>\n",
       "      <td>...</td>\n",
       "      <td>...</td>\n",
       "      <td>...</td>\n",
       "      <td>...</td>\n",
       "      <td>...</td>\n",
       "      <td>...</td>\n",
       "      <td>...</td>\n",
       "      <td>...</td>\n",
       "      <td>...</td>\n",
       "      <td>...</td>\n",
       "      <td>...</td>\n",
       "      <td>...</td>\n",
       "      <td>...</td>\n",
       "      <td>...</td>\n",
       "      <td>...</td>\n",
       "      <td>...</td>\n",
       "      <td>...</td>\n",
       "      <td>...</td>\n",
       "      <td>...</td>\n",
       "      <td>...</td>\n",
       "    </tr>\n",
       "    <tr>\n",
       "      <th>2021-05-25</th>\n",
       "      <td>101.1600</td>\n",
       "      <td>102.720</td>\n",
       "      <td>98.68</td>\n",
       "      <td>99.44</td>\n",
       "      <td>99.44</td>\n",
       "      <td>9340217</td>\n",
       "      <td>0.0</td>\n",
       "      <td>1.0</td>\n",
       "      <td>101.16</td>\n",
       "      <td>100.90</td>\n",
       "      <td>100.46</td>\n",
       "      <td>96.58</td>\n",
       "      <td>122.36</td>\n",
       "      <td>165.25</td>\n",
       "      <td>32.03</td>\n",
       "      <td>416.857700</td>\n",
       "      <td>-1.72</td>\n",
       "      <td>-0.017003</td>\n",
       "      <td>100.500000</td>\n",
       "      <td>25</td>\n",
       "    </tr>\n",
       "    <tr>\n",
       "      <th>2021-05-26</th>\n",
       "      <td>99.9600</td>\n",
       "      <td>110.490</td>\n",
       "      <td>99.96</td>\n",
       "      <td>109.56</td>\n",
       "      <td>109.56</td>\n",
       "      <td>26620603</td>\n",
       "      <td>0.0</td>\n",
       "      <td>1.0</td>\n",
       "      <td>99.44</td>\n",
       "      <td>101.16</td>\n",
       "      <td>100.90</td>\n",
       "      <td>92.29</td>\n",
       "      <td>117.80</td>\n",
       "      <td>157.81</td>\n",
       "      <td>30.85</td>\n",
       "      <td>417.684956</td>\n",
       "      <td>10.12</td>\n",
       "      <td>0.101770</td>\n",
       "      <td>103.386667</td>\n",
       "      <td>25</td>\n",
       "    </tr>\n",
       "    <tr>\n",
       "      <th>2021-05-27</th>\n",
       "      <td>109.3200</td>\n",
       "      <td>112.899</td>\n",
       "      <td>106.95</td>\n",
       "      <td>112.60</td>\n",
       "      <td>112.60</td>\n",
       "      <td>13568262</td>\n",
       "      <td>0.0</td>\n",
       "      <td>1.0</td>\n",
       "      <td>109.56</td>\n",
       "      <td>99.44</td>\n",
       "      <td>101.16</td>\n",
       "      <td>95.19</td>\n",
       "      <td>119.90</td>\n",
       "      <td>150.14</td>\n",
       "      <td>31.53</td>\n",
       "      <td>417.904229</td>\n",
       "      <td>3.04</td>\n",
       "      <td>0.027747</td>\n",
       "      <td>107.200000</td>\n",
       "      <td>25</td>\n",
       "    </tr>\n",
       "    <tr>\n",
       "      <th>2021-05-28</th>\n",
       "      <td>112.4791</td>\n",
       "      <td>114.000</td>\n",
       "      <td>110.12</td>\n",
       "      <td>110.31</td>\n",
       "      <td>110.31</td>\n",
       "      <td>7663446</td>\n",
       "      <td>0.0</td>\n",
       "      <td>1.0</td>\n",
       "      <td>112.60</td>\n",
       "      <td>109.56</td>\n",
       "      <td>99.44</td>\n",
       "      <td>96.55</td>\n",
       "      <td>116.21</td>\n",
       "      <td>155.79</td>\n",
       "      <td>31.34</td>\n",
       "      <td>418.651751</td>\n",
       "      <td>-2.29</td>\n",
       "      <td>-0.020337</td>\n",
       "      <td>110.823333</td>\n",
       "      <td>25</td>\n",
       "    </tr>\n",
       "    <tr>\n",
       "      <th>2021-06-01</th>\n",
       "      <td>110.9000</td>\n",
       "      <td>112.990</td>\n",
       "      <td>108.56</td>\n",
       "      <td>108.89</td>\n",
       "      <td>108.89</td>\n",
       "      <td>7181209</td>\n",
       "      <td>0.0</td>\n",
       "      <td>1.0</td>\n",
       "      <td>110.31</td>\n",
       "      <td>112.60</td>\n",
       "      <td>109.56</td>\n",
       "      <td>100.46</td>\n",
       "      <td>107.75</td>\n",
       "      <td>158.13</td>\n",
       "      <td>32.93</td>\n",
       "      <td>418.282973</td>\n",
       "      <td>-1.42</td>\n",
       "      <td>-0.012873</td>\n",
       "      <td>110.600000</td>\n",
       "      <td>15</td>\n",
       "    </tr>\n",
       "  </tbody>\n",
       "</table>\n",
       "<p>423 rows × 20 columns</p>\n",
       "</div>"
      ],
      "text/plain": [
       "                open     high     low   close  adjusted_close    volume  \\\n",
       "date                                                                      \n",
       "2019-09-26   27.0000   27.980   24.75   25.76           25.76  47067673   \n",
       "2019-09-27   26.1700   26.170   23.75   25.24           25.24  15975986   \n",
       "2019-09-30   25.2600   25.850   25.00   25.10           25.10   4482931   \n",
       "2019-10-01   25.0000   25.170   22.51   22.51           22.51   8816118   \n",
       "2019-10-02   22.2500   23.180   21.76   22.60           22.60   9454724   \n",
       "...              ...      ...     ...     ...             ...       ...   \n",
       "2021-05-25  101.1600  102.720   98.68   99.44           99.44   9340217   \n",
       "2021-05-26   99.9600  110.490   99.96  109.56          109.56  26620603   \n",
       "2021-05-27  109.3200  112.899  106.95  112.60          112.60  13568262   \n",
       "2021-05-28  112.4791  114.000  110.12  110.31          110.31   7663446   \n",
       "2021-06-01  110.9000  112.990  108.56  108.89          108.89   7181209   \n",
       "\n",
       "            dividend amount  splitcoef   lag_1   lag_2   lag_3   lag_7  \\\n",
       "date                                                                     \n",
       "2019-09-26              0.0        1.0     NaN     NaN     NaN     NaN   \n",
       "2019-09-27              0.0        1.0   25.76     NaN     NaN     NaN   \n",
       "2019-09-30              0.0        1.0   25.24   25.76     NaN     NaN   \n",
       "2019-10-01              0.0        1.0   25.10   25.24   25.76     NaN   \n",
       "2019-10-02              0.0        1.0   22.51   25.10   25.24     NaN   \n",
       "...                     ...        ...     ...     ...     ...     ...   \n",
       "2021-05-25              0.0        1.0  101.16  100.90  100.46   96.58   \n",
       "2021-05-26              0.0        1.0   99.44  101.16  100.90   92.29   \n",
       "2021-05-27              0.0        1.0  109.56   99.44  101.16   95.19   \n",
       "2021-05-28              0.0        1.0  112.60  109.56   99.44   96.55   \n",
       "2021-06-01              0.0        1.0  110.31  112.60  109.56  100.46   \n",
       "\n",
       "            lag_30  lag_90  lag_365  spdr_adj_close  daily_returns  \\\n",
       "date                                                                 \n",
       "2019-09-26     NaN     NaN      NaN      288.129235            NaN   \n",
       "2019-09-27     NaN     NaN      NaN      286.577023          -0.52   \n",
       "2019-09-30     NaN     NaN      NaN      287.906104          -0.14   \n",
       "2019-10-01     NaN     NaN      NaN      284.481538          -2.59   \n",
       "2019-10-02     NaN     NaN      NaN      279.456254           0.09   \n",
       "...            ...     ...      ...             ...            ...   \n",
       "2021-05-25  122.36  165.25    32.03      416.857700          -1.72   \n",
       "2021-05-26  117.80  157.81    30.85      417.684956          10.12   \n",
       "2021-05-27  119.90  150.14    31.53      417.904229           3.04   \n",
       "2021-05-28  116.21  155.79    31.34      418.651751          -2.29   \n",
       "2021-06-01  107.75  158.13    32.93      418.282973          -1.42   \n",
       "\n",
       "            daily_pct_return  rolling_3d_adj_close  trend_score  \n",
       "date                                                             \n",
       "2019-09-26               NaN                   NaN           35  \n",
       "2019-09-27         -0.020186                   NaN           35  \n",
       "2019-09-30         -0.005547             25.366667           21  \n",
       "2019-10-01         -0.103187             24.283333           21  \n",
       "2019-10-02          0.003998             23.403333           21  \n",
       "...                      ...                   ...          ...  \n",
       "2021-05-25         -0.017003            100.500000           25  \n",
       "2021-05-26          0.101770            103.386667           25  \n",
       "2021-05-27          0.027747            107.200000           25  \n",
       "2021-05-28         -0.020337            110.823333           25  \n",
       "2021-06-01         -0.012873            110.600000           15  \n",
       "\n",
       "[423 rows x 20 columns]"
      ]
     },
     "execution_count": 362,
     "metadata": {},
     "output_type": "execute_result"
    }
   ],
   "source": [
    "pton"
   ]
  },
  {
   "cell_type": "markdown",
   "metadata": {},
   "source": [
    "# Baseline Model: ARIMA"
   ]
  },
  {
   "cell_type": "code",
   "execution_count": 363,
   "metadata": {},
   "outputs": [],
   "source": [
    "# Create train-test split.\n",
    "y_train = pton[pton.index < datetime(year = 2021, month = 3, day = 1)]\n",
    "y_test = pton[pton.index > datetime(year = 2021, month = 3, day = 1)]\n",
    "y_train = y_train['daily_pct_return']\n",
    "y_test = y_test['daily_pct_return'] \n",
    "y_train = pd.DataFrame(y_train)\n",
    "y_test = pd.DataFrame(y_test)\n",
    "y_train.dropna(inplace = True)\n",
    "y_test.dropna(inplace = True)"
   ]
  },
  {
   "cell_type": "code",
   "execution_count": 364,
   "metadata": {},
   "outputs": [],
   "source": [
    "from statsmodels.tsa.stattools import adfuller"
   ]
  },
  {
   "cell_type": "code",
   "execution_count": 365,
   "metadata": {},
   "outputs": [],
   "source": [
    "# Code written by Joseph Nelson.\n",
    "\n",
    "def interpret_dftest(dftest):\n",
    "    dfoutput = pd.Series(dftest[0:2], index=['Test Statistic','p-value'])\n",
    "    return dfoutput"
   ]
  },
  {
   "cell_type": "code",
   "execution_count": 366,
   "metadata": {},
   "outputs": [
    {
     "data": {
      "text/plain": [
       "Test Statistic   -1.861373e+01\n",
       "p-value           2.064081e-30\n",
       "dtype: float64"
      ]
     },
     "execution_count": 366,
     "metadata": {},
     "output_type": "execute_result"
    }
   ],
   "source": [
    "# Run ADF test on original (non-differenced!) data.\n",
    "interpret_dftest(adfuller(y_train))"
   ]
  },
  {
   "cell_type": "markdown",
   "metadata": {},
   "source": [
    "Since our p-value is approaching zero that means that our daily_pct_return data is stationary and we are permitted to use an ARIMA model. It makes sense that the daily_pct_return data is stationary considering it's already differenced. The adjusted_close data is not stationary, there has been a lot of movement in the stock price since it's IPO in 2019."
   ]
  },
  {
   "cell_type": "code",
   "execution_count": 367,
   "metadata": {},
   "outputs": [
    {
     "data": {
      "text/plain": [
       "<function warnings.filterwarnings(action, message='', category=<class 'Warning'>, module='', lineno=0, append=False)>"
      ]
     },
     "execution_count": 367,
     "metadata": {},
     "output_type": "execute_result"
    }
   ],
   "source": [
    "warnings.filterwarnings"
   ]
  },
  {
   "cell_type": "code",
   "execution_count": 368,
   "metadata": {},
   "outputs": [
    {
     "name": "stdout",
     "output_type": "stream",
     "text": [
      "Attempting to fit ARIMA(0,1,0)\n",
      "The AIC for ARIMA(0,1,0) is: -934.0440909911908\n",
      "Attempting to fit ARIMA(0,1,1)\n",
      "The AIC for ARIMA(0,1,1) is: -1168.7877074340872\n",
      "Attempting to fit ARIMA(0,1,2)\n",
      "The AIC for ARIMA(0,1,2) is: -1166.8521823487522\n",
      "Attempting to fit ARIMA(0,1,3)\n",
      "The AIC for ARIMA(0,1,3) is: -1165.454779190161\n",
      "Attempting to fit ARIMA(0,1,4)\n",
      "The AIC for ARIMA(0,1,4) is: -1163.590455447542\n",
      "Attempting to fit ARIMA(1,1,0)\n",
      "The AIC for ARIMA(1,1,0) is: -1021.8127839383114\n",
      "Attempting to fit ARIMA(1,1,1)\n",
      "The AIC for ARIMA(1,1,1) is: -1166.8470012794514\n",
      "Attempting to fit ARIMA(1,1,2)\n",
      "The AIC for ARIMA(1,1,2) is: -1166.099094316111\n",
      "Attempting to fit ARIMA(1,1,3)\n",
      "The AIC for ARIMA(1,1,3) is: -1164.441965703711\n",
      "Attempting to fit ARIMA(1,1,4)\n",
      "The AIC for ARIMA(1,1,4) is: -1164.5767382357744\n",
      "Attempting to fit ARIMA(2,1,0)\n",
      "The AIC for ARIMA(2,1,0) is: -1063.693551571017\n",
      "Attempting to fit ARIMA(2,1,1)\n",
      "The AIC for ARIMA(2,1,1) is: -1165.4277454320309\n",
      "Attempting to fit ARIMA(2,1,2)\n",
      "The AIC for ARIMA(2,1,2) is: -1164.4024860798809\n",
      "Attempting to fit ARIMA(2,1,3)\n",
      "The AIC for ARIMA(2,1,3) is: -1178.2156697976993\n",
      "Attempting to fit ARIMA(2,1,4)\n",
      "The AIC for ARIMA(2,1,4) is: -1177.2828386650676\n",
      "Attempting to fit ARIMA(3,1,0)\n",
      "The AIC for ARIMA(3,1,0) is: -1081.8837449730586\n",
      "Attempting to fit ARIMA(3,1,1)\n",
      "The AIC for ARIMA(3,1,1) is: -1163.518148129639\n",
      "Attempting to fit ARIMA(3,1,2)\n",
      "The AIC for ARIMA(3,1,2) is: -1161.4242351284615\n",
      "Attempting to fit ARIMA(3,1,3)\n",
      "The AIC for ARIMA(3,1,3) is: -1177.4728475290694\n",
      "Attempting to fit ARIMA(3,1,4)\n",
      "The AIC for ARIMA(3,1,4) is: -1176.9427397301242\n",
      "Attempting to fit ARIMA(4,1,0)\n",
      "The AIC for ARIMA(4,1,0) is: -1092.1729058980068\n",
      "Attempting to fit ARIMA(4,1,1)\n",
      "The AIC for ARIMA(4,1,1) is: -1162.0949144488432\n",
      "Attempting to fit ARIMA(4,1,2)\n",
      "The AIC for ARIMA(4,1,2) is: -1162.3399890153678\n",
      "Attempting to fit ARIMA(4,1,3)\n",
      "The AIC for ARIMA(4,1,3) is: -1161.1339461797124\n",
      "Attempting to fit ARIMA(4,1,4)\n",
      "The AIC for ARIMA(4,1,4) is: -1159.4018805871751\n",
      "\n",
      "\n",
      "MODEL FINISHED!\n",
      "Our model that minimizes AIC on the training data is the ARIMA(2,1,3).\n",
      "This model has an AIC of -1178.2156697976993.\n"
     ]
    }
   ],
   "source": [
    "# Starting AIC, p, and q.\n",
    "best_aic = 99 * (10 ** 16)\n",
    "best_p = 0\n",
    "best_q = 0\n",
    "\n",
    "# Use nested for loop to iterate over values of p and q.\n",
    "for p in range(5):\n",
    "    for q in range(5):\n",
    "        \n",
    "        # Insert try and except statements.\n",
    "        try:\n",
    "            \n",
    "            # Fitting an ARIMA(p, 1, q) model.\n",
    "            print(f'Attempting to fit ARIMA({p},1,{q})')\n",
    "            \n",
    "            # Instantiate ARIMA model.\n",
    "            arima = ARIMA(endog = y_train.astype(float).dropna(), # endog = Y variable\n",
    "                          order = (p,1,q)) # values of p, d, q\n",
    "            \n",
    "            # Fit ARIMA model.\n",
    "            model = arima.fit()\n",
    "\n",
    "            # Print out AIC for ARIMA(p, 1, q) model.\n",
    "            print(f'The AIC for ARIMA({p},1,{q}) is: {model.aic}')\n",
    "\n",
    "            # Is my current model's AIC better than our best_aic?\n",
    "            if model.aic < best_aic:\n",
    "                \n",
    "                # If so, let's overwrite best_aic, best_p, and best_q.\n",
    "                best_aic = model.aic\n",
    "                best_p = p\n",
    "                best_q = q\n",
    "\n",
    "        except:\n",
    "            pass\n",
    "print()\n",
    "print()\n",
    "print('MODEL FINISHED!')\n",
    "print(f'Our model that minimizes AIC on the training data is the ARIMA({best_p},1,{best_q}).')\n",
    "print(f'This model has an AIC of {best_aic}.')"
   ]
  },
  {
   "cell_type": "code",
   "execution_count": 369,
   "metadata": {},
   "outputs": [],
   "source": [
    "import datetime as dt"
   ]
  },
  {
   "cell_type": "code",
   "execution_count": 370,
   "metadata": {},
   "outputs": [],
   "source": [
    "#y_test = y_test.asfreq('d')\n",
    "#y_test.dropna(inplace = True)"
   ]
  },
  {
   "cell_type": "code",
   "execution_count": 371,
   "metadata": {},
   "outputs": [
    {
     "data": {
      "image/png": "[encoded data removed]",
      "text/plain": [
       "<Figure size 720x432 with 1 Axes>"
      ]
     },
     "metadata": {
      "needs_background": "light"
     },
     "output_type": "display_data"
    }
   ],
   "source": [
    "# Instantiate best model.\n",
    "model = ARIMA(endog = y_train.astype(float).dropna(), # endog = Y variable\n",
    "              order = (2,1,3))\n",
    "\n",
    "# Fit ARIMA model.\n",
    "arima = model.fit()\n",
    "\n",
    "# Generate predictions based on test set.\n",
    "preds = model.predict(params = arima.params)\n",
    "preds= preds[292:]\n",
    "\n",
    "# Plot data.\n",
    "plt.figure(figsize=(10,6))\n",
    "\n",
    "# Plot training data.\n",
    "plt.plot(y_train.index, pd.DataFrame(y_train), color = 'blue')\n",
    "\n",
    "# Plot testing data.\n",
    "plt.plot(y_test.index, pd.DataFrame(y_test), color = 'orange')\n",
    "\n",
    "# Plot predicted test values.\n",
    "plt.plot(y_test.index, preds, color = 'green')\n",
    "\n",
    "plt.title(label = 'PTON Daily % Return with ARIMA(2, 1, 3) Predictions', fontsize=16)\n",
    "plt.show();"
   ]
  },
  {
   "cell_type": "code",
   "execution_count": 372,
   "metadata": {},
   "outputs": [],
   "source": [
    "start = 123.81\n",
    "def make_predicted_adj_close_df(start_adj_close, preds):\n",
    "    mylist = []\n",
    "    #mylist = [start_adj_close]\n",
    "    for day in preds:\n",
    "        try:\n",
    "            mylist.append(mylist[-1]*(1+day))\n",
    "        except:\n",
    "            mylist.append(start_adj_close)\n",
    "    return mylist"
   ]
  },
  {
   "cell_type": "code",
   "execution_count": 373,
   "metadata": {},
   "outputs": [],
   "source": [
    "predicted_adj_close = make_predicted_adj_close_df(start, preds)"
   ]
  },
  {
   "cell_type": "code",
   "execution_count": 374,
   "metadata": {},
   "outputs": [],
   "source": [
    "close_train = pton[pton.index < datetime(year = 2021, month = 3, day = 1)]\n",
    "close_test = pton[pton.index > datetime(year = 2021, month = 3, day = 1)]\n",
    "close_train = close_train['adjusted_close']\n",
    "close_test = close_test['adjusted_close'] \n",
    "close_train = pd.DataFrame(close_train)\n",
    "close_test = pd.DataFrame(close_test)"
   ]
  },
  {
   "cell_type": "code",
   "execution_count": 375,
   "metadata": {},
   "outputs": [
    {
     "data": {
      "image/png": "[encoded data removed]",
      "text/plain": [
       "<Figure size 720x432 with 1 Axes>"
      ]
     },
     "metadata": {
      "needs_background": "light"
     },
     "output_type": "display_data"
    }
   ],
   "source": [
    "plt.figure(figsize=(10,6))\n",
    "\n",
    "# Plot training data.\n",
    "plt.plot(close_train.index, pd.DataFrame(close_train), color = 'blue')\n",
    "\n",
    "# Plot testing data.\n",
    "plt.plot(close_test.index, pd.DataFrame(close_test), color = 'orange')\n",
    "\n",
    "# Plot predicted test values.\n",
    "plt.plot(close_test.index, predicted_adj_close, color = 'green')\n",
    "\n",
    "plt.title(label = 'PTON Adjusted Close with ARIMA(2, 1, 3) Predictions', fontsize=16)\n",
    "plt.show();"
   ]
  },
  {
   "cell_type": "markdown",
   "metadata": {},
   "source": [
    "The Blue and yellow lines above are the actual PTON adjusted close amounts. The green line is the ARIMA predictions. As we can see the green line is not close to what actually happened. For a baseline model, however, this is a fine start.\n",
    "\n",
    "\n",
    "The next step will be to see if we can improve upon this by incorporating Google Trends data.\n",
    "\n"
   ]
  },
  {
   "cell_type": "markdown",
   "metadata": {},
   "source": [
    "# ARIMA Model with Exogeneous Predictors"
   ]
  },
  {
   "cell_type": "code",
   "execution_count": 376,
   "metadata": {},
   "outputs": [],
   "source": [
    "gt_train = pton[pton.index < datetime(year = 2021, month = 3, day = 1)]\n",
    "gt_train['diff_trend_score']= gt_train['trend_score'].diff(1)\n",
    "\n",
    "gt_train = gt_train['diff_trend_score']\n",
    "\n",
    "endog = y_train.astype(float).dropna()\n",
    "exog = sm.add_constant(gt_train.astype(float).dropna())"
   ]
  },
  {
   "cell_type": "code",
   "execution_count": 377,
   "metadata": {},
   "outputs": [
    {
     "data": {
      "text/plain": [
       "(357, 1)"
      ]
     },
     "execution_count": 377,
     "metadata": {},
     "output_type": "execute_result"
    }
   ],
   "source": [
    "endog.shape"
   ]
  },
  {
   "cell_type": "code",
   "execution_count": 378,
   "metadata": {},
   "outputs": [
    {
     "data": {
      "text/plain": [
       "(357, 2)"
      ]
     },
     "execution_count": 378,
     "metadata": {},
     "output_type": "execute_result"
    }
   ],
   "source": [
    "exog.shape"
   ]
  },
  {
   "cell_type": "code",
   "execution_count": 379,
   "metadata": {},
   "outputs": [
    {
     "name": "stdout",
     "output_type": "stream",
     "text": [
      "                               SARIMAX Results                                \n",
      "==============================================================================\n",
      "Dep. Variable:       daily_pct_return   No. Observations:                  357\n",
      "Model:               SARIMAX(2, 1, 3)   Log Likelihood                 591.297\n",
      "Date:                Tue, 13 Jul 2021   AIC                          -1166.595\n",
      "Time:                        17:00:49   BIC                          -1135.595\n",
      "Sample:                             0   HQIC                         -1154.263\n",
      "                                - 357                                         \n",
      "Covariance Type:                  opg                                         \n",
      "====================================================================================\n",
      "                       coef    std err          z      P>|z|      [0.025      0.975]\n",
      "------------------------------------------------------------------------------------\n",
      "const             4.015e-10   4.66e-09      0.086      0.931   -8.73e-09    9.53e-09\n",
      "diff_trend_score     0.0005      0.000      1.126      0.260      -0.000       0.001\n",
      "ar.L1               -1.5124      0.172     -8.787      0.000      -1.850      -1.175\n",
      "ar.L2               -0.7566      0.176     -4.292      0.000      -1.102      -0.411\n",
      "ma.L1                0.5920      0.139      4.250      0.000       0.319       0.865\n",
      "ma.L2               -0.7367      0.072    -10.249      0.000      -0.878      -0.596\n",
      "ma.L3               -0.8380      0.141     -5.959      0.000      -1.114      -0.562\n",
      "sigma2               0.0021      0.000     14.231      0.000       0.002       0.002\n",
      "===================================================================================\n",
      "Ljung-Box (L1) (Q):                   1.27   Jarque-Bera (JB):                26.81\n",
      "Prob(Q):                              0.26   Prob(JB):                         0.00\n",
      "Heteroskedasticity (H):               0.97   Skew:                            -0.17\n",
      "Prob(H) (two-sided):                  0.86   Kurtosis:                         4.30\n",
      "===================================================================================\n",
      "\n",
      "Warnings:\n",
      "[1] Covariance matrix calculated using the outer product of gradients (complex-step).\n",
      "[2] Covariance matrix is singular or near-singular, with condition number 1.47e+23. Standard errors may be unstable.\n"
     ]
    }
   ],
   "source": [
    "mod = sm.tsa.statespace.SARIMAX(endog, exog, order=(2,1,3))\n",
    "res = mod.fit()\n",
    "print(res.summary())"
   ]
  },
  {
   "cell_type": "code",
   "execution_count": 380,
   "metadata": {},
   "outputs": [],
   "source": [
    "preds_with_gt = res.predict()\n",
    "preds_with_gt = preds_with_gt[292:]"
   ]
  },
  {
   "cell_type": "code",
   "execution_count": 381,
   "metadata": {},
   "outputs": [
    {
     "data": {
      "text/plain": [
       "date\n",
       "2020-11-23    0.001414\n",
       "2020-11-24    0.004598\n",
       "2020-11-25    0.004574\n",
       "2020-11-27    0.005581\n",
       "2020-11-30    0.012033\n",
       "                ...   \n",
       "2021-02-22    0.009864\n",
       "2021-02-23   -0.002355\n",
       "2021-02-24    0.007987\n",
       "2021-02-25    0.004781\n",
       "2021-02-26   -0.005194\n",
       "Name: predicted_mean, Length: 65, dtype: float64"
      ]
     },
     "execution_count": 381,
     "metadata": {},
     "output_type": "execute_result"
    }
   ],
   "source": [
    "preds_with_gt"
   ]
  },
  {
   "cell_type": "code",
   "execution_count": 382,
   "metadata": {},
   "outputs": [],
   "source": [
    "predicted_adj_close = make_predicted_adj_close_df(start, preds_with_gt)\n",
    "predicted_adj_close = predicted_adj_close[1:]"
   ]
  },
  {
   "cell_type": "code",
   "execution_count": 383,
   "metadata": {},
   "outputs": [
    {
     "data": {
      "image/png": "[encoded data removed]",
      "text/plain": [
       "<Figure size 720x432 with 1 Axes>"
      ]
     },
     "metadata": {
      "needs_background": "light"
     },
     "output_type": "display_data"
    }
   ],
   "source": [
    "plt.figure(figsize=(10,6))\n",
    "\n",
    "# Plot training data.\n",
    "plt.plot(close_train.index, pd.DataFrame(close_train), color = 'blue')\n",
    "\n",
    "# Plot testing data.\n",
    "plt.plot(close_test.index, pd.DataFrame(close_test), color = 'orange')\n",
    "\n",
    "# Plot predicted test values.\n",
    "plt.plot(close_test.index, predicted_adj_close, color = 'green')\n",
    "\n",
    "plt.title(label = 'PTON Adjusted Close with ARIMA(2, 1, 3) Predictions', fontsize=16)\n",
    "plt.show();"
   ]
  },
  {
   "cell_type": "code",
   "execution_count": null,
   "metadata": {},
   "outputs": [],
   "source": []
  }
 ],
 "metadata": {
  "kernelspec": {
   "display_name": "Python 3",
   "language": "python",
   "name": "python3"
  },
  "language_info": {
   "codemirror_mode": {
    "name": "ipython",
    "version": 3
   },
   "file_extension": ".py",
   "mimetype": "text/x-python",
   "name": "python",
   "nbconvert_exporter": "python",
   "pygments_lexer": "ipython3",
   "version": "3.8.5"
  }
 },
 "nbformat": 4,
 "nbformat_minor": 4
}
