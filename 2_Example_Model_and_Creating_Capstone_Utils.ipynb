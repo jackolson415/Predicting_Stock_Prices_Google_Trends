{
 "cells": [
  {
   "cell_type": "markdown",
   "metadata": {},
   "source": [
    "# Example Model and Creating Capstone Utils"
   ]
  },
  {
   "cell_type": "markdown",
   "metadata": {},
   "source": [
    "The goal of this workbook is to model for one ticker with the data from the create_ticker_df function I made in 1_Data_Collection_And_EDA.ipynb.\n",
    "\n",
    "I will start with modeling for PTON, and then generalize that code into functions saved in capstone_utils.py. Collect_Data_and_Model_Ticker.ipynb will use those generalized functions to collect data and model for any ticker."
   ]
  },
  {
   "cell_type": "markdown",
   "metadata": {},
   "source": [
    "---"
   ]
  },
  {
   "cell_type": "markdown",
   "metadata": {},
   "source": [
    "# Modeling to Predict Changes in Peloton Stock (PTON)"
   ]
  },
  {
   "cell_type": "markdown",
   "metadata": {},
   "source": [
    "PTON was first stock to make me interested in using Google Trends to predict stock price changes. Search interest for 'PTON' was at an all-time high in September 2020, and in the months following the value of the stock doubled in value. This is why I am going to model for PTON first. My hypothesis is that using Google Trends will improve my model's ability to accurately predict the rise of Peloton in 2020."
   ]
  },
  {
   "cell_type": "code",
   "execution_count": 45,
   "metadata": {},
   "outputs": [],
   "source": [
    "#Imports\n",
    "from alpha_vantage.timeseries import TimeSeries\n",
    "import requests\n",
    "import pandas as pd\n",
    "import pandas as pd                        \n",
    "from pytrends.request import TrendReq\n",
    "from IPython.display import Image\n",
    "import matplotlib.pyplot as plt\n",
    "from statsmodels.tsa.seasonal import seasonal_decompose\n",
    "from statsmodels.graphics.tsaplots import plot_pacf\n",
    "from statsmodels.tsa.arima_model import ARIMA\n",
    "import pandas as pd\n",
    "import numpy as np\n",
    "import matplotlib.pyplot as plt\n",
    "plt.style.use('fivethirtyeight')\n",
    "%matplotlib inline\n",
    "from datetime import datetime\n",
    "from sklearn.model_selection import train_test_split\n",
    "import statsmodels.api as sm\n",
    "# We are required to do this in order to avoid \"FutureWarning\" issues.\n",
    "from pandas.plotting import register_matplotlib_converters\n",
    "register_matplotlib_converters()\n",
    "from statsmodels.tsa.stattools import adfuller\n",
    "import warnings\n",
    "warnings.filterwarnings('ignore')\n",
    "import datetime as dt\n",
    "from statsmodels.tsa.vector_ar.vecm import coint_johansen\n",
    "from statsmodels.tsa.stattools import grangercausalitytests\n",
    "from statsmodels.tsa.api import VAR"
   ]
  },
  {
   "cell_type": "code",
   "execution_count": 46,
   "metadata": {},
   "outputs": [],
   "source": [
    "#see 1_Data_Collection_And_EDA.ipynb for how I created these functions\n",
    "def spdr_adj_close():\n",
    "    url = f'https://www.alphavantage.co/query?function=TIME_SERIES_DAILY_ADJUSTED&symbol=spy&apikey=49KFJCFS3P6CEU4F&outputsize=full'\n",
    "    r = requests.get(url)\n",
    "    data = r.json()\n",
    "    df = pd.DataFrame(data['Time Series (Daily)']).T\n",
    "    df['date'] = df.index\n",
    "    df.index = pd.to_datetime(df['date'])\n",
    "    df = df[df['date'] > '2018-01-01']\n",
    "    df = df[df['date'] < '2021-06-02']\n",
    "    df.drop(columns = 'date', inplace = True)\n",
    "    df.sort_index(inplace=True)\n",
    "    return df['5. adjusted close']\n",
    "\n",
    "def create_ticker_df (ticker):\n",
    "    '''Returns a DataFrame of stock and Google Trends data for the given ticker. The output will be daily data 1/2/18-6/1/21'''\n",
    "    #collect stock data using Alpha Vantage API\n",
    "    url = f'https://www.alphavantage.co/query?function=TIME_SERIES_DAILY_ADJUSTED&symbol={ticker}&apikey=49KFJCFS3P6CEU4F&outputsize=full'\n",
    "    r = requests.get(url)\n",
    "    data = r.json()\n",
    "    df = pd.DataFrame(data['Time Series (Daily)']).T\n",
    "    \n",
    "    #filter to include 2018.01.02 - 2021.06.01\n",
    "    df['date'] = df.index\n",
    "    df.index = pd.to_datetime(df['date'])\n",
    "    df = df[df['date'] > '2018-01-01']\n",
    "    df = df[df['date'] < '2021-06-02']\n",
    "    df.drop(columns = 'date', inplace = True)\n",
    "    df.sort_index(inplace=True)\n",
    "    \n",
    "    #add lag columns\n",
    "    days_to_lag = [1,2,3,7,30,90,365]\n",
    "    for day in days_to_lag:\n",
    "        df[f'lag_{day}'] = df['5. adjusted close'].shift(day)\n",
    "    \n",
    "    #fix dtypes and column names\n",
    "    df['spdr_adj_close'] = spdr_adj_close()\n",
    "   \n",
    "    \n",
    "    for col in df.columns:\n",
    "        df[col] = pd.to_numeric(df[col])\n",
    "    df['daily_returns'] = df['5. adjusted close'] - df['lag_1']\n",
    "    df['daily_pct_return'] = df['daily_returns']/df['5. adjusted close'].shift(1)\n",
    "    df['rolling_3d_adj_close'] = df['5. adjusted close'].rolling(3).mean()\n",
    "    df.rename(columns = {'1. open': 'open',\n",
    "                        '2. high': 'high',\n",
    "                        '3. low': 'low',\n",
    "                        '4. close': 'close',\n",
    "                        '5. adjusted close': 'adjusted_close',\n",
    "                        '6. volume': 'volume',\n",
    "                        '7. dividend amount': 'dividend amount',\n",
    "                        '8. split coefficient': 'splitcoef',\n",
    "                        'daily_returns' : 'daily_returns'}, inplace = True)\n",
    "        \n",
    "    #Collect Google Trends data using pytrends api\n",
    "    pytrend = TrendReq()\n",
    "    pytrend.build_payload(kw_list=[ticker])\n",
    "    google = pytrend.interest_over_time()\n",
    "    trends = google[ticker].resample('D', convention = 'start').pad()\n",
    "    trends = pd.DataFrame(trends)\n",
    "    trends.rename(columns = {ticker:'trend_score'}, inplace = True)\n",
    "    \n",
    "    #merge stock data with trends data\n",
    "    df = df.merge(trends, how = 'left', left_index = True, right_index = True)\n",
    "    \n",
    "    return df"
   ]
  },
  {
   "cell_type": "code",
   "execution_count": 47,
   "metadata": {},
   "outputs": [],
   "source": [
    "pton = create_ticker_df('PTON')"
   ]
  },
  {
   "cell_type": "markdown",
   "metadata": {},
   "source": [
    "# Baseline Model: ARIMA"
   ]
  },
  {
   "cell_type": "code",
   "execution_count": 48,
   "metadata": {},
   "outputs": [],
   "source": [
    "# Create train-test split.\n",
    "y_train = pton[pton.index < datetime(year = 2021, month = 3, day = 1)]\n",
    "y_test = pton[pton.index > datetime(year = 2021, month = 3, day = 1)]\n",
    "y_train = y_train['daily_pct_return']\n",
    "y_test = y_test['daily_pct_return'] \n",
    "y_train = pd.DataFrame(y_train)\n",
    "y_test = pd.DataFrame(y_test)\n",
    "y_train.dropna(inplace = True)\n",
    "y_test.dropna(inplace = True)"
   ]
  },
  {
   "cell_type": "code",
   "execution_count": 49,
   "metadata": {},
   "outputs": [],
   "source": [
    "# Code written by Joseph Nelson.\n",
    "\n",
    "def interpret_dftest(dftest):\n",
    "    dfoutput = pd.Series(dftest[0:2], index=['Test Statistic','p-value'])\n",
    "    return dfoutput"
   ]
  },
  {
   "cell_type": "code",
   "execution_count": 50,
   "metadata": {},
   "outputs": [
    {
     "data": {
      "text/plain": [
       "Test Statistic   -1.861373e+01\n",
       "p-value           2.064081e-30\n",
       "dtype: float64"
      ]
     },
     "execution_count": 50,
     "metadata": {},
     "output_type": "execute_result"
    }
   ],
   "source": [
    "# Run ADF test on original (non-differenced!) data.\n",
    "interpret_dftest(adfuller(y_train))"
   ]
  },
  {
   "cell_type": "markdown",
   "metadata": {},
   "source": [
    "Since our p-value is approaching zero that means that our daily_pct_return data is stationary and we are permitted to use an ARIMA model. It makes sense that the daily_pct_return data is stationary considering it's already differenced. The adjusted_close data is not stationary, there has been a lot of movement in the stock price since it's IPO in 2019."
   ]
  },
  {
   "cell_type": "code",
   "execution_count": 51,
   "metadata": {},
   "outputs": [
    {
     "name": "stdout",
     "output_type": "stream",
     "text": [
      "Attempting to fit ARIMA(0,1,0)\n",
      "The AIC for ARIMA(0,1,0) is: -934.0440909911908\n",
      "Attempting to fit ARIMA(0,1,1)\n",
      "The AIC for ARIMA(0,1,1) is: -1168.7877074340872\n",
      "Attempting to fit ARIMA(0,1,2)\n",
      "The AIC for ARIMA(0,1,2) is: -1166.8521823487522\n",
      "Attempting to fit ARIMA(0,1,3)\n",
      "The AIC for ARIMA(0,1,3) is: -1165.454779190161\n",
      "Attempting to fit ARIMA(0,1,4)\n",
      "The AIC for ARIMA(0,1,4) is: -1163.590455447542\n",
      "Attempting to fit ARIMA(1,1,0)\n",
      "The AIC for ARIMA(1,1,0) is: -1021.8127839383114\n",
      "Attempting to fit ARIMA(1,1,1)\n",
      "The AIC for ARIMA(1,1,1) is: -1166.8470012794514\n",
      "Attempting to fit ARIMA(1,1,2)\n",
      "The AIC for ARIMA(1,1,2) is: -1166.099094316111\n",
      "Attempting to fit ARIMA(1,1,3)\n",
      "The AIC for ARIMA(1,1,3) is: -1164.441965703711\n",
      "Attempting to fit ARIMA(1,1,4)\n",
      "The AIC for ARIMA(1,1,4) is: -1164.5767382357744\n",
      "Attempting to fit ARIMA(2,1,0)\n",
      "The AIC for ARIMA(2,1,0) is: -1063.693551571017\n",
      "Attempting to fit ARIMA(2,1,1)\n",
      "The AIC for ARIMA(2,1,1) is: -1165.4277454320309\n",
      "Attempting to fit ARIMA(2,1,2)\n",
      "The AIC for ARIMA(2,1,2) is: -1164.4024860798809\n",
      "Attempting to fit ARIMA(2,1,3)\n",
      "The AIC for ARIMA(2,1,3) is: -1178.2156697976993\n",
      "Attempting to fit ARIMA(2,1,4)\n",
      "The AIC for ARIMA(2,1,4) is: -1177.2828386650676\n",
      "Attempting to fit ARIMA(3,1,0)\n",
      "The AIC for ARIMA(3,1,0) is: -1081.8837449730586\n",
      "Attempting to fit ARIMA(3,1,1)\n",
      "The AIC for ARIMA(3,1,1) is: -1163.518148129639\n",
      "Attempting to fit ARIMA(3,1,2)\n",
      "The AIC for ARIMA(3,1,2) is: -1161.4242351284615\n",
      "Attempting to fit ARIMA(3,1,3)\n",
      "The AIC for ARIMA(3,1,3) is: -1177.4728475290694\n",
      "Attempting to fit ARIMA(3,1,4)\n",
      "The AIC for ARIMA(3,1,4) is: -1176.9427397301242\n",
      "Attempting to fit ARIMA(4,1,0)\n",
      "The AIC for ARIMA(4,1,0) is: -1092.1729058980068\n",
      "Attempting to fit ARIMA(4,1,1)\n",
      "The AIC for ARIMA(4,1,1) is: -1162.0949144488432\n",
      "Attempting to fit ARIMA(4,1,2)\n",
      "The AIC for ARIMA(4,1,2) is: -1162.3399890153678\n",
      "Attempting to fit ARIMA(4,1,3)\n",
      "The AIC for ARIMA(4,1,3) is: -1161.1339461797124\n",
      "Attempting to fit ARIMA(4,1,4)\n",
      "The AIC for ARIMA(4,1,4) is: -1159.4018805871751\n",
      "\n",
      "\n",
      "MODEL FINISHED!\n",
      "Our model that minimizes AIC on the training data is the ARIMA(2,1,3).\n",
      "This model has an AIC of -1178.2156697976993.\n"
     ]
    }
   ],
   "source": [
    "# Starting AIC, p, and q.\n",
    "best_aic = 99 * (10 ** 16)\n",
    "best_p = 0\n",
    "best_q = 0\n",
    "\n",
    "# Use nested for loop to iterate over values of p and q.\n",
    "for p in range(5):\n",
    "    for q in range(5):\n",
    "        \n",
    "        # Insert try and except statements.\n",
    "        try:\n",
    "            \n",
    "            # Fitting an ARIMA(p, 1, q) model.\n",
    "            print(f'Attempting to fit ARIMA({p},1,{q})')\n",
    "            \n",
    "            # Instantiate ARIMA model.\n",
    "            arima = ARIMA(endog = y_train.astype(float).dropna(), # endog = Y variable\n",
    "                          order = (p,1,q)) # values of p, d, q\n",
    "            \n",
    "            # Fit ARIMA model.\n",
    "            model = arima.fit()\n",
    "\n",
    "            # Print out AIC for ARIMA(p, 1, q) model.\n",
    "            print(f'The AIC for ARIMA({p},1,{q}) is: {model.aic}')\n",
    "\n",
    "            # Is my current model's AIC better than our best_aic?\n",
    "            if model.aic < best_aic:\n",
    "                \n",
    "                # If so, let's overwrite best_aic, best_p, and best_q.\n",
    "                best_aic = model.aic\n",
    "                best_p = p\n",
    "                best_q = q\n",
    "\n",
    "        except:\n",
    "            pass\n",
    "print()\n",
    "print()\n",
    "print('MODEL FINISHED!')\n",
    "print(f'Our model that minimizes AIC on the training data is the ARIMA({best_p},1,{best_q}).')\n",
    "print(f'This model has an AIC of {best_aic}.')"
   ]
  },
  {
   "cell_type": "code",
   "execution_count": 52,
   "metadata": {},
   "outputs": [
    {
     "data": {
      "image/png": "[encoded data removed]",
      "text/plain": [
       "<Figure size 720x432 with 1 Axes>"
      ]
     },
     "metadata": {
      "needs_background": "light"
     },
     "output_type": "display_data"
    }
   ],
   "source": [
    "# Instantiate best model.\n",
    "model = ARIMA(endog = y_train.astype(float).dropna(), # endog = Y variable\n",
    "              order = (2,1,3))\n",
    "\n",
    "# Fit ARIMA model.\n",
    "arima = model.fit()\n",
    "\n",
    "# Generate predictions based on test set.\n",
    "preds = model.predict(params = arima.params)\n",
    "preds= preds[292:]\n",
    "\n",
    "# Plot data.\n",
    "plt.figure(figsize=(10,6))\n",
    "\n",
    "# Plot training data.\n",
    "plt.plot(y_train.index, pd.DataFrame(y_train), color = 'blue')\n",
    "\n",
    "# Plot testing data.\n",
    "plt.plot(y_test.index, pd.DataFrame(y_test), color = 'orange')\n",
    "\n",
    "# Plot predicted test values.\n",
    "plt.plot(y_test.index, preds, color = 'green')\n",
    "\n",
    "plt.title(label = 'PTON Daily % Return with ARIMA(2, 1, 3) Predictions', fontsize=16)\n",
    "plt.show();"
   ]
  },
  {
   "cell_type": "code",
   "execution_count": 53,
   "metadata": {},
   "outputs": [],
   "source": [
    "start =pton.iloc[-65]['adjusted_close']\n",
    "def make_predicted_adj_close_df(start_adj_close, preds):\n",
    "    mylist = []\n",
    "    #mylist = [start_adj_close]\n",
    "    for day in preds:\n",
    "        try:\n",
    "            mylist.append(mylist[-1]*(1+day))\n",
    "        except:\n",
    "            mylist.append(start_adj_close)\n",
    "    return mylist"
   ]
  },
  {
   "cell_type": "code",
   "execution_count": 54,
   "metadata": {},
   "outputs": [],
   "source": [
    "predicted_adj_close = make_predicted_adj_close_df(start, preds)"
   ]
  },
  {
   "cell_type": "code",
   "execution_count": 55,
   "metadata": {},
   "outputs": [],
   "source": [
    "#set up index and train_test_split for closing amounts\n",
    "close_train = pton[pton.index < datetime(year = 2021, month = 3, day = 1)]\n",
    "close_test = pton[pton.index > datetime(year = 2021, month = 3, day = 1)]\n",
    "close_train = close_train['adjusted_close']\n",
    "close_test = close_test['adjusted_close'] \n",
    "close_train = pd.DataFrame(close_train)\n",
    "close_test = pd.DataFrame(close_test)"
   ]
  },
  {
   "cell_type": "code",
   "execution_count": 56,
   "metadata": {},
   "outputs": [
    {
     "data": {
      "image/png": "[encoded data removed]",
      "text/plain": [
       "<Figure size 720x432 with 1 Axes>"
      ]
     },
     "metadata": {
      "needs_background": "light"
     },
     "output_type": "display_data"
    }
   ],
   "source": [
    "plt.figure(figsize=(10,6))\n",
    "\n",
    "# Plot training data.\n",
    "plt.plot(close_train.index, pd.DataFrame(close_train), color = 'blue', label = 'Training Adjusted Close')\n",
    "# Plot testing data.\n",
    "plt.plot(close_test.index, pd.DataFrame(close_test), color = 'orange', label = 'Testing Adjusted Close')\n",
    "# Plot predicted test values.\n",
    "plt.plot(close_test.index, predicted_adj_close, color = 'green', label = 'ARIMA Predictions')\n",
    "\n",
    "plt.legend()\n",
    "plt.title(label = 'PTON Adjusted Close with ARIMA(2, 1, 3) Predictions', fontsize=16)\n",
    "plt.show();"
   ]
  },
  {
   "cell_type": "markdown",
   "metadata": {},
   "source": [
    "The Blue and yellow lines above are the actual PTON adjusted close amounts. The green line is the ARIMA predictions. As we can see the green line is not close to what actually happened. For a baseline model, however, this is a fine start.\n",
    "\n",
    "\n",
    "The next step will be to see if we can improve upon this by incorporating Google Trends data.\n",
    "\n"
   ]
  },
  {
   "cell_type": "markdown",
   "metadata": {},
   "source": [
    "# ARIMA Model with Exogeneous Predictors"
   ]
  },
  {
   "cell_type": "code",
   "execution_count": 57,
   "metadata": {},
   "outputs": [],
   "source": [
    "gt_train = pton[pton.index < datetime(year = 2021, month = 3, day = 1)]\n",
    "gt_train['diff_trend_score']= gt_train['trend_score'].diff(1)\n",
    "gt_train = gt_train['diff_trend_score']\n",
    "\n",
    "endog = y_train.astype(float).dropna()\n",
    "exog = sm.add_constant(gt_train.astype(float).dropna())"
   ]
  },
  {
   "cell_type": "code",
   "execution_count": 58,
   "metadata": {},
   "outputs": [
    {
     "name": "stdout",
     "output_type": "stream",
     "text": [
      "                               SARIMAX Results                                \n",
      "==============================================================================\n",
      "Dep. Variable:       daily_pct_return   No. Observations:                  357\n",
      "Model:               SARIMAX(2, 1, 3)   Log Likelihood                 580.640\n",
      "Date:                Mon, 19 Jul 2021   AIC                          -1143.281\n",
      "Time:                        14:34:41   BIC                          -1108.406\n",
      "Sample:                             0   HQIC                         -1129.408\n",
      "                                - 357                                         \n",
      "Covariance Type:                  opg                                         \n",
      "====================================================================================\n",
      "                       coef    std err          z      P>|z|      [0.025      0.975]\n",
      "------------------------------------------------------------------------------------\n",
      "drift            -3.752e-06   5.65e-06     -0.664      0.507   -1.48e-05    7.33e-06\n",
      "const             2.049e-32   9.56e-09   2.14e-24      1.000   -1.87e-08    1.87e-08\n",
      "diff_trend_score  1.632e-05      0.000      0.036      0.971      -0.001       0.001\n",
      "ar.L1               -1.2548      1.700     -0.738      0.460      -4.587       2.077\n",
      "ar.L2               -0.5174      1.285     -0.403      0.687      -3.036       2.001\n",
      "ma.L1                0.3779      1.701      0.222      0.824      -2.955       3.711\n",
      "ma.L2               -0.6229      1.120     -0.556      0.578      -2.819       1.573\n",
      "ma.L3               -0.4911      1.151     -0.427      0.669      -2.746       1.764\n",
      "sigma2               0.0023      0.000     14.239      0.000       0.002       0.003\n",
      "===================================================================================\n",
      "Ljung-Box (L1) (Q):                   1.35   Jarque-Bera (JB):                18.22\n",
      "Prob(Q):                              0.24   Prob(JB):                         0.00\n",
      "Heteroskedasticity (H):               0.95   Skew:                            -0.15\n",
      "Prob(H) (two-sided):                  0.80   Kurtosis:                         4.07\n",
      "===================================================================================\n",
      "\n",
      "Warnings:\n",
      "[1] Covariance matrix calculated using the outer product of gradients (complex-step).\n",
      "[2] Covariance matrix is singular or near-singular, with condition number 2.06e+17. Standard errors may be unstable.\n"
     ]
    }
   ],
   "source": [
    "mod = sm.tsa.statespace.SARIMAX(endog, exog, order=(2,1,3), trend = 't')\n",
    "res = mod.fit()\n",
    "print(res.summary())"
   ]
  },
  {
   "cell_type": "code",
   "execution_count": 59,
   "metadata": {},
   "outputs": [],
   "source": [
    "preds_with_gt = res.predict()\n",
    "preds_with_gt = preds_with_gt[292:]"
   ]
  },
  {
   "cell_type": "code",
   "execution_count": 60,
   "metadata": {},
   "outputs": [
    {
     "data": {
      "text/plain": [
       "date\n",
       "2020-11-23   -0.000538\n",
       "2020-11-24   -0.000709\n",
       "2020-11-25   -0.008355\n",
       "2020-11-27   -0.003256\n",
       "2020-11-30   -0.002920\n",
       "                ...   \n",
       "2021-02-22   -0.008969\n",
       "2021-02-23   -0.020647\n",
       "2021-02-24   -0.014147\n",
       "2021-02-25   -0.018926\n",
       "2021-02-26   -0.024197\n",
       "Name: predicted_mean, Length: 65, dtype: float64"
      ]
     },
     "execution_count": 60,
     "metadata": {},
     "output_type": "execute_result"
    }
   ],
   "source": [
    "preds_with_gt"
   ]
  },
  {
   "cell_type": "code",
   "execution_count": 61,
   "metadata": {},
   "outputs": [],
   "source": [
    "predicted_adj_close = make_predicted_adj_close_df(start, preds_with_gt)\n",
    "predicted_adj_close = predicted_adj_close[1:]"
   ]
  },
  {
   "cell_type": "code",
   "execution_count": 62,
   "metadata": {},
   "outputs": [
    {
     "data": {
      "image/png": "[encoded data removed]",
      "text/plain": [
       "<Figure size 720x432 with 1 Axes>"
      ]
     },
     "metadata": {
      "needs_background": "light"
     },
     "output_type": "display_data"
    }
   ],
   "source": [
    "plt.figure(figsize=(10,6))\n",
    "\n",
    "# Plot training data.\n",
    "plt.plot(close_train.index, pd.DataFrame(close_train), color = 'blue')\n",
    "\n",
    "# Plot testing data.\n",
    "plt.plot(close_test.index, pd.DataFrame(close_test), color = 'orange')\n",
    "\n",
    "# Plot predicted test values.\n",
    "plt.plot(close_test.index, predicted_adj_close, color = 'green')\n",
    "\n",
    "plt.title(label = 'PTON Adjusted Close with ARIMA(2, 1, 3) Predictions', fontsize=16)\n",
    "plt.show();"
   ]
  },
  {
   "cell_type": "markdown",
   "metadata": {},
   "source": [
    "This ARIMAX model is looking worse than my simple ARIMA model. Both of them do not fit the testing data well, but at least the ARIMA model chart looked like more of a realistic prediction than the ARIMAX.\n",
    "\n",
    "I don't really want to get too deep into interpreting results until I've run these models on more tickers. But my expectation is that my third model, a VAR model, will be the best since VAR is good for modeling using multiple time series. Since both my stock data and trend data are time series VAR should be the best fit for my purposes."
   ]
  },
  {
   "cell_type": "markdown",
   "metadata": {},
   "source": [
    "# Vector Autoregression (VAR) Modeling"
   ]
  },
  {
   "cell_type": "markdown",
   "metadata": {},
   "source": [
    "This VAR section is highly influenced by the article \"Vector Autoregression (VAR) – Comprehensive Guide with Examples in Python\" by Selva Prabhakaran of Machine Learning +. The article can be found at https://www.machinelearningplus.com/time-series/vector-autoregression-examples-python/"
   ]
  },
  {
   "cell_type": "markdown",
   "metadata": {},
   "source": [
    "A VAR model is implemented when mutiple time series influence each other. If PTON's stock price influences it's trend score, and vice versa, then it is fair to use a VAR model. \n",
    "\n",
    "The easiest way to check that time series have an influence on each other is to use Greanger's Causality test. It tests the hypothesis that the past values of time series 1 do not influence the current values of time series 2. If that hypothesis can be rejected then it is fair to say that the time series have an influencing relationship."
   ]
  },
  {
   "cell_type": "code",
   "execution_count": 63,
   "metadata": {},
   "outputs": [
    {
     "data": {
      "text/html": [
       "<div>\n",
       "<style scoped>\n",
       "    .dataframe tbody tr th:only-of-type {\n",
       "        vertical-align: middle;\n",
       "    }\n",
       "\n",
       "    .dataframe tbody tr th {\n",
       "        vertical-align: top;\n",
       "    }\n",
       "\n",
       "    .dataframe thead th {\n",
       "        text-align: right;\n",
       "    }\n",
       "</style>\n",
       "<table border=\"1\" class=\"dataframe\">\n",
       "  <thead>\n",
       "    <tr style=\"text-align: right;\">\n",
       "      <th></th>\n",
       "      <th>adjusted_close_x</th>\n",
       "      <th>trend_score_x</th>\n",
       "    </tr>\n",
       "  </thead>\n",
       "  <tbody>\n",
       "    <tr>\n",
       "      <th>adjusted_close_y</th>\n",
       "      <td>1.0000</td>\n",
       "      <td>0.0239</td>\n",
       "    </tr>\n",
       "    <tr>\n",
       "      <th>trend_score_y</th>\n",
       "      <td>0.0155</td>\n",
       "      <td>1.0000</td>\n",
       "    </tr>\n",
       "  </tbody>\n",
       "</table>\n",
       "</div>"
      ],
      "text/plain": [
       "                  adjusted_close_x  trend_score_x\n",
       "adjusted_close_y            1.0000         0.0239\n",
       "trend_score_y               0.0155         1.0000"
      ]
     },
     "execution_count": 63,
     "metadata": {},
     "output_type": "execute_result"
    }
   ],
   "source": [
    "#This function is taken from Selva Prabhakaran of MachineLearningPlus.com (https://www.machinelearningplus.com/time-series/vector-autoregression-examples-python/)\n",
    "maxlag=12\n",
    "test = 'ssr_chi2test'\n",
    "def grangers_causation_matrix(data, variables, test='ssr_chi2test', verbose=False):    \n",
    "    \"\"\"Check Granger Causality of all possible combinations of the Time series.\n",
    "    The rows are the response variable, columns are predictors. The values in the table \n",
    "    are the P-Values. P-Values lesser than the significance level (0.05), implies \n",
    "    the Null Hypothesis that the coefficients of the corresponding past values is \n",
    "    zero, that is, the X does not cause Y can be rejected.\n",
    "\n",
    "    data      : pandas dataframe containing the time series variables\n",
    "    variables : list containing names of the time series variables.\n",
    "    \"\"\"\n",
    "    df = pd.DataFrame(np.zeros((len(variables), len(variables))), columns=variables, index=variables)\n",
    "    for c in df.columns:\n",
    "        for r in df.index:\n",
    "            test_result = grangercausalitytests(data[[r, c]], maxlag=maxlag, verbose=False)\n",
    "            p_values = [round(test_result[i+1][0][test][1],4) for i in range(maxlag)]\n",
    "            if verbose: print(f'Y = {r}, X = {c}, P Values = {p_values}')\n",
    "            min_p_value = np.min(p_values)\n",
    "            df.loc[r, c] = min_p_value\n",
    "    df.columns = [var + '_x' for var in variables]\n",
    "    df.index = [var + '_y' for var in variables]\n",
    "    return df\n",
    "\n",
    "grangers_causation_matrix(pton, variables = ['adjusted_close', 'trend_score'])"
   ]
  },
  {
   "cell_type": "markdown",
   "metadata": {},
   "source": [
    "Using a p-value of 5%, this test can reject the hpyothesis that adjusted_close and trend_score do not have an influence on each other. Both .0374 and .0046 are less than .05."
   ]
  },
  {
   "cell_type": "code",
   "execution_count": 64,
   "metadata": {},
   "outputs": [
    {
     "name": "stdout",
     "output_type": "stream",
     "text": [
      "Name   ::  Test Stat > C(95%)    =>   Signif  \n",
      " ----------------------------------------\n",
      "adjusted_close ::  20.8      > 12.3212   =>   True\n",
      "trend_score ::  0.12      > 4.1296    =>   False\n"
     ]
    }
   ],
   "source": [
    "#This function is taken from Selva Prabhakaran of MachineLearningPlus.com (https://www.machinelearningplus.com/time-series/vector-autoregression-examples-python/)\n",
    "\n",
    "def cointegration_test(df, alpha=0.05): \n",
    "    \"\"\"Perform Johanson's Cointegration Test and Report Summary\"\"\"\n",
    "    out = coint_johansen(df,-1,5)\n",
    "    d = {'0.90':0, '0.95':1, '0.99':2}\n",
    "    traces = out.lr1\n",
    "    cvts = out.cvt[:, d[str(1-alpha)]]\n",
    "    def adjust(val, length= 6): return str(val).ljust(length)\n",
    "\n",
    "    # Summary\n",
    "    print('Name   ::  Test Stat > C(95%)    =>   Signif  \\n', '--'*20)\n",
    "    for col, trace, cvt in zip(df.columns, traces, cvts):\n",
    "        print(adjust(col), ':: ', adjust(round(trace,2), 9), \">\", adjust(cvt, 8), ' =>  ' , trace > cvt)\n",
    "\n",
    "cointegration_test(pton[['adjusted_close', 'trend_score']])"
   ]
  },
  {
   "cell_type": "code",
   "execution_count": 65,
   "metadata": {},
   "outputs": [],
   "source": [
    "pton['trend_score_diff'] = pton['trend_score'].diff(1)"
   ]
  },
  {
   "cell_type": "code",
   "execution_count": 66,
   "metadata": {},
   "outputs": [],
   "source": [
    "pton = pton[['adjusted_close', 'trend_score']]"
   ]
  },
  {
   "cell_type": "code",
   "execution_count": 67,
   "metadata": {},
   "outputs": [],
   "source": [
    "#train_test_split\n",
    "nobs = 10\n",
    "pton_train, pton_test = pton[0:-nobs], pton[-nobs:]"
   ]
  },
  {
   "cell_type": "code",
   "execution_count": 68,
   "metadata": {},
   "outputs": [],
   "source": [
    "pton_differenced = pton_train.diff().dropna()"
   ]
  },
  {
   "cell_type": "code",
   "execution_count": 69,
   "metadata": {},
   "outputs": [
    {
     "data": {
      "text/html": [
       "<div>\n",
       "<style scoped>\n",
       "    .dataframe tbody tr th:only-of-type {\n",
       "        vertical-align: middle;\n",
       "    }\n",
       "\n",
       "    .dataframe tbody tr th {\n",
       "        vertical-align: top;\n",
       "    }\n",
       "\n",
       "    .dataframe thead th {\n",
       "        text-align: right;\n",
       "    }\n",
       "</style>\n",
       "<table border=\"1\" class=\"dataframe\">\n",
       "  <thead>\n",
       "    <tr style=\"text-align: right;\">\n",
       "      <th></th>\n",
       "      <th>adjusted_close</th>\n",
       "      <th>trend_score</th>\n",
       "    </tr>\n",
       "    <tr>\n",
       "      <th>date</th>\n",
       "      <th></th>\n",
       "      <th></th>\n",
       "    </tr>\n",
       "  </thead>\n",
       "  <tbody>\n",
       "    <tr>\n",
       "      <th>2019-09-27</th>\n",
       "      <td>-0.52</td>\n",
       "      <td>0.0</td>\n",
       "    </tr>\n",
       "    <tr>\n",
       "      <th>2019-09-30</th>\n",
       "      <td>-0.14</td>\n",
       "      <td>-17.0</td>\n",
       "    </tr>\n",
       "    <tr>\n",
       "      <th>2019-10-01</th>\n",
       "      <td>-2.59</td>\n",
       "      <td>0.0</td>\n",
       "    </tr>\n",
       "    <tr>\n",
       "      <th>2019-10-02</th>\n",
       "      <td>0.09</td>\n",
       "      <td>0.0</td>\n",
       "    </tr>\n",
       "    <tr>\n",
       "      <th>2019-10-03</th>\n",
       "      <td>-0.27</td>\n",
       "      <td>0.0</td>\n",
       "    </tr>\n",
       "    <tr>\n",
       "      <th>...</th>\n",
       "      <td>...</td>\n",
       "      <td>...</td>\n",
       "    </tr>\n",
       "    <tr>\n",
       "      <th>2021-05-11</th>\n",
       "      <td>3.52</td>\n",
       "      <td>0.0</td>\n",
       "    </tr>\n",
       "    <tr>\n",
       "      <th>2021-05-12</th>\n",
       "      <td>-1.66</td>\n",
       "      <td>0.0</td>\n",
       "    </tr>\n",
       "    <tr>\n",
       "      <th>2021-05-13</th>\n",
       "      <td>5.94</td>\n",
       "      <td>0.0</td>\n",
       "    </tr>\n",
       "    <tr>\n",
       "      <th>2021-05-14</th>\n",
       "      <td>1.29</td>\n",
       "      <td>0.0</td>\n",
       "    </tr>\n",
       "    <tr>\n",
       "      <th>2021-05-17</th>\n",
       "      <td>-4.29</td>\n",
       "      <td>-6.0</td>\n",
       "    </tr>\n",
       "  </tbody>\n",
       "</table>\n",
       "<p>412 rows × 2 columns</p>\n",
       "</div>"
      ],
      "text/plain": [
       "            adjusted_close  trend_score\n",
       "date                                   \n",
       "2019-09-27           -0.52          0.0\n",
       "2019-09-30           -0.14        -17.0\n",
       "2019-10-01           -2.59          0.0\n",
       "2019-10-02            0.09          0.0\n",
       "2019-10-03           -0.27          0.0\n",
       "...                    ...          ...\n",
       "2021-05-11            3.52          0.0\n",
       "2021-05-12           -1.66          0.0\n",
       "2021-05-13            5.94          0.0\n",
       "2021-05-14            1.29          0.0\n",
       "2021-05-17           -4.29         -6.0\n",
       "\n",
       "[412 rows x 2 columns]"
      ]
     },
     "execution_count": 69,
     "metadata": {},
     "output_type": "execute_result"
    }
   ],
   "source": [
    "pton_differenced"
   ]
  },
  {
   "cell_type": "code",
   "execution_count": 70,
   "metadata": {},
   "outputs": [],
   "source": [
    "model = VAR(pton_differenced)"
   ]
  },
  {
   "cell_type": "code",
   "execution_count": 71,
   "metadata": {},
   "outputs": [
    {
     "name": "stdout",
     "output_type": "stream",
     "text": [
      "1\n",
      "Lag Order = 1\n",
      "AIC :  6.398228132909342\n",
      "2\n",
      "Lag Order = 2\n",
      "AIC :  6.398071220910433\n",
      "3\n",
      "Lag Order = 3\n",
      "AIC :  6.417549566545789\n",
      "4\n",
      "Lag Order = 4\n",
      "AIC :  6.379567299974205\n",
      "5\n",
      "Lag Order = 5\n",
      "AIC :  6.389379279837862\n",
      "6\n",
      "Lag Order = 6\n",
      "AIC :  6.378884951011943\n",
      "7\n",
      "Lag Order = 7\n",
      "AIC :  6.374959502679133\n",
      "8\n",
      "Lag Order = 8\n",
      "AIC :  6.3872603914379065\n",
      "9\n",
      "Lag Order = 9\n",
      "AIC :  6.367232390745096\n"
     ]
    }
   ],
   "source": [
    "for i in [1,2,3,4,5,6,7,8,9]:\n",
    "    print(i)\n",
    "    result = model.fit(i)\n",
    "    print('Lag Order =', i)\n",
    "    print('AIC : ', result.aic)\n",
    "    #print('BIC : ', result.bic)\n",
    "    #print('FPE : ', result.fpe)\n",
    "    #print('HQIC: ', result.hqic, '\\n')"
   ]
  },
  {
   "cell_type": "markdown",
   "metadata": {},
   "source": [
    "Of these options I select the model with the lowest AIC. For this ticker it is Lag Order 4, with an AIC of -2.4089. I will remake the model using the optimal lag order of 4."
   ]
  },
  {
   "cell_type": "code",
   "execution_count": 72,
   "metadata": {},
   "outputs": [],
   "source": [
    "var = model.fit(4)"
   ]
  },
  {
   "cell_type": "code",
   "execution_count": 73,
   "metadata": {},
   "outputs": [
    {
     "data": {
      "text/plain": [
       "  Summary of Regression Results   \n",
       "==================================\n",
       "Model:                         VAR\n",
       "Method:                        OLS\n",
       "Date:           Mon, 19, Jul, 2021\n",
       "Time:                     14:34:41\n",
       "--------------------------------------------------------------------\n",
       "No. of Equations:         2.00000    BIC:                    6.55653\n",
       "Nobs:                     408.000    HQIC:                   6.44959\n",
       "Log likelihood:          -2441.29    FPE:                    589.681\n",
       "AIC:                      6.37957    Det(Omega_mle):         564.502\n",
       "--------------------------------------------------------------------\n",
       "Results for equation adjusted_close\n",
       "====================================================================================\n",
       "                       coefficient       std. error           t-stat            prob\n",
       "------------------------------------------------------------------------------------\n",
       "const                     0.179872         0.190197            0.946           0.344\n",
       "L1.adjusted_close        -0.070507         0.049498           -1.424           0.154\n",
       "L1.trend_score            0.042645         0.030283            1.408           0.159\n",
       "L2.adjusted_close        -0.051023         0.049692           -1.027           0.305\n",
       "L2.trend_score           -0.012286         0.030321           -0.405           0.685\n",
       "L3.adjusted_close        -0.022395         0.049881           -0.449           0.653\n",
       "L3.trend_score           -0.006063         0.030025           -0.202           0.840\n",
       "L4.adjusted_close         0.082212         0.049750            1.652           0.098\n",
       "L4.trend_score           -0.084419         0.029946           -2.819           0.005\n",
       "====================================================================================\n",
       "\n",
       "Results for equation trend_score\n",
       "====================================================================================\n",
       "                       coefficient       std. error           t-stat            prob\n",
       "------------------------------------------------------------------------------------\n",
       "const                    -0.010022         0.308988           -0.032           0.974\n",
       "L1.adjusted_close         0.103483         0.080413            1.287           0.198\n",
       "L1.trend_score            0.009932         0.049197            0.202           0.840\n",
       "L2.adjusted_close        -0.110039         0.080728           -1.363           0.173\n",
       "L2.trend_score           -0.010482         0.049258           -0.213           0.831\n",
       "L3.adjusted_close         0.104844         0.081035            1.294           0.196\n",
       "L3.trend_score            0.008845         0.048778            0.181           0.856\n",
       "L4.adjusted_close        -0.068854         0.080823           -0.852           0.394\n",
       "L4.trend_score           -0.183595         0.048650           -3.774           0.000\n",
       "====================================================================================\n",
       "\n",
       "Correlation matrix of residuals\n",
       "                  adjusted_close  trend_score\n",
       "adjusted_close          1.000000     0.000538\n",
       "trend_score             0.000538     1.000000\n",
       "\n"
      ]
     },
     "execution_count": 73,
     "metadata": {},
     "output_type": "execute_result"
    }
   ],
   "source": [
    "var.summary()"
   ]
  },
  {
   "cell_type": "code",
   "execution_count": 74,
   "metadata": {},
   "outputs": [],
   "source": [
    "lag_order = var.k_ar"
   ]
  },
  {
   "cell_type": "code",
   "execution_count": 75,
   "metadata": {},
   "outputs": [
    {
     "name": "stdout",
     "output_type": "stream",
     "text": [
      "4\n"
     ]
    }
   ],
   "source": [
    "print(lag_order)"
   ]
  },
  {
   "cell_type": "code",
   "execution_count": 76,
   "metadata": {},
   "outputs": [],
   "source": [
    "forecast_input = pton_differenced.values[-lag_order:]"
   ]
  },
  {
   "cell_type": "code",
   "execution_count": 77,
   "metadata": {},
   "outputs": [
    {
     "data": {
      "text/plain": [
       "array([[-1.66,  0.  ],\n",
       "       [ 5.94,  0.  ],\n",
       "       [ 1.29,  0.  ],\n",
       "       [-4.29, -6.  ]])"
      ]
     },
     "execution_count": 77,
     "metadata": {},
     "output_type": "execute_result"
    }
   ],
   "source": [
    "forecast_input"
   ]
  },
  {
   "cell_type": "code",
   "execution_count": 78,
   "metadata": {},
   "outputs": [
    {
     "data": {
      "text/html": [
       "<div>\n",
       "<style scoped>\n",
       "    .dataframe tbody tr th:only-of-type {\n",
       "        vertical-align: middle;\n",
       "    }\n",
       "\n",
       "    .dataframe tbody tr th {\n",
       "        vertical-align: top;\n",
       "    }\n",
       "\n",
       "    .dataframe thead th {\n",
       "        text-align: right;\n",
       "    }\n",
       "</style>\n",
       "<table border=\"1\" class=\"dataframe\">\n",
       "  <thead>\n",
       "    <tr style=\"text-align: right;\">\n",
       "      <th></th>\n",
       "      <th>adjusted_close_2d</th>\n",
       "      <th>trend_score_2d</th>\n",
       "    </tr>\n",
       "    <tr>\n",
       "      <th>date</th>\n",
       "      <th></th>\n",
       "      <th></th>\n",
       "    </tr>\n",
       "  </thead>\n",
       "  <tbody>\n",
       "    <tr>\n",
       "      <th>2021-05-18</th>\n",
       "      <td>-0.108845</td>\n",
       "      <td>0.081571</td>\n",
       "    </tr>\n",
       "    <tr>\n",
       "      <th>2021-05-19</th>\n",
       "      <td>0.943081</td>\n",
       "      <td>0.240738</td>\n",
       "    </tr>\n",
       "    <tr>\n",
       "      <th>2021-05-20</th>\n",
       "      <td>0.366705</td>\n",
       "      <td>-0.490592</td>\n",
       "    </tr>\n",
       "    <tr>\n",
       "      <th>2021-05-21</th>\n",
       "      <td>0.237782</td>\n",
       "      <td>1.303015</td>\n",
       "    </tr>\n",
       "    <tr>\n",
       "      <th>2021-05-24</th>\n",
       "      <td>0.167576</td>\n",
       "      <td>0.085840</td>\n",
       "    </tr>\n",
       "    <tr>\n",
       "      <th>2021-05-25</th>\n",
       "      <td>0.195549</td>\n",
       "      <td>-0.106677</td>\n",
       "    </tr>\n",
       "    <tr>\n",
       "      <th>2021-05-26</th>\n",
       "      <td>0.210267</td>\n",
       "      <td>0.091091</td>\n",
       "    </tr>\n",
       "    <tr>\n",
       "      <th>2021-05-27</th>\n",
       "      <td>0.065541</td>\n",
       "      <td>-0.245029</td>\n",
       "    </tr>\n",
       "    <tr>\n",
       "      <th>2021-05-28</th>\n",
       "      <td>0.155752</td>\n",
       "      <td>-0.037505</td>\n",
       "    </tr>\n",
       "    <tr>\n",
       "      <th>2021-06-01</th>\n",
       "      <td>0.186778</td>\n",
       "      <td>0.030051</td>\n",
       "    </tr>\n",
       "  </tbody>\n",
       "</table>\n",
       "</div>"
      ],
      "text/plain": [
       "            adjusted_close_2d  trend_score_2d\n",
       "date                                         \n",
       "2021-05-18          -0.108845        0.081571\n",
       "2021-05-19           0.943081        0.240738\n",
       "2021-05-20           0.366705       -0.490592\n",
       "2021-05-21           0.237782        1.303015\n",
       "2021-05-24           0.167576        0.085840\n",
       "2021-05-25           0.195549       -0.106677\n",
       "2021-05-26           0.210267        0.091091\n",
       "2021-05-27           0.065541       -0.245029\n",
       "2021-05-28           0.155752       -0.037505\n",
       "2021-06-01           0.186778        0.030051"
      ]
     },
     "execution_count": 78,
     "metadata": {},
     "output_type": "execute_result"
    }
   ],
   "source": [
    "fc = var.forecast(y=forecast_input, steps=nobs)\n",
    "df_forecast = pd.DataFrame(fc, index=pton_test.index[-nobs:], columns=pton_train.columns + '_2d')\n",
    "df_forecast"
   ]
  },
  {
   "cell_type": "code",
   "execution_count": 79,
   "metadata": {},
   "outputs": [],
   "source": [
    "def invert_transformation(df_train, df_forecast, second_diff=False):\n",
    "    \"\"\"Revert back the differencing to get the forecast to original scale.\"\"\"\n",
    "    df_fc = df_forecast.copy()\n",
    "    columns = df_train.columns\n",
    "    for col in columns:        \n",
    "        # Roll back 2nd Diff\n",
    "        if second_diff:\n",
    "            df_fc[str(col)+'_1d'] = (df_train[col].iloc[-1]-df_train[col].iloc[-2]) + df_fc[str(col)+'_2d'].cumsum()\n",
    "        # Roll back 1st Diff\n",
    "        df_fc[str(col)+'_forecast'] = df_train[col].iloc[-1] + df_fc[str(col)+'_1d'].cumsum()\n",
    "    return df_fc"
   ]
  },
  {
   "cell_type": "code",
   "execution_count": 80,
   "metadata": {},
   "outputs": [
    {
     "data": {
      "text/html": [
       "<div>\n",
       "<style scoped>\n",
       "    .dataframe tbody tr th:only-of-type {\n",
       "        vertical-align: middle;\n",
       "    }\n",
       "\n",
       "    .dataframe tbody tr th {\n",
       "        vertical-align: top;\n",
       "    }\n",
       "\n",
       "    .dataframe thead th {\n",
       "        text-align: right;\n",
       "    }\n",
       "</style>\n",
       "<table border=\"1\" class=\"dataframe\">\n",
       "  <thead>\n",
       "    <tr style=\"text-align: right;\">\n",
       "      <th></th>\n",
       "      <th>adjusted_close_2d</th>\n",
       "      <th>trend_score_2d</th>\n",
       "      <th>adjusted_close_1d</th>\n",
       "      <th>adjusted_close_forecast</th>\n",
       "      <th>trend_score_1d</th>\n",
       "      <th>trend_score_forecast</th>\n",
       "    </tr>\n",
       "    <tr>\n",
       "      <th>date</th>\n",
       "      <th></th>\n",
       "      <th></th>\n",
       "      <th></th>\n",
       "      <th></th>\n",
       "      <th></th>\n",
       "      <th></th>\n",
       "    </tr>\n",
       "  </thead>\n",
       "  <tbody>\n",
       "    <tr>\n",
       "      <th>2021-05-18</th>\n",
       "      <td>-0.108845</td>\n",
       "      <td>0.081571</td>\n",
       "      <td>-4.398845</td>\n",
       "      <td>87.891155</td>\n",
       "      <td>-5.918429</td>\n",
       "      <td>16.081571</td>\n",
       "    </tr>\n",
       "    <tr>\n",
       "      <th>2021-05-19</th>\n",
       "      <td>0.943081</td>\n",
       "      <td>0.240738</td>\n",
       "      <td>-3.455764</td>\n",
       "      <td>84.435391</td>\n",
       "      <td>-5.677691</td>\n",
       "      <td>10.403881</td>\n",
       "    </tr>\n",
       "    <tr>\n",
       "      <th>2021-05-20</th>\n",
       "      <td>0.366705</td>\n",
       "      <td>-0.490592</td>\n",
       "      <td>-3.089059</td>\n",
       "      <td>81.346332</td>\n",
       "      <td>-6.168283</td>\n",
       "      <td>4.235598</td>\n",
       "    </tr>\n",
       "    <tr>\n",
       "      <th>2021-05-21</th>\n",
       "      <td>0.237782</td>\n",
       "      <td>1.303015</td>\n",
       "      <td>-2.851277</td>\n",
       "      <td>78.495055</td>\n",
       "      <td>-4.865267</td>\n",
       "      <td>-0.629669</td>\n",
       "    </tr>\n",
       "    <tr>\n",
       "      <th>2021-05-24</th>\n",
       "      <td>0.167576</td>\n",
       "      <td>0.085840</td>\n",
       "      <td>-2.683701</td>\n",
       "      <td>75.811354</td>\n",
       "      <td>-4.779427</td>\n",
       "      <td>-5.409096</td>\n",
       "    </tr>\n",
       "    <tr>\n",
       "      <th>2021-05-25</th>\n",
       "      <td>0.195549</td>\n",
       "      <td>-0.106677</td>\n",
       "      <td>-2.488152</td>\n",
       "      <td>73.323202</td>\n",
       "      <td>-4.886104</td>\n",
       "      <td>-10.295200</td>\n",
       "    </tr>\n",
       "    <tr>\n",
       "      <th>2021-05-26</th>\n",
       "      <td>0.210267</td>\n",
       "      <td>0.091091</td>\n",
       "      <td>-2.277885</td>\n",
       "      <td>71.045317</td>\n",
       "      <td>-4.795013</td>\n",
       "      <td>-15.090214</td>\n",
       "    </tr>\n",
       "    <tr>\n",
       "      <th>2021-05-27</th>\n",
       "      <td>0.065541</td>\n",
       "      <td>-0.245029</td>\n",
       "      <td>-2.212344</td>\n",
       "      <td>68.832972</td>\n",
       "      <td>-5.040042</td>\n",
       "      <td>-20.130256</td>\n",
       "    </tr>\n",
       "    <tr>\n",
       "      <th>2021-05-28</th>\n",
       "      <td>0.155752</td>\n",
       "      <td>-0.037505</td>\n",
       "      <td>-2.056593</td>\n",
       "      <td>66.776379</td>\n",
       "      <td>-5.077548</td>\n",
       "      <td>-25.207803</td>\n",
       "    </tr>\n",
       "    <tr>\n",
       "      <th>2021-06-01</th>\n",
       "      <td>0.186778</td>\n",
       "      <td>0.030051</td>\n",
       "      <td>-1.869815</td>\n",
       "      <td>64.906564</td>\n",
       "      <td>-5.047496</td>\n",
       "      <td>-30.255300</td>\n",
       "    </tr>\n",
       "  </tbody>\n",
       "</table>\n",
       "</div>"
      ],
      "text/plain": [
       "            adjusted_close_2d  trend_score_2d  adjusted_close_1d  \\\n",
       "date                                                               \n",
       "2021-05-18          -0.108845        0.081571          -4.398845   \n",
       "2021-05-19           0.943081        0.240738          -3.455764   \n",
       "2021-05-20           0.366705       -0.490592          -3.089059   \n",
       "2021-05-21           0.237782        1.303015          -2.851277   \n",
       "2021-05-24           0.167576        0.085840          -2.683701   \n",
       "2021-05-25           0.195549       -0.106677          -2.488152   \n",
       "2021-05-26           0.210267        0.091091          -2.277885   \n",
       "2021-05-27           0.065541       -0.245029          -2.212344   \n",
       "2021-05-28           0.155752       -0.037505          -2.056593   \n",
       "2021-06-01           0.186778        0.030051          -1.869815   \n",
       "\n",
       "            adjusted_close_forecast  trend_score_1d  trend_score_forecast  \n",
       "date                                                                       \n",
       "2021-05-18                87.891155       -5.918429             16.081571  \n",
       "2021-05-19                84.435391       -5.677691             10.403881  \n",
       "2021-05-20                81.346332       -6.168283              4.235598  \n",
       "2021-05-21                78.495055       -4.865267             -0.629669  \n",
       "2021-05-24                75.811354       -4.779427             -5.409096  \n",
       "2021-05-25                73.323202       -4.886104            -10.295200  \n",
       "2021-05-26                71.045317       -4.795013            -15.090214  \n",
       "2021-05-27                68.832972       -5.040042            -20.130256  \n",
       "2021-05-28                66.776379       -5.077548            -25.207803  \n",
       "2021-06-01                64.906564       -5.047496            -30.255300  "
      ]
     },
     "execution_count": 80,
     "metadata": {},
     "output_type": "execute_result"
    }
   ],
   "source": [
    "df_results = invert_transformation(pton_train, df_forecast, second_diff=True)\n",
    "df_results"
   ]
  },
  {
   "cell_type": "code",
   "execution_count": 81,
   "metadata": {},
   "outputs": [],
   "source": [
    "predicted_adj_close = df_results[['adjusted_close_forecast', 'trend_score_forecast']]"
   ]
  },
  {
   "cell_type": "code",
   "execution_count": 82,
   "metadata": {},
   "outputs": [],
   "source": [
    "close_test = pton_test[pton_test.index > datetime(year = 2021, month = 3, day = 1)]"
   ]
  },
  {
   "cell_type": "code",
   "execution_count": 83,
   "metadata": {},
   "outputs": [
    {
     "data": {
      "image/png": "[encoded data removed]",
      "text/plain": [
       "<Figure size 720x432 with 1 Axes>"
      ]
     },
     "metadata": {
      "needs_background": "light"
     },
     "output_type": "display_data"
    }
   ],
   "source": [
    "plt.figure(figsize=(10,6))\n",
    "\n",
    "# Plot testing data.\n",
    "plt.plot(close_test.index, pd.DataFrame(close_test)['adjusted_close'], color = 'orange')\n",
    "plt.plot(close_test.index, pd.DataFrame(close_test)['trend_score'], color = 'red')\n",
    "\n",
    "# Plot predicted test values.\n",
    "plt.plot(predicted_adj_close.index, predicted_adj_close, color = 'green')\n",
    "\n",
    "plt.title(label = 'PTON Adjusted Close and Google Trends Score with VAR Predictions', fontsize=16)\n",
    "plt.show();"
   ]
  },
  {
   "cell_type": "markdown",
   "metadata": {},
   "source": [
    "### Conclusion"
   ]
  },
  {
   "cell_type": "markdown",
   "metadata": {},
   "source": [
    "Above is the graph of the predictions from the VAR model for PTON's adjusted_close and trend score. The time frame is smaller than the other two models. This is because the VAR model seems to have an even worse problem than the other two when it comes to predicting more than a couple days out. It quickly starts to exponentially get worse. \n",
    "\n",
    "The results of this var model are no better than the other two, but making this provided a few insights. First, it's a signifigant finding that trend_score passed the Granger's Causation Test. This means that there is a signifigant relationship between trend_score and adjusted_close. My VAR model isn't any better than the other two models, but the statistical relationship between trend_score and adjusted_close at least means that there is the possibility of improving stock forecasting using trend_score"
   ]
  },
  {
   "cell_type": "markdown",
   "metadata": {},
   "source": [
    "The next step will be to take this code created for PTON and generalize it so it can be used for other tickers. Once I have performed the modeling on 5-10 tickers I'll interperet the results as a group and come to my final conclusions."
   ]
  }
 ],
 "metadata": {
  "kernelspec": {
   "display_name": "Python 3",
   "language": "python",
   "name": "python3"
  },
  "language_info": {
   "codemirror_mode": {
    "name": "ipython",
    "version": 3
   },
   "file_extension": ".py",
   "mimetype": "text/x-python",
   "name": "python",
   "nbconvert_exporter": "python",
   "pygments_lexer": "ipython3",
   "version": "3.8.5"
  }
 },
 "nbformat": 4,
 "nbformat_minor": 4
}
